{
  "nbformat": 4,
  "nbformat_minor": 0,
  "metadata": {
    "colab": {
      "name": "Trabalhando com Pandas.ipynb",
      "provenance": [],
      "collapsed_sections": [],
      "mount_file_id": "1_kjPgN6nNF5utTAk6LT6yPK6G7JvPbR-",
      "authorship_tag": "ABX9TyPsEF+Go3d0xQSS59RvDEy1",
      "include_colab_link": true
    },
    "kernelspec": {
      "name": "python3",
      "display_name": "Python 3"
    },
    "language_info": {
      "name": "python"
    }
  },
  "cells": [
    {
      "cell_type": "markdown",
      "metadata": {
        "id": "view-in-github",
        "colab_type": "text"
      },
      "source": [
        "<a href=\"https://colab.research.google.com/github/lanzetti1/Tests/blob/main/Trabalhando_com_Pandas.ipynb\" target=\"_parent\"><img src=\"https://colab.research.google.com/assets/colab-badge.svg\" alt=\"Open In Colab\"/></a>"
      ]
    },
    {
      "cell_type": "code",
      "metadata": {
        "id": "kF5wlcqv47za"
      },
      "source": [
        "# Importando a biblioteca pandas\n",
        "import pandas as pd\n"
      ],
      "execution_count": null,
      "outputs": []
    },
    {
      "cell_type": "markdown",
      "metadata": {
        "id": "oGIZprijBG68"
      },
      "source": [
        "É preciso importar um arquivo csv para poder utilizar no exercício. Encontrei um arquivo de nome \"gapminder - gapminder_csv\" na página https://www.kaggle.com. Ela apresenta a renda per capta da população do mundo no ano de 2007."
      ]
    },
    {
      "cell_type": "markdown",
      "metadata": {
        "id": "0_9_jyJ_CTvi"
      },
      "source": [
        "Criei uma pasta chamada Datasets no meu Google Drive e importei esse arquivo para a minha pasta."
      ]
    },
    {
      "cell_type": "code",
      "metadata": {
        "id": "BhrIr86T7UGc"
      },
      "source": [
        "# Importando um arquivo do google drive. \n",
        "# Dentro da pasta Datasets escolha copiar caminho e entre aspas faça control v \n",
        "# df = pd.read_csv(\"/content/drive/MyDrive/Datasets/gapminder - gapminder.csv\")\n",
        "\n",
        "df = pd.read_csv(\"/content/drive/MyDrive/Datasets/gapminder - gapminder.csv\")"
      ],
      "execution_count": null,
      "outputs": []
    },
    {
      "cell_type": "code",
      "metadata": {
        "colab": {
          "base_uri": "https://localhost:8080/",
          "height": 206
        },
        "id": "aDm51L5N_5p2",
        "outputId": "7962da06-3f96-4211-9b2b-9237b09015b9"
      },
      "source": [
        "# Lendo as primeiras cinco linhas.\n",
        "# A coluna \"Unnamed: 0\" é a posição da tabela de onde ela foi retirada.\n",
        "# gdp_cap significa Gross Domestic Product per Capta ou PIB per Capta.\n",
        "# O ponto \".\" nos valores abaixo é equivalente a vírgula \",\" no Brasil\n",
        "\n",
        "df.head()"
      ],
      "execution_count": null,
      "outputs": [
        {
          "output_type": "execute_result",
          "data": {
            "text/html": [
              "<div>\n",
              "<style scoped>\n",
              "    .dataframe tbody tr th:only-of-type {\n",
              "        vertical-align: middle;\n",
              "    }\n",
              "\n",
              "    .dataframe tbody tr th {\n",
              "        vertical-align: top;\n",
              "    }\n",
              "\n",
              "    .dataframe thead th {\n",
              "        text-align: right;\n",
              "    }\n",
              "</style>\n",
              "<table border=\"1\" class=\"dataframe\">\n",
              "  <thead>\n",
              "    <tr style=\"text-align: right;\">\n",
              "      <th></th>\n",
              "      <th>Unnamed: 0</th>\n",
              "      <th>country</th>\n",
              "      <th>year</th>\n",
              "      <th>population</th>\n",
              "      <th>continent</th>\n",
              "      <th>life_exp</th>\n",
              "      <th>gdp_cap</th>\n",
              "    </tr>\n",
              "  </thead>\n",
              "  <tbody>\n",
              "    <tr>\n",
              "      <th>0</th>\n",
              "      <td>11</td>\n",
              "      <td>Afghanistan</td>\n",
              "      <td>2007</td>\n",
              "      <td>31889923</td>\n",
              "      <td>Asia</td>\n",
              "      <td>43.828</td>\n",
              "      <td>974.580338</td>\n",
              "    </tr>\n",
              "    <tr>\n",
              "      <th>1</th>\n",
              "      <td>23</td>\n",
              "      <td>Albania</td>\n",
              "      <td>2007</td>\n",
              "      <td>3600523</td>\n",
              "      <td>Europe</td>\n",
              "      <td>76.423</td>\n",
              "      <td>5937.029526</td>\n",
              "    </tr>\n",
              "    <tr>\n",
              "      <th>2</th>\n",
              "      <td>35</td>\n",
              "      <td>Algeria</td>\n",
              "      <td>2007</td>\n",
              "      <td>33333216</td>\n",
              "      <td>Africa</td>\n",
              "      <td>72.301</td>\n",
              "      <td>6223.367465</td>\n",
              "    </tr>\n",
              "    <tr>\n",
              "      <th>3</th>\n",
              "      <td>47</td>\n",
              "      <td>Angola</td>\n",
              "      <td>2007</td>\n",
              "      <td>12420476</td>\n",
              "      <td>Africa</td>\n",
              "      <td>42.731</td>\n",
              "      <td>4797.231267</td>\n",
              "    </tr>\n",
              "    <tr>\n",
              "      <th>4</th>\n",
              "      <td>59</td>\n",
              "      <td>Argentina</td>\n",
              "      <td>2007</td>\n",
              "      <td>40301927</td>\n",
              "      <td>Americas</td>\n",
              "      <td>75.320</td>\n",
              "      <td>12779.379640</td>\n",
              "    </tr>\n",
              "  </tbody>\n",
              "</table>\n",
              "</div>"
            ],
            "text/plain": [
              "   Unnamed: 0      country  year  population continent  life_exp       gdp_cap\n",
              "0          11  Afghanistan  2007    31889923      Asia    43.828    974.580338\n",
              "1          23      Albania  2007     3600523    Europe    76.423   5937.029526\n",
              "2          35      Algeria  2007    33333216    Africa    72.301   6223.367465\n",
              "3          47       Angola  2007    12420476    Africa    42.731   4797.231267\n",
              "4          59    Argentina  2007    40301927  Americas    75.320  12779.379640"
            ]
          },
          "metadata": {},
          "execution_count": 21
        }
      ]
    },
    {
      "cell_type": "markdown",
      "metadata": {
        "id": "4pjghxe_Fy6k"
      },
      "source": [
        "Para alterar os nomes dos títulos (colunas) utilizo uma função do dicionário chamada rename. O título novo/antigo deve vir entre haspas, separados por \":\" e entre \"{ }\". "
      ]
    },
    {
      "cell_type": "code",
      "metadata": {
        "id": "iYUJxVJQA81C"
      },
      "source": [
        "# df.rename(columns ={\"nomeantigo1\":\"novonome1\", \"nomeantigo2\":\"nomenovo2\", ...})\n",
        "# Faço df = df.rename(...) para salvar o novo dataframe.\n",
        "\n",
        "df = df.rename(columns={\"Unnamed: 0\":\"Posição\", \"country\":\"País\", \"year\":\"Ano\", \"population\":\"População\", \"continent\":\"Continente\", \"life_exp\":\"Expectativa de Vida\", \"gdp_cap\":\"PIB\"})"
      ],
      "execution_count": null,
      "outputs": []
    },
    {
      "cell_type": "code",
      "metadata": {
        "colab": {
          "base_uri": "https://localhost:8080/",
          "height": 206
        },
        "id": "01YOtgwfeIZ2",
        "outputId": "a2fa58b3-b201-4fd3-f6f4-ba85098421ad"
      },
      "source": [
        "df.head()"
      ],
      "execution_count": null,
      "outputs": [
        {
          "output_type": "execute_result",
          "data": {
            "text/html": [
              "<div>\n",
              "<style scoped>\n",
              "    .dataframe tbody tr th:only-of-type {\n",
              "        vertical-align: middle;\n",
              "    }\n",
              "\n",
              "    .dataframe tbody tr th {\n",
              "        vertical-align: top;\n",
              "    }\n",
              "\n",
              "    .dataframe thead th {\n",
              "        text-align: right;\n",
              "    }\n",
              "</style>\n",
              "<table border=\"1\" class=\"dataframe\">\n",
              "  <thead>\n",
              "    <tr style=\"text-align: right;\">\n",
              "      <th></th>\n",
              "      <th>Posição</th>\n",
              "      <th>País</th>\n",
              "      <th>Ano</th>\n",
              "      <th>População</th>\n",
              "      <th>Continente</th>\n",
              "      <th>Expectativa de Vida</th>\n",
              "      <th>PIB</th>\n",
              "    </tr>\n",
              "  </thead>\n",
              "  <tbody>\n",
              "    <tr>\n",
              "      <th>0</th>\n",
              "      <td>11</td>\n",
              "      <td>Afghanistan</td>\n",
              "      <td>2007</td>\n",
              "      <td>31889923</td>\n",
              "      <td>Asia</td>\n",
              "      <td>43.828</td>\n",
              "      <td>974.580338</td>\n",
              "    </tr>\n",
              "    <tr>\n",
              "      <th>1</th>\n",
              "      <td>23</td>\n",
              "      <td>Albania</td>\n",
              "      <td>2007</td>\n",
              "      <td>3600523</td>\n",
              "      <td>Europe</td>\n",
              "      <td>76.423</td>\n",
              "      <td>5937.029526</td>\n",
              "    </tr>\n",
              "    <tr>\n",
              "      <th>2</th>\n",
              "      <td>35</td>\n",
              "      <td>Algeria</td>\n",
              "      <td>2007</td>\n",
              "      <td>33333216</td>\n",
              "      <td>Africa</td>\n",
              "      <td>72.301</td>\n",
              "      <td>6223.367465</td>\n",
              "    </tr>\n",
              "    <tr>\n",
              "      <th>3</th>\n",
              "      <td>47</td>\n",
              "      <td>Angola</td>\n",
              "      <td>2007</td>\n",
              "      <td>12420476</td>\n",
              "      <td>Africa</td>\n",
              "      <td>42.731</td>\n",
              "      <td>4797.231267</td>\n",
              "    </tr>\n",
              "    <tr>\n",
              "      <th>4</th>\n",
              "      <td>59</td>\n",
              "      <td>Argentina</td>\n",
              "      <td>2007</td>\n",
              "      <td>40301927</td>\n",
              "      <td>Americas</td>\n",
              "      <td>75.320</td>\n",
              "      <td>12779.379640</td>\n",
              "    </tr>\n",
              "  </tbody>\n",
              "</table>\n",
              "</div>"
            ],
            "text/plain": [
              "   Posição         País   Ano  ...  Continente Expectativa de Vida           PIB\n",
              "0       11  Afghanistan  2007  ...        Asia              43.828    974.580338\n",
              "1       23      Albania  2007  ...      Europe              76.423   5937.029526\n",
              "2       35      Algeria  2007  ...      Africa              72.301   6223.367465\n",
              "3       47       Angola  2007  ...      Africa              42.731   4797.231267\n",
              "4       59    Argentina  2007  ...    Americas              75.320  12779.379640\n",
              "\n",
              "[5 rows x 7 columns]"
            ]
          },
          "metadata": {},
          "execution_count": 28
        }
      ]
    },
    {
      "cell_type": "markdown",
      "metadata": {
        "id": "auv3S3vzexiR"
      },
      "source": [
        "Para saber quantas linhas e colunas existem uso a função df.shape"
      ]
    },
    {
      "cell_type": "code",
      "metadata": {
        "colab": {
          "base_uri": "https://localhost:8080/"
        },
        "id": "Vk6xk6EWe_5Y",
        "outputId": "badc857d-79ab-47ea-eec8-29a526d0b769"
      },
      "source": [
        "df.shape"
      ],
      "execution_count": null,
      "outputs": [
        {
          "output_type": "execute_result",
          "data": {
            "text/plain": [
              "(142, 7)"
            ]
          },
          "metadata": {},
          "execution_count": 29
        }
      ]
    },
    {
      "cell_type": "markdown",
      "metadata": {
        "id": "cEKV8c4tfHSH"
      },
      "source": [
        "Para saber apenas os nomes das colunas uso df.columns"
      ]
    },
    {
      "cell_type": "code",
      "metadata": {
        "colab": {
          "base_uri": "https://localhost:8080/"
        },
        "id": "C8-LhfdDfECL",
        "outputId": "2eceec34-10b0-409f-b25a-2214c55b265b"
      },
      "source": [
        "df.columns"
      ],
      "execution_count": null,
      "outputs": [
        {
          "output_type": "execute_result",
          "data": {
            "text/plain": [
              "Index(['Posição', 'País', 'Ano', 'População', 'Continente',\n",
              "       'Expectativa de Vida', 'PIB'],\n",
              "      dtype='object')"
            ]
          },
          "metadata": {},
          "execution_count": 30
        }
      ]
    },
    {
      "cell_type": "code",
      "metadata": {
        "colab": {
          "base_uri": "https://localhost:8080/"
        },
        "id": "L5nSs8WHfgd6",
        "outputId": "29a1e6b9-28dc-49b0-ba96-f448bba7f1ea"
      },
      "source": [
        "# Para saber o tipo de dado utiliza-se df.dtypes\n",
        "\n",
        "df.dtypes"
      ],
      "execution_count": null,
      "outputs": [
        {
          "output_type": "execute_result",
          "data": {
            "text/plain": [
              "Posição                  int64\n",
              "País                    object\n",
              "Ano                      int64\n",
              "População                int64\n",
              "Continente              object\n",
              "Expectativa de Vida    float64\n",
              "PIB                    float64\n",
              "dtype: object"
            ]
          },
          "metadata": {},
          "execution_count": 33
        }
      ]
    },
    {
      "cell_type": "code",
      "metadata": {
        "colab": {
          "base_uri": "https://localhost:8080/",
          "height": 206
        },
        "id": "pQzKe--3f5rT",
        "outputId": "8cfa3668-a320-4193-bf90-0e85fc10b62d"
      },
      "source": [
        "# Para saber as últimas linhas do conjunto de dados utilizo df.tail()\n",
        "\n",
        "df.tail()"
      ],
      "execution_count": null,
      "outputs": [
        {
          "output_type": "execute_result",
          "data": {
            "text/html": [
              "<div>\n",
              "<style scoped>\n",
              "    .dataframe tbody tr th:only-of-type {\n",
              "        vertical-align: middle;\n",
              "    }\n",
              "\n",
              "    .dataframe tbody tr th {\n",
              "        vertical-align: top;\n",
              "    }\n",
              "\n",
              "    .dataframe thead th {\n",
              "        text-align: right;\n",
              "    }\n",
              "</style>\n",
              "<table border=\"1\" class=\"dataframe\">\n",
              "  <thead>\n",
              "    <tr style=\"text-align: right;\">\n",
              "      <th></th>\n",
              "      <th>Posição</th>\n",
              "      <th>País</th>\n",
              "      <th>Ano</th>\n",
              "      <th>População</th>\n",
              "      <th>Continente</th>\n",
              "      <th>Expectativa de Vida</th>\n",
              "      <th>PIB</th>\n",
              "    </tr>\n",
              "  </thead>\n",
              "  <tbody>\n",
              "    <tr>\n",
              "      <th>137</th>\n",
              "      <td>1655</td>\n",
              "      <td>Vietnam</td>\n",
              "      <td>2007</td>\n",
              "      <td>85262356</td>\n",
              "      <td>Asia</td>\n",
              "      <td>74.249</td>\n",
              "      <td>2441.576404</td>\n",
              "    </tr>\n",
              "    <tr>\n",
              "      <th>138</th>\n",
              "      <td>1667</td>\n",
              "      <td>West Bank and Gaza</td>\n",
              "      <td>2007</td>\n",
              "      <td>4018332</td>\n",
              "      <td>Asia</td>\n",
              "      <td>73.422</td>\n",
              "      <td>3025.349798</td>\n",
              "    </tr>\n",
              "    <tr>\n",
              "      <th>139</th>\n",
              "      <td>1679</td>\n",
              "      <td>Yemen, Rep.</td>\n",
              "      <td>2007</td>\n",
              "      <td>22211743</td>\n",
              "      <td>Asia</td>\n",
              "      <td>62.698</td>\n",
              "      <td>2280.769906</td>\n",
              "    </tr>\n",
              "    <tr>\n",
              "      <th>140</th>\n",
              "      <td>1691</td>\n",
              "      <td>Zambia</td>\n",
              "      <td>2007</td>\n",
              "      <td>11746035</td>\n",
              "      <td>Africa</td>\n",
              "      <td>42.384</td>\n",
              "      <td>1271.211593</td>\n",
              "    </tr>\n",
              "    <tr>\n",
              "      <th>141</th>\n",
              "      <td>1703</td>\n",
              "      <td>Zimbabwe</td>\n",
              "      <td>2007</td>\n",
              "      <td>12311143</td>\n",
              "      <td>Africa</td>\n",
              "      <td>43.487</td>\n",
              "      <td>469.709298</td>\n",
              "    </tr>\n",
              "  </tbody>\n",
              "</table>\n",
              "</div>"
            ],
            "text/plain": [
              "     Posição                País  ...  Expectativa de Vida          PIB\n",
              "137     1655             Vietnam  ...               74.249  2441.576404\n",
              "138     1667  West Bank and Gaza  ...               73.422  3025.349798\n",
              "139     1679         Yemen, Rep.  ...               62.698  2280.769906\n",
              "140     1691              Zambia  ...               42.384  1271.211593\n",
              "141     1703            Zimbabwe  ...               43.487   469.709298\n",
              "\n",
              "[5 rows x 7 columns]"
            ]
          },
          "metadata": {},
          "execution_count": 35
        }
      ]
    },
    {
      "cell_type": "code",
      "metadata": {
        "id": "0ka9TSU6gu-7",
        "colab": {
          "base_uri": "https://localhost:8080/",
          "height": 300
        },
        "outputId": "c8d56e41-3691-48df-8064-c56404067425"
      },
      "source": [
        "# Para retornar informações estatísticas sobre a tabela utilizamos df.describe()\n",
        "\n",
        "df.describe()"
      ],
      "execution_count": null,
      "outputs": [
        {
          "output_type": "execute_result",
          "data": {
            "text/html": [
              "<div>\n",
              "<style scoped>\n",
              "    .dataframe tbody tr th:only-of-type {\n",
              "        vertical-align: middle;\n",
              "    }\n",
              "\n",
              "    .dataframe tbody tr th {\n",
              "        vertical-align: top;\n",
              "    }\n",
              "\n",
              "    .dataframe thead th {\n",
              "        text-align: right;\n",
              "    }\n",
              "</style>\n",
              "<table border=\"1\" class=\"dataframe\">\n",
              "  <thead>\n",
              "    <tr style=\"text-align: right;\">\n",
              "      <th></th>\n",
              "      <th>Posição</th>\n",
              "      <th>Ano</th>\n",
              "      <th>População</th>\n",
              "      <th>Expectativa de Vida</th>\n",
              "      <th>PIB</th>\n",
              "    </tr>\n",
              "  </thead>\n",
              "  <tbody>\n",
              "    <tr>\n",
              "      <th>count</th>\n",
              "      <td>142.000000</td>\n",
              "      <td>142.0</td>\n",
              "      <td>1.420000e+02</td>\n",
              "      <td>142.000000</td>\n",
              "      <td>142.000000</td>\n",
              "    </tr>\n",
              "    <tr>\n",
              "      <th>mean</th>\n",
              "      <td>857.000000</td>\n",
              "      <td>2007.0</td>\n",
              "      <td>4.402122e+07</td>\n",
              "      <td>67.007423</td>\n",
              "      <td>11680.071820</td>\n",
              "    </tr>\n",
              "    <tr>\n",
              "      <th>std</th>\n",
              "      <td>493.631441</td>\n",
              "      <td>0.0</td>\n",
              "      <td>1.476214e+08</td>\n",
              "      <td>12.073021</td>\n",
              "      <td>12859.937337</td>\n",
              "    </tr>\n",
              "    <tr>\n",
              "      <th>min</th>\n",
              "      <td>11.000000</td>\n",
              "      <td>2007.0</td>\n",
              "      <td>1.995790e+05</td>\n",
              "      <td>39.613000</td>\n",
              "      <td>277.551859</td>\n",
              "    </tr>\n",
              "    <tr>\n",
              "      <th>25%</th>\n",
              "      <td>434.000000</td>\n",
              "      <td>2007.0</td>\n",
              "      <td>4.508034e+06</td>\n",
              "      <td>57.160250</td>\n",
              "      <td>1624.842248</td>\n",
              "    </tr>\n",
              "    <tr>\n",
              "      <th>50%</th>\n",
              "      <td>857.000000</td>\n",
              "      <td>2007.0</td>\n",
              "      <td>1.051753e+07</td>\n",
              "      <td>71.935500</td>\n",
              "      <td>6124.371109</td>\n",
              "    </tr>\n",
              "    <tr>\n",
              "      <th>75%</th>\n",
              "      <td>1280.000000</td>\n",
              "      <td>2007.0</td>\n",
              "      <td>3.121004e+07</td>\n",
              "      <td>76.413250</td>\n",
              "      <td>18008.835640</td>\n",
              "    </tr>\n",
              "    <tr>\n",
              "      <th>max</th>\n",
              "      <td>1703.000000</td>\n",
              "      <td>2007.0</td>\n",
              "      <td>1.318683e+09</td>\n",
              "      <td>82.603000</td>\n",
              "      <td>49357.190170</td>\n",
              "    </tr>\n",
              "  </tbody>\n",
              "</table>\n",
              "</div>"
            ],
            "text/plain": [
              "           Posição     Ano     População  Expectativa de Vida           PIB\n",
              "count   142.000000   142.0  1.420000e+02           142.000000    142.000000\n",
              "mean    857.000000  2007.0  4.402122e+07            67.007423  11680.071820\n",
              "std     493.631441     0.0  1.476214e+08            12.073021  12859.937337\n",
              "min      11.000000  2007.0  1.995790e+05            39.613000    277.551859\n",
              "25%     434.000000  2007.0  4.508034e+06            57.160250   1624.842248\n",
              "50%     857.000000  2007.0  1.051753e+07            71.935500   6124.371109\n",
              "75%    1280.000000  2007.0  3.121004e+07            76.413250  18008.835640\n",
              "max    1703.000000  2007.0  1.318683e+09            82.603000  49357.190170"
            ]
          },
          "metadata": {},
          "execution_count": 37
        }
      ]
    },
    {
      "cell_type": "markdown",
      "metadata": {
        "id": "otX3FdRTrpFS"
      },
      "source": [
        "Para filtrar informções da tabela, posso verificar por exemplo os nomes dos continentes. Utilizo a função unique para filtrar apenas cada um dos continentes."
      ]
    },
    {
      "cell_type": "code",
      "metadata": {
        "colab": {
          "base_uri": "https://localhost:8080/"
        },
        "id": "xGIiBAwwpqgm",
        "outputId": "e35c6a32-388b-4047-add6-e6b21b82b920"
      },
      "source": [
        "df[\"Continente\"].unique()"
      ],
      "execution_count": null,
      "outputs": [
        {
          "output_type": "execute_result",
          "data": {
            "text/plain": [
              "array(['Asia', 'Europe', 'Africa', 'Americas', 'Oceania'], dtype=object)"
            ]
          },
          "metadata": {},
          "execution_count": 41
        }
      ]
    },
    {
      "cell_type": "markdown",
      "metadata": {
        "id": "MQKjFesHua2p"
      },
      "source": [
        "Encontrado o nome dos continentes faço um filtro, por exemplo Africa, e atribuo os valores do continente Africa a ele."
      ]
    },
    {
      "cell_type": "code",
      "metadata": {
        "id": "shbUg89Vs7yX"
      },
      "source": [
        "# Africa = df.loc[def[\"Continente\"] == \"Africa\"] atribui à Africa os atributos da string \"Africa\" \n",
        "# df.loc[...] atribui localização aos dados de Oceania.\n",
        "\n",
        "Africa = df.loc[df[\"Continente\"] == \"Africa\"]"
      ],
      "execution_count": null,
      "outputs": []
    },
    {
      "cell_type": "code",
      "metadata": {
        "colab": {
          "base_uri": "https://localhost:8080/",
          "height": 206
        },
        "id": "tZdP544MwKYn",
        "outputId": "0b04518c-eed6-4be7-9c4a-51cc1584b3bf"
      },
      "source": [
        "Africa.head()"
      ],
      "execution_count": null,
      "outputs": [
        {
          "output_type": "execute_result",
          "data": {
            "text/html": [
              "<div>\n",
              "<style scoped>\n",
              "    .dataframe tbody tr th:only-of-type {\n",
              "        vertical-align: middle;\n",
              "    }\n",
              "\n",
              "    .dataframe tbody tr th {\n",
              "        vertical-align: top;\n",
              "    }\n",
              "\n",
              "    .dataframe thead th {\n",
              "        text-align: right;\n",
              "    }\n",
              "</style>\n",
              "<table border=\"1\" class=\"dataframe\">\n",
              "  <thead>\n",
              "    <tr style=\"text-align: right;\">\n",
              "      <th></th>\n",
              "      <th>Posição</th>\n",
              "      <th>País</th>\n",
              "      <th>Ano</th>\n",
              "      <th>População</th>\n",
              "      <th>Continente</th>\n",
              "      <th>Expectativa de Vida</th>\n",
              "      <th>PIB</th>\n",
              "    </tr>\n",
              "  </thead>\n",
              "  <tbody>\n",
              "    <tr>\n",
              "      <th>2</th>\n",
              "      <td>35</td>\n",
              "      <td>Algeria</td>\n",
              "      <td>2007</td>\n",
              "      <td>33333216</td>\n",
              "      <td>Africa</td>\n",
              "      <td>72.301</td>\n",
              "      <td>6223.367465</td>\n",
              "    </tr>\n",
              "    <tr>\n",
              "      <th>3</th>\n",
              "      <td>47</td>\n",
              "      <td>Angola</td>\n",
              "      <td>2007</td>\n",
              "      <td>12420476</td>\n",
              "      <td>Africa</td>\n",
              "      <td>42.731</td>\n",
              "      <td>4797.231267</td>\n",
              "    </tr>\n",
              "    <tr>\n",
              "      <th>10</th>\n",
              "      <td>131</td>\n",
              "      <td>Benin</td>\n",
              "      <td>2007</td>\n",
              "      <td>8078314</td>\n",
              "      <td>Africa</td>\n",
              "      <td>56.728</td>\n",
              "      <td>1441.284873</td>\n",
              "    </tr>\n",
              "    <tr>\n",
              "      <th>13</th>\n",
              "      <td>167</td>\n",
              "      <td>Botswana</td>\n",
              "      <td>2007</td>\n",
              "      <td>1639131</td>\n",
              "      <td>Africa</td>\n",
              "      <td>50.728</td>\n",
              "      <td>12569.851770</td>\n",
              "    </tr>\n",
              "    <tr>\n",
              "      <th>16</th>\n",
              "      <td>203</td>\n",
              "      <td>Burkina Faso</td>\n",
              "      <td>2007</td>\n",
              "      <td>14326203</td>\n",
              "      <td>Africa</td>\n",
              "      <td>52.295</td>\n",
              "      <td>1217.032994</td>\n",
              "    </tr>\n",
              "  </tbody>\n",
              "</table>\n",
              "</div>"
            ],
            "text/plain": [
              "    Posição          País   Ano  ...  Continente Expectativa de Vida           PIB\n",
              "2        35       Algeria  2007  ...      Africa              72.301   6223.367465\n",
              "3        47        Angola  2007  ...      Africa              42.731   4797.231267\n",
              "10      131         Benin  2007  ...      Africa              56.728   1441.284873\n",
              "13      167      Botswana  2007  ...      Africa              50.728  12569.851770\n",
              "16      203  Burkina Faso  2007  ...      Africa              52.295   1217.032994\n",
              "\n",
              "[5 rows x 7 columns]"
            ]
          },
          "metadata": {},
          "execution_count": 48
        }
      ]
    },
    {
      "cell_type": "code",
      "metadata": {
        "colab": {
          "base_uri": "https://localhost:8080/",
          "height": 206
        },
        "id": "wyjwhzuuwfb3",
        "outputId": "a833d62e-a7d0-40bd-df7c-d115dd2b9e9d"
      },
      "source": [
        "Africa.tail()"
      ],
      "execution_count": null,
      "outputs": [
        {
          "output_type": "execute_result",
          "data": {
            "text/html": [
              "<div>\n",
              "<style scoped>\n",
              "    .dataframe tbody tr th:only-of-type {\n",
              "        vertical-align: middle;\n",
              "    }\n",
              "\n",
              "    .dataframe tbody tr th {\n",
              "        vertical-align: top;\n",
              "    }\n",
              "\n",
              "    .dataframe thead th {\n",
              "        text-align: right;\n",
              "    }\n",
              "</style>\n",
              "<table border=\"1\" class=\"dataframe\">\n",
              "  <thead>\n",
              "    <tr style=\"text-align: right;\">\n",
              "      <th></th>\n",
              "      <th>Posição</th>\n",
              "      <th>País</th>\n",
              "      <th>Ano</th>\n",
              "      <th>População</th>\n",
              "      <th>Continente</th>\n",
              "      <th>Expectativa de Vida</th>\n",
              "      <th>PIB</th>\n",
              "    </tr>\n",
              "  </thead>\n",
              "  <tbody>\n",
              "    <tr>\n",
              "      <th>128</th>\n",
              "      <td>1547</td>\n",
              "      <td>Togo</td>\n",
              "      <td>2007</td>\n",
              "      <td>5701579</td>\n",
              "      <td>Africa</td>\n",
              "      <td>58.420</td>\n",
              "      <td>882.969944</td>\n",
              "    </tr>\n",
              "    <tr>\n",
              "      <th>130</th>\n",
              "      <td>1571</td>\n",
              "      <td>Tunisia</td>\n",
              "      <td>2007</td>\n",
              "      <td>10276158</td>\n",
              "      <td>Africa</td>\n",
              "      <td>73.923</td>\n",
              "      <td>7092.923025</td>\n",
              "    </tr>\n",
              "    <tr>\n",
              "      <th>132</th>\n",
              "      <td>1595</td>\n",
              "      <td>Uganda</td>\n",
              "      <td>2007</td>\n",
              "      <td>29170398</td>\n",
              "      <td>Africa</td>\n",
              "      <td>51.542</td>\n",
              "      <td>1056.380121</td>\n",
              "    </tr>\n",
              "    <tr>\n",
              "      <th>140</th>\n",
              "      <td>1691</td>\n",
              "      <td>Zambia</td>\n",
              "      <td>2007</td>\n",
              "      <td>11746035</td>\n",
              "      <td>Africa</td>\n",
              "      <td>42.384</td>\n",
              "      <td>1271.211593</td>\n",
              "    </tr>\n",
              "    <tr>\n",
              "      <th>141</th>\n",
              "      <td>1703</td>\n",
              "      <td>Zimbabwe</td>\n",
              "      <td>2007</td>\n",
              "      <td>12311143</td>\n",
              "      <td>Africa</td>\n",
              "      <td>43.487</td>\n",
              "      <td>469.709298</td>\n",
              "    </tr>\n",
              "  </tbody>\n",
              "</table>\n",
              "</div>"
            ],
            "text/plain": [
              "     Posição      País   Ano  ...  Continente Expectativa de Vida          PIB\n",
              "128     1547      Togo  2007  ...      Africa              58.420   882.969944\n",
              "130     1571   Tunisia  2007  ...      Africa              73.923  7092.923025\n",
              "132     1595    Uganda  2007  ...      Africa              51.542  1056.380121\n",
              "140     1691    Zambia  2007  ...      Africa              42.384  1271.211593\n",
              "141     1703  Zimbabwe  2007  ...      Africa              43.487   469.709298\n",
              "\n",
              "[5 rows x 7 columns]"
            ]
          },
          "metadata": {},
          "execution_count": 49
        }
      ]
    },
    {
      "cell_type": "code",
      "metadata": {
        "colab": {
          "base_uri": "https://localhost:8080/"
        },
        "id": "lOftulmRwkf3",
        "outputId": "94ff33ce-1547-4d1e-f60e-d994962a6f7c"
      },
      "source": [
        "#Para saber quantos países existem em cada continente posso o usar a função groupby. O nunique faz a contagem.\n",
        "\n",
        "df.groupby(\"Continente\")[\"País\"].nunique()"
      ],
      "execution_count": null,
      "outputs": [
        {
          "output_type": "execute_result",
          "data": {
            "text/plain": [
              "Continente\n",
              "Africa      52\n",
              "Americas    25\n",
              "Asia        33\n",
              "Europe      30\n",
              "Oceania      2\n",
              "Name: País, dtype: int64"
            ]
          },
          "metadata": {},
          "execution_count": 50
        }
      ]
    },
    {
      "cell_type": "code",
      "metadata": {
        "colab": {
          "base_uri": "https://localhost:8080/"
        },
        "id": "AKDUVKdHyS5r",
        "outputId": "a60ae1e7-5c0d-45ca-bd54-bb52ab878c2b"
      },
      "source": [
        "# Para saber a espectativa de vida média por continente no ano de 2007.\n",
        "\n",
        "df.groupby(\"Continente\")[\"Expectativa de Vida\"].mean()"
      ],
      "execution_count": null,
      "outputs": [
        {
          "output_type": "execute_result",
          "data": {
            "text/plain": [
              "Continente\n",
              "Africa      54.806038\n",
              "Americas    73.608120\n",
              "Asia        70.728485\n",
              "Europe      77.648600\n",
              "Oceania     80.719500\n",
              "Name: Expectativa de Vida, dtype: float64"
            ]
          },
          "metadata": {},
          "execution_count": 53
        }
      ]
    },
    {
      "cell_type": "code",
      "metadata": {
        "colab": {
          "base_uri": "https://localhost:8080/"
        },
        "id": "NICVU6uAz9Px",
        "outputId": "70565f22-671c-422d-c18b-db458a4ddc13"
      },
      "source": [
        "# Para saber o PIB médio por continente, faço o seguinte..\n",
        "\n",
        "df.groupby(\"Continente\")[\"PIB\"].mean()"
      ],
      "execution_count": null,
      "outputs": [
        {
          "output_type": "execute_result",
          "data": {
            "text/plain": [
              "Continente\n",
              "Africa       3089.032605\n",
              "Americas    11003.031625\n",
              "Asia        12473.026870\n",
              "Europe      25054.481636\n",
              "Oceania     29810.188275\n",
              "Name: PIB, dtype: float64"
            ]
          },
          "metadata": {},
          "execution_count": 54
        }
      ]
    },
    {
      "cell_type": "code",
      "metadata": {
        "id": "75gbafl209p6"
      },
      "source": [
        ""
      ],
      "execution_count": null,
      "outputs": []
    }
  ]
}