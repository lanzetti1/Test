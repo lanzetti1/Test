{
  "cells": [
    {
      "cell_type": "markdown",
      "metadata": {
        "id": "view-in-github",
        "colab_type": "text"
      },
      "source": [
        "<a href=\"https://colab.research.google.com/github/lanzetti1/Test/blob/main/PI4.ipynb\" target=\"_parent\"><img src=\"https://colab.research.google.com/assets/colab-badge.svg\" alt=\"Open In Colab\"/></a>"
      ]
    },
    {
      "cell_type": "markdown",
      "metadata": {
        "id": "rcf9mwzuBn96"
      },
      "source": [
        "Exercícios de utilização da biblioteca pandas"
      ]
    },
    {
      "cell_type": "code",
      "execution_count": 1,
      "metadata": {
        "id": "Km7lPdONAIw1"
      },
      "outputs": [],
      "source": [
        "import pandas as pd"
      ]
    },
    {
      "cell_type": "code",
      "source": [
        "from google.colab import drive\n",
        "drive.mount('/content/drive')"
      ],
      "metadata": {
        "colab": {
          "base_uri": "https://localhost:8080/"
        },
        "id": "GWuMCgmIcZ6i",
        "outputId": "96207e4c-257f-49cf-ccb6-7780dbab086a"
      },
      "execution_count": 2,
      "outputs": [
        {
          "output_type": "stream",
          "name": "stdout",
          "text": [
            "Drive already mounted at /content/drive; to attempt to forcibly remount, call drive.mount(\"/content/drive\", force_remount=True).\n"
          ]
        }
      ]
    },
    {
      "cell_type": "markdown",
      "metadata": {
        "id": "MByr3rLTBmba"
      },
      "source": [
        "Buscando arquivos no google drive"
      ]
    },
    {
      "cell_type": "code",
      "execution_count": 3,
      "metadata": {
        "id": "ZsW6pjJPCBEz"
      },
      "outputs": [],
      "source": [
        "# o arquivo aparece um erro, \"ParserError: Error tokenizing data. C error: Expected 1 fields in line 665, saw 2\", para permitir que ele não seja lido, coloco uma \",\" e altero uma condição para false\n",
        "df = pd.read_csv(\"/content/gapminder - gapminder.csv\",)"
      ]
    },
    {
      "cell_type": "code",
      "execution_count": 4,
      "metadata": {
        "colab": {
          "base_uri": "https://localhost:8080/",
          "height": 206
        },
        "id": "xiPMzR3cD-mV",
        "outputId": "a958eb5d-bfd0-4d3f-e16c-72482dfce199"
      },
      "outputs": [
        {
          "output_type": "execute_result",
          "data": {
            "text/plain": [
              "   Unnamed: 0      country  year  population continent  life_exp       gdp_cap\n",
              "0          11  Afghanistan  2007    31889923      Asia    43.828    974.580338\n",
              "1          23      Albania  2007     3600523    Europe    76.423   5937.029526\n",
              "2          35      Algeria  2007    33333216    Africa    72.301   6223.367465\n",
              "3          47       Angola  2007    12420476    Africa    42.731   4797.231267\n",
              "4          59    Argentina  2007    40301927  Americas    75.320  12779.379640"
            ],
            "text/html": [
              "\n",
              "  <div id=\"df-6ddf659a-48b3-4fbc-a636-5a6d00e6e52e\">\n",
              "    <div class=\"colab-df-container\">\n",
              "      <div>\n",
              "<style scoped>\n",
              "    .dataframe tbody tr th:only-of-type {\n",
              "        vertical-align: middle;\n",
              "    }\n",
              "\n",
              "    .dataframe tbody tr th {\n",
              "        vertical-align: top;\n",
              "    }\n",
              "\n",
              "    .dataframe thead th {\n",
              "        text-align: right;\n",
              "    }\n",
              "</style>\n",
              "<table border=\"1\" class=\"dataframe\">\n",
              "  <thead>\n",
              "    <tr style=\"text-align: right;\">\n",
              "      <th></th>\n",
              "      <th>Unnamed: 0</th>\n",
              "      <th>country</th>\n",
              "      <th>year</th>\n",
              "      <th>population</th>\n",
              "      <th>continent</th>\n",
              "      <th>life_exp</th>\n",
              "      <th>gdp_cap</th>\n",
              "    </tr>\n",
              "  </thead>\n",
              "  <tbody>\n",
              "    <tr>\n",
              "      <th>0</th>\n",
              "      <td>11</td>\n",
              "      <td>Afghanistan</td>\n",
              "      <td>2007</td>\n",
              "      <td>31889923</td>\n",
              "      <td>Asia</td>\n",
              "      <td>43.828</td>\n",
              "      <td>974.580338</td>\n",
              "    </tr>\n",
              "    <tr>\n",
              "      <th>1</th>\n",
              "      <td>23</td>\n",
              "      <td>Albania</td>\n",
              "      <td>2007</td>\n",
              "      <td>3600523</td>\n",
              "      <td>Europe</td>\n",
              "      <td>76.423</td>\n",
              "      <td>5937.029526</td>\n",
              "    </tr>\n",
              "    <tr>\n",
              "      <th>2</th>\n",
              "      <td>35</td>\n",
              "      <td>Algeria</td>\n",
              "      <td>2007</td>\n",
              "      <td>33333216</td>\n",
              "      <td>Africa</td>\n",
              "      <td>72.301</td>\n",
              "      <td>6223.367465</td>\n",
              "    </tr>\n",
              "    <tr>\n",
              "      <th>3</th>\n",
              "      <td>47</td>\n",
              "      <td>Angola</td>\n",
              "      <td>2007</td>\n",
              "      <td>12420476</td>\n",
              "      <td>Africa</td>\n",
              "      <td>42.731</td>\n",
              "      <td>4797.231267</td>\n",
              "    </tr>\n",
              "    <tr>\n",
              "      <th>4</th>\n",
              "      <td>59</td>\n",
              "      <td>Argentina</td>\n",
              "      <td>2007</td>\n",
              "      <td>40301927</td>\n",
              "      <td>Americas</td>\n",
              "      <td>75.320</td>\n",
              "      <td>12779.379640</td>\n",
              "    </tr>\n",
              "  </tbody>\n",
              "</table>\n",
              "</div>\n",
              "      <button class=\"colab-df-convert\" onclick=\"convertToInteractive('df-6ddf659a-48b3-4fbc-a636-5a6d00e6e52e')\"\n",
              "              title=\"Convert this dataframe to an interactive table.\"\n",
              "              style=\"display:none;\">\n",
              "        \n",
              "  <svg xmlns=\"http://www.w3.org/2000/svg\" height=\"24px\"viewBox=\"0 0 24 24\"\n",
              "       width=\"24px\">\n",
              "    <path d=\"M0 0h24v24H0V0z\" fill=\"none\"/>\n",
              "    <path d=\"M18.56 5.44l.94 2.06.94-2.06 2.06-.94-2.06-.94-.94-2.06-.94 2.06-2.06.94zm-11 1L8.5 8.5l.94-2.06 2.06-.94-2.06-.94L8.5 2.5l-.94 2.06-2.06.94zm10 10l.94 2.06.94-2.06 2.06-.94-2.06-.94-.94-2.06-.94 2.06-2.06.94z\"/><path d=\"M17.41 7.96l-1.37-1.37c-.4-.4-.92-.59-1.43-.59-.52 0-1.04.2-1.43.59L10.3 9.45l-7.72 7.72c-.78.78-.78 2.05 0 2.83L4 21.41c.39.39.9.59 1.41.59.51 0 1.02-.2 1.41-.59l7.78-7.78 2.81-2.81c.8-.78.8-2.07 0-2.86zM5.41 20L4 18.59l7.72-7.72 1.47 1.35L5.41 20z\"/>\n",
              "  </svg>\n",
              "      </button>\n",
              "      \n",
              "  <style>\n",
              "    .colab-df-container {\n",
              "      display:flex;\n",
              "      flex-wrap:wrap;\n",
              "      gap: 12px;\n",
              "    }\n",
              "\n",
              "    .colab-df-convert {\n",
              "      background-color: #E8F0FE;\n",
              "      border: none;\n",
              "      border-radius: 50%;\n",
              "      cursor: pointer;\n",
              "      display: none;\n",
              "      fill: #1967D2;\n",
              "      height: 32px;\n",
              "      padding: 0 0 0 0;\n",
              "      width: 32px;\n",
              "    }\n",
              "\n",
              "    .colab-df-convert:hover {\n",
              "      background-color: #E2EBFA;\n",
              "      box-shadow: 0px 1px 2px rgba(60, 64, 67, 0.3), 0px 1px 3px 1px rgba(60, 64, 67, 0.15);\n",
              "      fill: #174EA6;\n",
              "    }\n",
              "\n",
              "    [theme=dark] .colab-df-convert {\n",
              "      background-color: #3B4455;\n",
              "      fill: #D2E3FC;\n",
              "    }\n",
              "\n",
              "    [theme=dark] .colab-df-convert:hover {\n",
              "      background-color: #434B5C;\n",
              "      box-shadow: 0px 1px 3px 1px rgba(0, 0, 0, 0.15);\n",
              "      filter: drop-shadow(0px 1px 2px rgba(0, 0, 0, 0.3));\n",
              "      fill: #FFFFFF;\n",
              "    }\n",
              "  </style>\n",
              "\n",
              "      <script>\n",
              "        const buttonEl =\n",
              "          document.querySelector('#df-6ddf659a-48b3-4fbc-a636-5a6d00e6e52e button.colab-df-convert');\n",
              "        buttonEl.style.display =\n",
              "          google.colab.kernel.accessAllowed ? 'block' : 'none';\n",
              "\n",
              "        async function convertToInteractive(key) {\n",
              "          const element = document.querySelector('#df-6ddf659a-48b3-4fbc-a636-5a6d00e6e52e');\n",
              "          const dataTable =\n",
              "            await google.colab.kernel.invokeFunction('convertToInteractive',\n",
              "                                                     [key], {});\n",
              "          if (!dataTable) return;\n",
              "\n",
              "          const docLinkHtml = 'Like what you see? Visit the ' +\n",
              "            '<a target=\"_blank\" href=https://colab.research.google.com/notebooks/data_table.ipynb>data table notebook</a>'\n",
              "            + ' to learn more about interactive tables.';\n",
              "          element.innerHTML = '';\n",
              "          dataTable['output_type'] = 'display_data';\n",
              "          await google.colab.output.renderOutput(dataTable, element);\n",
              "          const docLink = document.createElement('div');\n",
              "          docLink.innerHTML = docLinkHtml;\n",
              "          element.appendChild(docLink);\n",
              "        }\n",
              "      </script>\n",
              "    </div>\n",
              "  </div>\n",
              "  "
            ]
          },
          "metadata": {},
          "execution_count": 4
        }
      ],
      "source": [
        "# Para visualizar os cinco primeiros ítens da lista digito:\n",
        "\n",
        "df.head()"
      ]
    },
    {
      "cell_type": "markdown",
      "metadata": {
        "id": "ETC9TDccFRo6"
      },
      "source": [
        "Alterando os nomes das colunas de inglês para português e salvando novamente na variável."
      ]
    },
    {
      "cell_type": "code",
      "execution_count": 5,
      "metadata": {
        "colab": {
          "base_uri": "https://localhost:8080/",
          "height": 363
        },
        "id": "UIRRxhzcG8Wh",
        "outputId": "0c541e07-194f-4e7c-ea39-664c962cf123"
      },
      "outputs": [
        {
          "output_type": "execute_result",
          "data": {
            "text/plain": [
              "   Unnamed: 0         País   Ano  População Continente  Expectativa de vida  \\\n",
              "0          11  Afghanistan  2007   31889923       Asia               43.828   \n",
              "1          23      Albania  2007    3600523     Europe               76.423   \n",
              "2          35      Algeria  2007   33333216     Africa               72.301   \n",
              "3          47       Angola  2007   12420476     Africa               42.731   \n",
              "4          59    Argentina  2007   40301927   Americas               75.320   \n",
              "5          71    Australia  2007   20434176    Oceania               81.235   \n",
              "6          83      Austria  2007    8199783     Europe               79.829   \n",
              "7          95      Bahrain  2007     708573       Asia               75.635   \n",
              "8         107   Bangladesh  2007  150448339       Asia               64.062   \n",
              "9         119      Belgium  2007   10392226     Europe               79.441   \n",
              "\n",
              "            PIB  \n",
              "0    974.580338  \n",
              "1   5937.029526  \n",
              "2   6223.367465  \n",
              "3   4797.231267  \n",
              "4  12779.379640  \n",
              "5  34435.367440  \n",
              "6  36126.492700  \n",
              "7  29796.048340  \n",
              "8   1391.253792  \n",
              "9  33692.605080  "
            ],
            "text/html": [
              "\n",
              "  <div id=\"df-26ea82dd-434c-4bca-b846-610a578dc478\">\n",
              "    <div class=\"colab-df-container\">\n",
              "      <div>\n",
              "<style scoped>\n",
              "    .dataframe tbody tr th:only-of-type {\n",
              "        vertical-align: middle;\n",
              "    }\n",
              "\n",
              "    .dataframe tbody tr th {\n",
              "        vertical-align: top;\n",
              "    }\n",
              "\n",
              "    .dataframe thead th {\n",
              "        text-align: right;\n",
              "    }\n",
              "</style>\n",
              "<table border=\"1\" class=\"dataframe\">\n",
              "  <thead>\n",
              "    <tr style=\"text-align: right;\">\n",
              "      <th></th>\n",
              "      <th>Unnamed: 0</th>\n",
              "      <th>País</th>\n",
              "      <th>Ano</th>\n",
              "      <th>População</th>\n",
              "      <th>Continente</th>\n",
              "      <th>Expectativa de vida</th>\n",
              "      <th>PIB</th>\n",
              "    </tr>\n",
              "  </thead>\n",
              "  <tbody>\n",
              "    <tr>\n",
              "      <th>0</th>\n",
              "      <td>11</td>\n",
              "      <td>Afghanistan</td>\n",
              "      <td>2007</td>\n",
              "      <td>31889923</td>\n",
              "      <td>Asia</td>\n",
              "      <td>43.828</td>\n",
              "      <td>974.580338</td>\n",
              "    </tr>\n",
              "    <tr>\n",
              "      <th>1</th>\n",
              "      <td>23</td>\n",
              "      <td>Albania</td>\n",
              "      <td>2007</td>\n",
              "      <td>3600523</td>\n",
              "      <td>Europe</td>\n",
              "      <td>76.423</td>\n",
              "      <td>5937.029526</td>\n",
              "    </tr>\n",
              "    <tr>\n",
              "      <th>2</th>\n",
              "      <td>35</td>\n",
              "      <td>Algeria</td>\n",
              "      <td>2007</td>\n",
              "      <td>33333216</td>\n",
              "      <td>Africa</td>\n",
              "      <td>72.301</td>\n",
              "      <td>6223.367465</td>\n",
              "    </tr>\n",
              "    <tr>\n",
              "      <th>3</th>\n",
              "      <td>47</td>\n",
              "      <td>Angola</td>\n",
              "      <td>2007</td>\n",
              "      <td>12420476</td>\n",
              "      <td>Africa</td>\n",
              "      <td>42.731</td>\n",
              "      <td>4797.231267</td>\n",
              "    </tr>\n",
              "    <tr>\n",
              "      <th>4</th>\n",
              "      <td>59</td>\n",
              "      <td>Argentina</td>\n",
              "      <td>2007</td>\n",
              "      <td>40301927</td>\n",
              "      <td>Americas</td>\n",
              "      <td>75.320</td>\n",
              "      <td>12779.379640</td>\n",
              "    </tr>\n",
              "    <tr>\n",
              "      <th>5</th>\n",
              "      <td>71</td>\n",
              "      <td>Australia</td>\n",
              "      <td>2007</td>\n",
              "      <td>20434176</td>\n",
              "      <td>Oceania</td>\n",
              "      <td>81.235</td>\n",
              "      <td>34435.367440</td>\n",
              "    </tr>\n",
              "    <tr>\n",
              "      <th>6</th>\n",
              "      <td>83</td>\n",
              "      <td>Austria</td>\n",
              "      <td>2007</td>\n",
              "      <td>8199783</td>\n",
              "      <td>Europe</td>\n",
              "      <td>79.829</td>\n",
              "      <td>36126.492700</td>\n",
              "    </tr>\n",
              "    <tr>\n",
              "      <th>7</th>\n",
              "      <td>95</td>\n",
              "      <td>Bahrain</td>\n",
              "      <td>2007</td>\n",
              "      <td>708573</td>\n",
              "      <td>Asia</td>\n",
              "      <td>75.635</td>\n",
              "      <td>29796.048340</td>\n",
              "    </tr>\n",
              "    <tr>\n",
              "      <th>8</th>\n",
              "      <td>107</td>\n",
              "      <td>Bangladesh</td>\n",
              "      <td>2007</td>\n",
              "      <td>150448339</td>\n",
              "      <td>Asia</td>\n",
              "      <td>64.062</td>\n",
              "      <td>1391.253792</td>\n",
              "    </tr>\n",
              "    <tr>\n",
              "      <th>9</th>\n",
              "      <td>119</td>\n",
              "      <td>Belgium</td>\n",
              "      <td>2007</td>\n",
              "      <td>10392226</td>\n",
              "      <td>Europe</td>\n",
              "      <td>79.441</td>\n",
              "      <td>33692.605080</td>\n",
              "    </tr>\n",
              "  </tbody>\n",
              "</table>\n",
              "</div>\n",
              "      <button class=\"colab-df-convert\" onclick=\"convertToInteractive('df-26ea82dd-434c-4bca-b846-610a578dc478')\"\n",
              "              title=\"Convert this dataframe to an interactive table.\"\n",
              "              style=\"display:none;\">\n",
              "        \n",
              "  <svg xmlns=\"http://www.w3.org/2000/svg\" height=\"24px\"viewBox=\"0 0 24 24\"\n",
              "       width=\"24px\">\n",
              "    <path d=\"M0 0h24v24H0V0z\" fill=\"none\"/>\n",
              "    <path d=\"M18.56 5.44l.94 2.06.94-2.06 2.06-.94-2.06-.94-.94-2.06-.94 2.06-2.06.94zm-11 1L8.5 8.5l.94-2.06 2.06-.94-2.06-.94L8.5 2.5l-.94 2.06-2.06.94zm10 10l.94 2.06.94-2.06 2.06-.94-2.06-.94-.94-2.06-.94 2.06-2.06.94z\"/><path d=\"M17.41 7.96l-1.37-1.37c-.4-.4-.92-.59-1.43-.59-.52 0-1.04.2-1.43.59L10.3 9.45l-7.72 7.72c-.78.78-.78 2.05 0 2.83L4 21.41c.39.39.9.59 1.41.59.51 0 1.02-.2 1.41-.59l7.78-7.78 2.81-2.81c.8-.78.8-2.07 0-2.86zM5.41 20L4 18.59l7.72-7.72 1.47 1.35L5.41 20z\"/>\n",
              "  </svg>\n",
              "      </button>\n",
              "      \n",
              "  <style>\n",
              "    .colab-df-container {\n",
              "      display:flex;\n",
              "      flex-wrap:wrap;\n",
              "      gap: 12px;\n",
              "    }\n",
              "\n",
              "    .colab-df-convert {\n",
              "      background-color: #E8F0FE;\n",
              "      border: none;\n",
              "      border-radius: 50%;\n",
              "      cursor: pointer;\n",
              "      display: none;\n",
              "      fill: #1967D2;\n",
              "      height: 32px;\n",
              "      padding: 0 0 0 0;\n",
              "      width: 32px;\n",
              "    }\n",
              "\n",
              "    .colab-df-convert:hover {\n",
              "      background-color: #E2EBFA;\n",
              "      box-shadow: 0px 1px 2px rgba(60, 64, 67, 0.3), 0px 1px 3px 1px rgba(60, 64, 67, 0.15);\n",
              "      fill: #174EA6;\n",
              "    }\n",
              "\n",
              "    [theme=dark] .colab-df-convert {\n",
              "      background-color: #3B4455;\n",
              "      fill: #D2E3FC;\n",
              "    }\n",
              "\n",
              "    [theme=dark] .colab-df-convert:hover {\n",
              "      background-color: #434B5C;\n",
              "      box-shadow: 0px 1px 3px 1px rgba(0, 0, 0, 0.15);\n",
              "      filter: drop-shadow(0px 1px 2px rgba(0, 0, 0, 0.3));\n",
              "      fill: #FFFFFF;\n",
              "    }\n",
              "  </style>\n",
              "\n",
              "      <script>\n",
              "        const buttonEl =\n",
              "          document.querySelector('#df-26ea82dd-434c-4bca-b846-610a578dc478 button.colab-df-convert');\n",
              "        buttonEl.style.display =\n",
              "          google.colab.kernel.accessAllowed ? 'block' : 'none';\n",
              "\n",
              "        async function convertToInteractive(key) {\n",
              "          const element = document.querySelector('#df-26ea82dd-434c-4bca-b846-610a578dc478');\n",
              "          const dataTable =\n",
              "            await google.colab.kernel.invokeFunction('convertToInteractive',\n",
              "                                                     [key], {});\n",
              "          if (!dataTable) return;\n",
              "\n",
              "          const docLinkHtml = 'Like what you see? Visit the ' +\n",
              "            '<a target=\"_blank\" href=https://colab.research.google.com/notebooks/data_table.ipynb>data table notebook</a>'\n",
              "            + ' to learn more about interactive tables.';\n",
              "          element.innerHTML = '';\n",
              "          dataTable['output_type'] = 'display_data';\n",
              "          await google.colab.output.renderOutput(dataTable, element);\n",
              "          const docLink = document.createElement('div');\n",
              "          docLink.innerHTML = docLinkHtml;\n",
              "          element.appendChild(docLink);\n",
              "        }\n",
              "      </script>\n",
              "    </div>\n",
              "  </div>\n",
              "  "
            ]
          },
          "metadata": {},
          "execution_count": 5
        }
      ],
      "source": [
        "df = df.rename(columns={\"country\":\"País\", \"continent\":\"Continente\", \"year\":\"Ano\", \"life_exp\":\"Expectativa de vida\", \"population\":\"População\",\"gdp_cap\":\"PIB\"})\n",
        "\n",
        "# Para exibir as primeiras dez linhas alteramos o parâmetro do head() para head(10)\n",
        "df.head(10)"
      ]
    },
    {
      "cell_type": "markdown",
      "metadata": {
        "id": "Dh8QkWqrH0pI"
      },
      "source": [
        "Para saber o total de linhas e colunas uso o objeto data frame shape. "
      ]
    },
    {
      "cell_type": "code",
      "execution_count": 6,
      "metadata": {
        "colab": {
          "base_uri": "https://localhost:8080/"
        },
        "id": "1FV3EGrAI4Bs",
        "outputId": "348ca3ca-983c-44d8-ece7-d13af971537c"
      },
      "outputs": [
        {
          "output_type": "execute_result",
          "data": {
            "text/plain": [
              "(142, 7)"
            ]
          },
          "metadata": {},
          "execution_count": 6
        }
      ],
      "source": [
        "df.shape"
      ]
    },
    {
      "cell_type": "markdown",
      "metadata": {
        "id": "OKuCP6i5JAh9"
      },
      "source": [
        "Para saber o título das colunas."
      ]
    },
    {
      "cell_type": "code",
      "execution_count": 7,
      "metadata": {
        "colab": {
          "base_uri": "https://localhost:8080/"
        },
        "id": "9AEbXEBoJn4H",
        "outputId": "80f88f6f-cafd-488d-9d8b-2b11116eb24a"
      },
      "outputs": [
        {
          "output_type": "execute_result",
          "data": {
            "text/plain": [
              "Index(['Unnamed: 0', 'País', 'Ano', 'População', 'Continente',\n",
              "       'Expectativa de vida', 'PIB'],\n",
              "      dtype='object')"
            ]
          },
          "metadata": {},
          "execution_count": 7
        }
      ],
      "source": [
        "df.columns"
      ]
    },
    {
      "cell_type": "markdown",
      "metadata": {
        "id": "378wOO9FJ5cT"
      },
      "source": [
        "Para saber o tipo de dado armazenado."
      ]
    },
    {
      "cell_type": "code",
      "execution_count": 8,
      "metadata": {
        "colab": {
          "base_uri": "https://localhost:8080/"
        },
        "id": "3BOXWmQfKBe-",
        "outputId": "855eb05a-2cac-426e-8ac3-b398fd3049f1"
      },
      "outputs": [
        {
          "output_type": "execute_result",
          "data": {
            "text/plain": [
              "Unnamed: 0               int64\n",
              "País                    object\n",
              "Ano                      int64\n",
              "População                int64\n",
              "Continente              object\n",
              "Expectativa de vida    float64\n",
              "PIB                    float64\n",
              "dtype: object"
            ]
          },
          "metadata": {},
          "execution_count": 8
        }
      ],
      "source": [
        "df.dtypes"
      ]
    },
    {
      "cell_type": "markdown",
      "metadata": {
        "id": "X-bW9e67KEqi"
      },
      "source": [
        "Para ver as últimas linhas 15 da tabela."
      ]
    },
    {
      "cell_type": "code",
      "execution_count": 9,
      "metadata": {
        "colab": {
          "base_uri": "https://localhost:8080/",
          "height": 519
        },
        "id": "CPTx0KRXKPkc",
        "outputId": "ef1ffa38-d40d-48dd-f2b3-c1cf5c4f5f3a"
      },
      "outputs": [
        {
          "output_type": "execute_result",
          "data": {
            "text/plain": [
              "     Unnamed: 0                 País   Ano  População Continente  \\\n",
              "127        1535             Thailand  2007   65068149       Asia   \n",
              "128        1547                 Togo  2007    5701579     Africa   \n",
              "129        1559  Trinidad and Tobago  2007    1056608   Americas   \n",
              "130        1571              Tunisia  2007   10276158     Africa   \n",
              "131        1583               Turkey  2007   71158647     Europe   \n",
              "132        1595               Uganda  2007   29170398     Africa   \n",
              "133        1607       United Kingdom  2007   60776238     Europe   \n",
              "134        1619        United States  2007  301139947   Americas   \n",
              "135        1631              Uruguay  2007    3447496   Americas   \n",
              "136        1643            Venezuela  2007   26084662   Americas   \n",
              "137        1655              Vietnam  2007   85262356       Asia   \n",
              "138        1667   West Bank and Gaza  2007    4018332       Asia   \n",
              "139        1679          Yemen, Rep.  2007   22211743       Asia   \n",
              "140        1691               Zambia  2007   11746035     Africa   \n",
              "141        1703             Zimbabwe  2007   12311143     Africa   \n",
              "\n",
              "     Expectativa de vida           PIB  \n",
              "127               70.616   7458.396327  \n",
              "128               58.420    882.969944  \n",
              "129               69.819  18008.509240  \n",
              "130               73.923   7092.923025  \n",
              "131               71.777   8458.276384  \n",
              "132               51.542   1056.380121  \n",
              "133               79.425  33203.261280  \n",
              "134               78.242  42951.653090  \n",
              "135               76.384  10611.462990  \n",
              "136               73.747  11415.805690  \n",
              "137               74.249   2441.576404  \n",
              "138               73.422   3025.349798  \n",
              "139               62.698   2280.769906  \n",
              "140               42.384   1271.211593  \n",
              "141               43.487    469.709298  "
            ],
            "text/html": [
              "\n",
              "  <div id=\"df-7b1f1f6b-e271-4d3a-8ec5-a124feb1e75f\">\n",
              "    <div class=\"colab-df-container\">\n",
              "      <div>\n",
              "<style scoped>\n",
              "    .dataframe tbody tr th:only-of-type {\n",
              "        vertical-align: middle;\n",
              "    }\n",
              "\n",
              "    .dataframe tbody tr th {\n",
              "        vertical-align: top;\n",
              "    }\n",
              "\n",
              "    .dataframe thead th {\n",
              "        text-align: right;\n",
              "    }\n",
              "</style>\n",
              "<table border=\"1\" class=\"dataframe\">\n",
              "  <thead>\n",
              "    <tr style=\"text-align: right;\">\n",
              "      <th></th>\n",
              "      <th>Unnamed: 0</th>\n",
              "      <th>País</th>\n",
              "      <th>Ano</th>\n",
              "      <th>População</th>\n",
              "      <th>Continente</th>\n",
              "      <th>Expectativa de vida</th>\n",
              "      <th>PIB</th>\n",
              "    </tr>\n",
              "  </thead>\n",
              "  <tbody>\n",
              "    <tr>\n",
              "      <th>127</th>\n",
              "      <td>1535</td>\n",
              "      <td>Thailand</td>\n",
              "      <td>2007</td>\n",
              "      <td>65068149</td>\n",
              "      <td>Asia</td>\n",
              "      <td>70.616</td>\n",
              "      <td>7458.396327</td>\n",
              "    </tr>\n",
              "    <tr>\n",
              "      <th>128</th>\n",
              "      <td>1547</td>\n",
              "      <td>Togo</td>\n",
              "      <td>2007</td>\n",
              "      <td>5701579</td>\n",
              "      <td>Africa</td>\n",
              "      <td>58.420</td>\n",
              "      <td>882.969944</td>\n",
              "    </tr>\n",
              "    <tr>\n",
              "      <th>129</th>\n",
              "      <td>1559</td>\n",
              "      <td>Trinidad and Tobago</td>\n",
              "      <td>2007</td>\n",
              "      <td>1056608</td>\n",
              "      <td>Americas</td>\n",
              "      <td>69.819</td>\n",
              "      <td>18008.509240</td>\n",
              "    </tr>\n",
              "    <tr>\n",
              "      <th>130</th>\n",
              "      <td>1571</td>\n",
              "      <td>Tunisia</td>\n",
              "      <td>2007</td>\n",
              "      <td>10276158</td>\n",
              "      <td>Africa</td>\n",
              "      <td>73.923</td>\n",
              "      <td>7092.923025</td>\n",
              "    </tr>\n",
              "    <tr>\n",
              "      <th>131</th>\n",
              "      <td>1583</td>\n",
              "      <td>Turkey</td>\n",
              "      <td>2007</td>\n",
              "      <td>71158647</td>\n",
              "      <td>Europe</td>\n",
              "      <td>71.777</td>\n",
              "      <td>8458.276384</td>\n",
              "    </tr>\n",
              "    <tr>\n",
              "      <th>132</th>\n",
              "      <td>1595</td>\n",
              "      <td>Uganda</td>\n",
              "      <td>2007</td>\n",
              "      <td>29170398</td>\n",
              "      <td>Africa</td>\n",
              "      <td>51.542</td>\n",
              "      <td>1056.380121</td>\n",
              "    </tr>\n",
              "    <tr>\n",
              "      <th>133</th>\n",
              "      <td>1607</td>\n",
              "      <td>United Kingdom</td>\n",
              "      <td>2007</td>\n",
              "      <td>60776238</td>\n",
              "      <td>Europe</td>\n",
              "      <td>79.425</td>\n",
              "      <td>33203.261280</td>\n",
              "    </tr>\n",
              "    <tr>\n",
              "      <th>134</th>\n",
              "      <td>1619</td>\n",
              "      <td>United States</td>\n",
              "      <td>2007</td>\n",
              "      <td>301139947</td>\n",
              "      <td>Americas</td>\n",
              "      <td>78.242</td>\n",
              "      <td>42951.653090</td>\n",
              "    </tr>\n",
              "    <tr>\n",
              "      <th>135</th>\n",
              "      <td>1631</td>\n",
              "      <td>Uruguay</td>\n",
              "      <td>2007</td>\n",
              "      <td>3447496</td>\n",
              "      <td>Americas</td>\n",
              "      <td>76.384</td>\n",
              "      <td>10611.462990</td>\n",
              "    </tr>\n",
              "    <tr>\n",
              "      <th>136</th>\n",
              "      <td>1643</td>\n",
              "      <td>Venezuela</td>\n",
              "      <td>2007</td>\n",
              "      <td>26084662</td>\n",
              "      <td>Americas</td>\n",
              "      <td>73.747</td>\n",
              "      <td>11415.805690</td>\n",
              "    </tr>\n",
              "    <tr>\n",
              "      <th>137</th>\n",
              "      <td>1655</td>\n",
              "      <td>Vietnam</td>\n",
              "      <td>2007</td>\n",
              "      <td>85262356</td>\n",
              "      <td>Asia</td>\n",
              "      <td>74.249</td>\n",
              "      <td>2441.576404</td>\n",
              "    </tr>\n",
              "    <tr>\n",
              "      <th>138</th>\n",
              "      <td>1667</td>\n",
              "      <td>West Bank and Gaza</td>\n",
              "      <td>2007</td>\n",
              "      <td>4018332</td>\n",
              "      <td>Asia</td>\n",
              "      <td>73.422</td>\n",
              "      <td>3025.349798</td>\n",
              "    </tr>\n",
              "    <tr>\n",
              "      <th>139</th>\n",
              "      <td>1679</td>\n",
              "      <td>Yemen, Rep.</td>\n",
              "      <td>2007</td>\n",
              "      <td>22211743</td>\n",
              "      <td>Asia</td>\n",
              "      <td>62.698</td>\n",
              "      <td>2280.769906</td>\n",
              "    </tr>\n",
              "    <tr>\n",
              "      <th>140</th>\n",
              "      <td>1691</td>\n",
              "      <td>Zambia</td>\n",
              "      <td>2007</td>\n",
              "      <td>11746035</td>\n",
              "      <td>Africa</td>\n",
              "      <td>42.384</td>\n",
              "      <td>1271.211593</td>\n",
              "    </tr>\n",
              "    <tr>\n",
              "      <th>141</th>\n",
              "      <td>1703</td>\n",
              "      <td>Zimbabwe</td>\n",
              "      <td>2007</td>\n",
              "      <td>12311143</td>\n",
              "      <td>Africa</td>\n",
              "      <td>43.487</td>\n",
              "      <td>469.709298</td>\n",
              "    </tr>\n",
              "  </tbody>\n",
              "</table>\n",
              "</div>\n",
              "      <button class=\"colab-df-convert\" onclick=\"convertToInteractive('df-7b1f1f6b-e271-4d3a-8ec5-a124feb1e75f')\"\n",
              "              title=\"Convert this dataframe to an interactive table.\"\n",
              "              style=\"display:none;\">\n",
              "        \n",
              "  <svg xmlns=\"http://www.w3.org/2000/svg\" height=\"24px\"viewBox=\"0 0 24 24\"\n",
              "       width=\"24px\">\n",
              "    <path d=\"M0 0h24v24H0V0z\" fill=\"none\"/>\n",
              "    <path d=\"M18.56 5.44l.94 2.06.94-2.06 2.06-.94-2.06-.94-.94-2.06-.94 2.06-2.06.94zm-11 1L8.5 8.5l.94-2.06 2.06-.94-2.06-.94L8.5 2.5l-.94 2.06-2.06.94zm10 10l.94 2.06.94-2.06 2.06-.94-2.06-.94-.94-2.06-.94 2.06-2.06.94z\"/><path d=\"M17.41 7.96l-1.37-1.37c-.4-.4-.92-.59-1.43-.59-.52 0-1.04.2-1.43.59L10.3 9.45l-7.72 7.72c-.78.78-.78 2.05 0 2.83L4 21.41c.39.39.9.59 1.41.59.51 0 1.02-.2 1.41-.59l7.78-7.78 2.81-2.81c.8-.78.8-2.07 0-2.86zM5.41 20L4 18.59l7.72-7.72 1.47 1.35L5.41 20z\"/>\n",
              "  </svg>\n",
              "      </button>\n",
              "      \n",
              "  <style>\n",
              "    .colab-df-container {\n",
              "      display:flex;\n",
              "      flex-wrap:wrap;\n",
              "      gap: 12px;\n",
              "    }\n",
              "\n",
              "    .colab-df-convert {\n",
              "      background-color: #E8F0FE;\n",
              "      border: none;\n",
              "      border-radius: 50%;\n",
              "      cursor: pointer;\n",
              "      display: none;\n",
              "      fill: #1967D2;\n",
              "      height: 32px;\n",
              "      padding: 0 0 0 0;\n",
              "      width: 32px;\n",
              "    }\n",
              "\n",
              "    .colab-df-convert:hover {\n",
              "      background-color: #E2EBFA;\n",
              "      box-shadow: 0px 1px 2px rgba(60, 64, 67, 0.3), 0px 1px 3px 1px rgba(60, 64, 67, 0.15);\n",
              "      fill: #174EA6;\n",
              "    }\n",
              "\n",
              "    [theme=dark] .colab-df-convert {\n",
              "      background-color: #3B4455;\n",
              "      fill: #D2E3FC;\n",
              "    }\n",
              "\n",
              "    [theme=dark] .colab-df-convert:hover {\n",
              "      background-color: #434B5C;\n",
              "      box-shadow: 0px 1px 3px 1px rgba(0, 0, 0, 0.15);\n",
              "      filter: drop-shadow(0px 1px 2px rgba(0, 0, 0, 0.3));\n",
              "      fill: #FFFFFF;\n",
              "    }\n",
              "  </style>\n",
              "\n",
              "      <script>\n",
              "        const buttonEl =\n",
              "          document.querySelector('#df-7b1f1f6b-e271-4d3a-8ec5-a124feb1e75f button.colab-df-convert');\n",
              "        buttonEl.style.display =\n",
              "          google.colab.kernel.accessAllowed ? 'block' : 'none';\n",
              "\n",
              "        async function convertToInteractive(key) {\n",
              "          const element = document.querySelector('#df-7b1f1f6b-e271-4d3a-8ec5-a124feb1e75f');\n",
              "          const dataTable =\n",
              "            await google.colab.kernel.invokeFunction('convertToInteractive',\n",
              "                                                     [key], {});\n",
              "          if (!dataTable) return;\n",
              "\n",
              "          const docLinkHtml = 'Like what you see? Visit the ' +\n",
              "            '<a target=\"_blank\" href=https://colab.research.google.com/notebooks/data_table.ipynb>data table notebook</a>'\n",
              "            + ' to learn more about interactive tables.';\n",
              "          element.innerHTML = '';\n",
              "          dataTable['output_type'] = 'display_data';\n",
              "          await google.colab.output.renderOutput(dataTable, element);\n",
              "          const docLink = document.createElement('div');\n",
              "          docLink.innerHTML = docLinkHtml;\n",
              "          element.appendChild(docLink);\n",
              "        }\n",
              "      </script>\n",
              "    </div>\n",
              "  </div>\n",
              "  "
            ]
          },
          "metadata": {},
          "execution_count": 9
        }
      ],
      "source": [
        "df.tail(15)"
      ]
    },
    {
      "cell_type": "markdown",
      "metadata": {
        "id": "dc9NdQVfKYTk"
      },
      "source": [
        "Para saber dados estatísticos da tabela"
      ]
    },
    {
      "cell_type": "code",
      "execution_count": 10,
      "metadata": {
        "colab": {
          "base_uri": "https://localhost:8080/",
          "height": 300
        },
        "id": "zKvHd-EhKrh6",
        "outputId": "dd742a66-5690-4ff6-a5c3-59c1a41fb156"
      },
      "outputs": [
        {
          "output_type": "execute_result",
          "data": {
            "text/plain": [
              "        Unnamed: 0     Ano     População  Expectativa de vida           PIB\n",
              "count   142.000000   142.0  1.420000e+02           142.000000    142.000000\n",
              "mean    857.000000  2007.0  4.402122e+07            67.007423  11680.071820\n",
              "std     493.631441     0.0  1.476214e+08            12.073021  12859.937337\n",
              "min      11.000000  2007.0  1.995790e+05            39.613000    277.551859\n",
              "25%     434.000000  2007.0  4.508034e+06            57.160250   1624.842248\n",
              "50%     857.000000  2007.0  1.051753e+07            71.935500   6124.371108\n",
              "75%    1280.000000  2007.0  3.121004e+07            76.413250  18008.835640\n",
              "max    1703.000000  2007.0  1.318683e+09            82.603000  49357.190170"
            ],
            "text/html": [
              "\n",
              "  <div id=\"df-b311fcab-11b9-4db3-b1a9-7ee69d092eab\">\n",
              "    <div class=\"colab-df-container\">\n",
              "      <div>\n",
              "<style scoped>\n",
              "    .dataframe tbody tr th:only-of-type {\n",
              "        vertical-align: middle;\n",
              "    }\n",
              "\n",
              "    .dataframe tbody tr th {\n",
              "        vertical-align: top;\n",
              "    }\n",
              "\n",
              "    .dataframe thead th {\n",
              "        text-align: right;\n",
              "    }\n",
              "</style>\n",
              "<table border=\"1\" class=\"dataframe\">\n",
              "  <thead>\n",
              "    <tr style=\"text-align: right;\">\n",
              "      <th></th>\n",
              "      <th>Unnamed: 0</th>\n",
              "      <th>Ano</th>\n",
              "      <th>População</th>\n",
              "      <th>Expectativa de vida</th>\n",
              "      <th>PIB</th>\n",
              "    </tr>\n",
              "  </thead>\n",
              "  <tbody>\n",
              "    <tr>\n",
              "      <th>count</th>\n",
              "      <td>142.000000</td>\n",
              "      <td>142.0</td>\n",
              "      <td>1.420000e+02</td>\n",
              "      <td>142.000000</td>\n",
              "      <td>142.000000</td>\n",
              "    </tr>\n",
              "    <tr>\n",
              "      <th>mean</th>\n",
              "      <td>857.000000</td>\n",
              "      <td>2007.0</td>\n",
              "      <td>4.402122e+07</td>\n",
              "      <td>67.007423</td>\n",
              "      <td>11680.071820</td>\n",
              "    </tr>\n",
              "    <tr>\n",
              "      <th>std</th>\n",
              "      <td>493.631441</td>\n",
              "      <td>0.0</td>\n",
              "      <td>1.476214e+08</td>\n",
              "      <td>12.073021</td>\n",
              "      <td>12859.937337</td>\n",
              "    </tr>\n",
              "    <tr>\n",
              "      <th>min</th>\n",
              "      <td>11.000000</td>\n",
              "      <td>2007.0</td>\n",
              "      <td>1.995790e+05</td>\n",
              "      <td>39.613000</td>\n",
              "      <td>277.551859</td>\n",
              "    </tr>\n",
              "    <tr>\n",
              "      <th>25%</th>\n",
              "      <td>434.000000</td>\n",
              "      <td>2007.0</td>\n",
              "      <td>4.508034e+06</td>\n",
              "      <td>57.160250</td>\n",
              "      <td>1624.842248</td>\n",
              "    </tr>\n",
              "    <tr>\n",
              "      <th>50%</th>\n",
              "      <td>857.000000</td>\n",
              "      <td>2007.0</td>\n",
              "      <td>1.051753e+07</td>\n",
              "      <td>71.935500</td>\n",
              "      <td>6124.371108</td>\n",
              "    </tr>\n",
              "    <tr>\n",
              "      <th>75%</th>\n",
              "      <td>1280.000000</td>\n",
              "      <td>2007.0</td>\n",
              "      <td>3.121004e+07</td>\n",
              "      <td>76.413250</td>\n",
              "      <td>18008.835640</td>\n",
              "    </tr>\n",
              "    <tr>\n",
              "      <th>max</th>\n",
              "      <td>1703.000000</td>\n",
              "      <td>2007.0</td>\n",
              "      <td>1.318683e+09</td>\n",
              "      <td>82.603000</td>\n",
              "      <td>49357.190170</td>\n",
              "    </tr>\n",
              "  </tbody>\n",
              "</table>\n",
              "</div>\n",
              "      <button class=\"colab-df-convert\" onclick=\"convertToInteractive('df-b311fcab-11b9-4db3-b1a9-7ee69d092eab')\"\n",
              "              title=\"Convert this dataframe to an interactive table.\"\n",
              "              style=\"display:none;\">\n",
              "        \n",
              "  <svg xmlns=\"http://www.w3.org/2000/svg\" height=\"24px\"viewBox=\"0 0 24 24\"\n",
              "       width=\"24px\">\n",
              "    <path d=\"M0 0h24v24H0V0z\" fill=\"none\"/>\n",
              "    <path d=\"M18.56 5.44l.94 2.06.94-2.06 2.06-.94-2.06-.94-.94-2.06-.94 2.06-2.06.94zm-11 1L8.5 8.5l.94-2.06 2.06-.94-2.06-.94L8.5 2.5l-.94 2.06-2.06.94zm10 10l.94 2.06.94-2.06 2.06-.94-2.06-.94-.94-2.06-.94 2.06-2.06.94z\"/><path d=\"M17.41 7.96l-1.37-1.37c-.4-.4-.92-.59-1.43-.59-.52 0-1.04.2-1.43.59L10.3 9.45l-7.72 7.72c-.78.78-.78 2.05 0 2.83L4 21.41c.39.39.9.59 1.41.59.51 0 1.02-.2 1.41-.59l7.78-7.78 2.81-2.81c.8-.78.8-2.07 0-2.86zM5.41 20L4 18.59l7.72-7.72 1.47 1.35L5.41 20z\"/>\n",
              "  </svg>\n",
              "      </button>\n",
              "      \n",
              "  <style>\n",
              "    .colab-df-container {\n",
              "      display:flex;\n",
              "      flex-wrap:wrap;\n",
              "      gap: 12px;\n",
              "    }\n",
              "\n",
              "    .colab-df-convert {\n",
              "      background-color: #E8F0FE;\n",
              "      border: none;\n",
              "      border-radius: 50%;\n",
              "      cursor: pointer;\n",
              "      display: none;\n",
              "      fill: #1967D2;\n",
              "      height: 32px;\n",
              "      padding: 0 0 0 0;\n",
              "      width: 32px;\n",
              "    }\n",
              "\n",
              "    .colab-df-convert:hover {\n",
              "      background-color: #E2EBFA;\n",
              "      box-shadow: 0px 1px 2px rgba(60, 64, 67, 0.3), 0px 1px 3px 1px rgba(60, 64, 67, 0.15);\n",
              "      fill: #174EA6;\n",
              "    }\n",
              "\n",
              "    [theme=dark] .colab-df-convert {\n",
              "      background-color: #3B4455;\n",
              "      fill: #D2E3FC;\n",
              "    }\n",
              "\n",
              "    [theme=dark] .colab-df-convert:hover {\n",
              "      background-color: #434B5C;\n",
              "      box-shadow: 0px 1px 3px 1px rgba(0, 0, 0, 0.15);\n",
              "      filter: drop-shadow(0px 1px 2px rgba(0, 0, 0, 0.3));\n",
              "      fill: #FFFFFF;\n",
              "    }\n",
              "  </style>\n",
              "\n",
              "      <script>\n",
              "        const buttonEl =\n",
              "          document.querySelector('#df-b311fcab-11b9-4db3-b1a9-7ee69d092eab button.colab-df-convert');\n",
              "        buttonEl.style.display =\n",
              "          google.colab.kernel.accessAllowed ? 'block' : 'none';\n",
              "\n",
              "        async function convertToInteractive(key) {\n",
              "          const element = document.querySelector('#df-b311fcab-11b9-4db3-b1a9-7ee69d092eab');\n",
              "          const dataTable =\n",
              "            await google.colab.kernel.invokeFunction('convertToInteractive',\n",
              "                                                     [key], {});\n",
              "          if (!dataTable) return;\n",
              "\n",
              "          const docLinkHtml = 'Like what you see? Visit the ' +\n",
              "            '<a target=\"_blank\" href=https://colab.research.google.com/notebooks/data_table.ipynb>data table notebook</a>'\n",
              "            + ' to learn more about interactive tables.';\n",
              "          element.innerHTML = '';\n",
              "          dataTable['output_type'] = 'display_data';\n",
              "          await google.colab.output.renderOutput(dataTable, element);\n",
              "          const docLink = document.createElement('div');\n",
              "          docLink.innerHTML = docLinkHtml;\n",
              "          element.appendChild(docLink);\n",
              "        }\n",
              "      </script>\n",
              "    </div>\n",
              "  </div>\n",
              "  "
            ]
          },
          "metadata": {},
          "execution_count": 10
        }
      ],
      "source": [
        "df.describe()"
      ]
    },
    {
      "cell_type": "markdown",
      "metadata": {
        "id": "HGEwQkK7K3-p"
      },
      "source": [
        "Para fazer um filtro com os dados.Se quizer saber quais os continentes que compoem o cenário."
      ]
    },
    {
      "cell_type": "code",
      "execution_count": 11,
      "metadata": {
        "colab": {
          "base_uri": "https://localhost:8080/"
        },
        "id": "6CZLucYFLZVC",
        "outputId": "65770f66-772d-437b-cc6b-d1bd7e98d859"
      },
      "outputs": [
        {
          "output_type": "execute_result",
          "data": {
            "text/plain": [
              "array(['Asia', 'Europe', 'Africa', 'Americas', 'Oceania'], dtype=object)"
            ]
          },
          "metadata": {},
          "execution_count": 11
        }
      ],
      "source": [
        "df[\"Continente\"].unique()"
      ]
    },
    {
      "cell_type": "markdown",
      "metadata": {
        "id": "1zKaDjHKLrtV"
      },
      "source": [
        "Sabendo os continentes, posso criar uma variável para ver os paíse que compõem aquele continente."
      ]
    },
    {
      "cell_type": "code",
      "execution_count": 12,
      "metadata": {
        "colab": {
          "base_uri": "https://localhost:8080/",
          "height": 112
        },
        "id": "mKcathD7Lw1F",
        "outputId": "f14f3d34-9c02-4921-96ef-437c62d003b8"
      },
      "outputs": [
        {
          "output_type": "execute_result",
          "data": {
            "text/plain": [
              "    Unnamed: 0         País   Ano  População Continente  Expectativa de vida  \\\n",
              "5           71    Australia  2007   20434176    Oceania               81.235   \n",
              "91        1103  New Zealand  2007    4115771    Oceania               80.204   \n",
              "\n",
              "            PIB  \n",
              "5   34435.36744  \n",
              "91  25185.00911  "
            ],
            "text/html": [
              "\n",
              "  <div id=\"df-7a7ecab7-2b5a-4d63-a179-037f2775594a\">\n",
              "    <div class=\"colab-df-container\">\n",
              "      <div>\n",
              "<style scoped>\n",
              "    .dataframe tbody tr th:only-of-type {\n",
              "        vertical-align: middle;\n",
              "    }\n",
              "\n",
              "    .dataframe tbody tr th {\n",
              "        vertical-align: top;\n",
              "    }\n",
              "\n",
              "    .dataframe thead th {\n",
              "        text-align: right;\n",
              "    }\n",
              "</style>\n",
              "<table border=\"1\" class=\"dataframe\">\n",
              "  <thead>\n",
              "    <tr style=\"text-align: right;\">\n",
              "      <th></th>\n",
              "      <th>Unnamed: 0</th>\n",
              "      <th>País</th>\n",
              "      <th>Ano</th>\n",
              "      <th>População</th>\n",
              "      <th>Continente</th>\n",
              "      <th>Expectativa de vida</th>\n",
              "      <th>PIB</th>\n",
              "    </tr>\n",
              "  </thead>\n",
              "  <tbody>\n",
              "    <tr>\n",
              "      <th>5</th>\n",
              "      <td>71</td>\n",
              "      <td>Australia</td>\n",
              "      <td>2007</td>\n",
              "      <td>20434176</td>\n",
              "      <td>Oceania</td>\n",
              "      <td>81.235</td>\n",
              "      <td>34435.36744</td>\n",
              "    </tr>\n",
              "    <tr>\n",
              "      <th>91</th>\n",
              "      <td>1103</td>\n",
              "      <td>New Zealand</td>\n",
              "      <td>2007</td>\n",
              "      <td>4115771</td>\n",
              "      <td>Oceania</td>\n",
              "      <td>80.204</td>\n",
              "      <td>25185.00911</td>\n",
              "    </tr>\n",
              "  </tbody>\n",
              "</table>\n",
              "</div>\n",
              "      <button class=\"colab-df-convert\" onclick=\"convertToInteractive('df-7a7ecab7-2b5a-4d63-a179-037f2775594a')\"\n",
              "              title=\"Convert this dataframe to an interactive table.\"\n",
              "              style=\"display:none;\">\n",
              "        \n",
              "  <svg xmlns=\"http://www.w3.org/2000/svg\" height=\"24px\"viewBox=\"0 0 24 24\"\n",
              "       width=\"24px\">\n",
              "    <path d=\"M0 0h24v24H0V0z\" fill=\"none\"/>\n",
              "    <path d=\"M18.56 5.44l.94 2.06.94-2.06 2.06-.94-2.06-.94-.94-2.06-.94 2.06-2.06.94zm-11 1L8.5 8.5l.94-2.06 2.06-.94-2.06-.94L8.5 2.5l-.94 2.06-2.06.94zm10 10l.94 2.06.94-2.06 2.06-.94-2.06-.94-.94-2.06-.94 2.06-2.06.94z\"/><path d=\"M17.41 7.96l-1.37-1.37c-.4-.4-.92-.59-1.43-.59-.52 0-1.04.2-1.43.59L10.3 9.45l-7.72 7.72c-.78.78-.78 2.05 0 2.83L4 21.41c.39.39.9.59 1.41.59.51 0 1.02-.2 1.41-.59l7.78-7.78 2.81-2.81c.8-.78.8-2.07 0-2.86zM5.41 20L4 18.59l7.72-7.72 1.47 1.35L5.41 20z\"/>\n",
              "  </svg>\n",
              "      </button>\n",
              "      \n",
              "  <style>\n",
              "    .colab-df-container {\n",
              "      display:flex;\n",
              "      flex-wrap:wrap;\n",
              "      gap: 12px;\n",
              "    }\n",
              "\n",
              "    .colab-df-convert {\n",
              "      background-color: #E8F0FE;\n",
              "      border: none;\n",
              "      border-radius: 50%;\n",
              "      cursor: pointer;\n",
              "      display: none;\n",
              "      fill: #1967D2;\n",
              "      height: 32px;\n",
              "      padding: 0 0 0 0;\n",
              "      width: 32px;\n",
              "    }\n",
              "\n",
              "    .colab-df-convert:hover {\n",
              "      background-color: #E2EBFA;\n",
              "      box-shadow: 0px 1px 2px rgba(60, 64, 67, 0.3), 0px 1px 3px 1px rgba(60, 64, 67, 0.15);\n",
              "      fill: #174EA6;\n",
              "    }\n",
              "\n",
              "    [theme=dark] .colab-df-convert {\n",
              "      background-color: #3B4455;\n",
              "      fill: #D2E3FC;\n",
              "    }\n",
              "\n",
              "    [theme=dark] .colab-df-convert:hover {\n",
              "      background-color: #434B5C;\n",
              "      box-shadow: 0px 1px 3px 1px rgba(0, 0, 0, 0.15);\n",
              "      filter: drop-shadow(0px 1px 2px rgba(0, 0, 0, 0.3));\n",
              "      fill: #FFFFFF;\n",
              "    }\n",
              "  </style>\n",
              "\n",
              "      <script>\n",
              "        const buttonEl =\n",
              "          document.querySelector('#df-7a7ecab7-2b5a-4d63-a179-037f2775594a button.colab-df-convert');\n",
              "        buttonEl.style.display =\n",
              "          google.colab.kernel.accessAllowed ? 'block' : 'none';\n",
              "\n",
              "        async function convertToInteractive(key) {\n",
              "          const element = document.querySelector('#df-7a7ecab7-2b5a-4d63-a179-037f2775594a');\n",
              "          const dataTable =\n",
              "            await google.colab.kernel.invokeFunction('convertToInteractive',\n",
              "                                                     [key], {});\n",
              "          if (!dataTable) return;\n",
              "\n",
              "          const docLinkHtml = 'Like what you see? Visit the ' +\n",
              "            '<a target=\"_blank\" href=https://colab.research.google.com/notebooks/data_table.ipynb>data table notebook</a>'\n",
              "            + ' to learn more about interactive tables.';\n",
              "          element.innerHTML = '';\n",
              "          dataTable['output_type'] = 'display_data';\n",
              "          await google.colab.output.renderOutput(dataTable, element);\n",
              "          const docLink = document.createElement('div');\n",
              "          docLink.innerHTML = docLinkHtml;\n",
              "          element.appendChild(docLink);\n",
              "        }\n",
              "      </script>\n",
              "    </div>\n",
              "  </div>\n",
              "  "
            ]
          },
          "metadata": {},
          "execution_count": 12
        }
      ],
      "source": [
        "Oceania = df.loc[df[\"Continente\"] == \"Oceania\"]\n",
        "Oceania.head()"
      ]
    },
    {
      "cell_type": "markdown",
      "metadata": {
        "id": "hQRoDvpFNOC3"
      },
      "source": [
        "Fazendo um novo filtro"
      ]
    },
    {
      "cell_type": "code",
      "execution_count": 13,
      "metadata": {
        "colab": {
          "base_uri": "https://localhost:8080/"
        },
        "id": "g6l9ND0TNVhB",
        "outputId": "d1b6a837-f4c9-4bb1-d3c3-ef5e9f3c5e20"
      },
      "outputs": [
        {
          "output_type": "execute_result",
          "data": {
            "text/plain": [
              "array(['Oceania'], dtype=object)"
            ]
          },
          "metadata": {},
          "execution_count": 13
        }
      ],
      "source": [
        "Oceania[\"Continente\"].unique()"
      ]
    },
    {
      "cell_type": "markdown",
      "metadata": {
        "id": "qtKObQRQN9A7"
      },
      "source": [
        "Para agrupar dados por continente e saber quantos são os países"
      ]
    },
    {
      "cell_type": "code",
      "execution_count": 14,
      "metadata": {
        "colab": {
          "base_uri": "https://localhost:8080/"
        },
        "id": "q4p1B5MDOIms",
        "outputId": "139c1844-0ff8-43f9-b3ee-e9d3cdef05bc"
      },
      "outputs": [
        {
          "output_type": "execute_result",
          "data": {
            "text/plain": [
              "Continente\n",
              "Africa      52\n",
              "Americas    25\n",
              "Asia        33\n",
              "Europe      30\n",
              "Oceania      2\n",
              "Name: País, dtype: int64"
            ]
          },
          "metadata": {},
          "execution_count": 14
        }
      ],
      "source": [
        "df.groupby(\"Continente\")[\"País\"].nunique()"
      ]
    },
    {
      "cell_type": "markdown",
      "metadata": {
        "id": "gFrrso2nOvPl"
      },
      "source": [
        "Para saber a expectativa de vida média por ano."
      ]
    },
    {
      "cell_type": "code",
      "execution_count": 15,
      "metadata": {
        "colab": {
          "base_uri": "https://localhost:8080/"
        },
        "id": "NRJzAffjPSXV",
        "outputId": "7a73b10e-9ee9-489e-99be-18b2e14e0b9a"
      },
      "outputs": [
        {
          "output_type": "execute_result",
          "data": {
            "text/plain": [
              "Ano\n",
              "2007    67.007423\n",
              "Name: Expectativa de vida, dtype: float64"
            ]
          },
          "metadata": {},
          "execution_count": 15
        }
      ],
      "source": [
        "df.groupby(\"Ano\")[\"Expectativa de vida\"].mean()"
      ]
    },
    {
      "cell_type": "markdown",
      "metadata": {
        "id": "HJpC7mDJPfyV"
      },
      "source": [
        "Par saber o PIB médio e a soma do PIB."
      ]
    },
    {
      "cell_type": "code",
      "execution_count": 16,
      "metadata": {
        "colab": {
          "base_uri": "https://localhost:8080/"
        },
        "id": "jGwfw49gP5gm",
        "outputId": "274e22a2-dc2d-4303-f654-9ecb63314d2b"
      },
      "outputs": [
        {
          "output_type": "execute_result",
          "data": {
            "text/plain": [
              "11680.071819878167"
            ]
          },
          "metadata": {},
          "execution_count": 16
        }
      ],
      "source": [
        "df[\"PIB\"].mean()\n"
      ]
    },
    {
      "cell_type": "code",
      "execution_count": 17,
      "metadata": {
        "colab": {
          "base_uri": "https://localhost:8080/"
        },
        "id": "7sYPbTWGQSkA",
        "outputId": "5e92b4ef-b8d9-41ce-9f51-87f5734f39b4"
      },
      "outputs": [
        {
          "output_type": "execute_result",
          "data": {
            "text/plain": [
              "1658570.1984226997"
            ]
          },
          "metadata": {},
          "execution_count": 17
        }
      ],
      "source": [
        "df[\"PIB\"].sum()"
      ]
    },
    {
      "cell_type": "markdown",
      "metadata": {
        "id": "49m-fgGOQVvo"
      },
      "source": []
    }
  ],
  "metadata": {
    "colab": {
      "provenance": [],
      "include_colab_link": true
    },
    "kernelspec": {
      "display_name": "Python 3",
      "language": "python",
      "name": "python3"
    },
    "language_info": {
      "codemirror_mode": {
        "name": "ipython",
        "version": 3
      },
      "file_extension": ".py",
      "mimetype": "text/x-python",
      "name": "python",
      "nbconvert_exporter": "python",
      "pygments_lexer": "ipython3",
      "version": "3.11.0"
    },
    "vscode": {
      "interpreter": {
        "hash": "e9c810165864b209999106c5fd7dc3b0d09538f9b12de694bbb006dfd5daea4c"
      }
    }
  },
  "nbformat": 4,
  "nbformat_minor": 0
}