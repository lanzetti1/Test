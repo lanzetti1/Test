{
  "nbformat": 4,
  "nbformat_minor": 0,
  "metadata": {
    "colab": {
      "provenance": [],
      "authorship_tag": "ABX9TyO/4rN5FOjzYRahNOeVaRvf",
      "include_colab_link": true
    },
    "kernelspec": {
      "name": "python3",
      "display_name": "Python 3"
    },
    "language_info": {
      "name": "python"
    }
  },
  "cells": [
    {
      "cell_type": "markdown",
      "metadata": {
        "id": "view-in-github",
        "colab_type": "text"
      },
      "source": [
        "<a href=\"https://colab.research.google.com/github/lanzetti1/Test/blob/main/4%2C1%2C2.ipynb\" target=\"_parent\"><img src=\"https://colab.research.google.com/assets/colab-badge.svg\" alt=\"Open In Colab\"/></a>"
      ]
    },
    {
      "cell_type": "code",
      "execution_count": null,
      "metadata": {
        "id": "MXadvXEBiGP6"
      },
      "outputs": [],
      "source": []
    },
    {
      "cell_type": "markdown",
      "metadata": {
        "id": "view-in-github"
      },
      "source": [
        "<a href=\"https://colab.research.google.com/github/lanzetti1/Test/blob/main/PI4.ipynb\" target=\"_parent\"><img src=\"https://colab.research.google.com/assets/colab-badge.svg\" alt=\"Open In Colab\"/></a>"
      ]
    },
    {
      "cell_type": "markdown",
      "metadata": {
        "id": "rcf9mwzuBn96"
      },
      "source": [
        "Exercícios de utilização da biblioteca pandas"
      ]
    },
    {
      "cell_type": "code",
      "execution_count": 1,
      "metadata": {
        "id": "Km7lPdONAIw1"
      },
      "outputs": [],
      "source": [
        "import pandas as pd"
      ]
    },
    {
      "cell_type": "code",
      "source": [
        "from google.colab import drive\n",
        "drive.mount('/content/drive')"
      ],
      "metadata": {
        "colab": {
          "base_uri": "https://localhost:8080/"
        },
        "id": "GWuMCgmIcZ6i",
        "outputId": "6b6ca30d-3b95-4929-91d3-16446ad97c80"
      },
      "execution_count": 2,
      "outputs": [
        {
          "output_type": "stream",
          "name": "stdout",
          "text": [
            "Drive already mounted at /content/drive; to attempt to forcibly remount, call drive.mount(\"/content/drive\", force_remount=True).\n"
          ]
        }
      ]
    },
    {
      "cell_type": "markdown",
      "metadata": {
        "id": "MByr3rLTBmba"
      },
      "source": [
        "Buscando arquivos no google drive"
      ]
    },
    {
      "cell_type": "code",
      "execution_count": 3,
      "metadata": {
        "id": "ZsW6pjJPCBEz"
      },
      "outputs": [],
      "source": [
        "# o arquivo aparece um erro, \"ParserError: Error tokenizing data. C error: Expected 1 fields in line 665, saw 2\", para permitir que ele não seja lido, coloco uma \",\" e altero uma condição para false\n",
        "# df = pd.read_csv(\"/content/gapminder - gapminder.csv\",)\n",
        "df = pd.read_csv(\"/content/gapminder_full.csv\",)"
      ]
    },
    {
      "cell_type": "code",
      "execution_count": 4,
      "metadata": {
        "colab": {
          "base_uri": "https://localhost:8080/",
          "height": 206
        },
        "id": "xiPMzR3cD-mV",
        "outputId": "9d122c50-f287-45a2-d2ea-cc2f2ddef587"
      },
      "outputs": [
        {
          "output_type": "execute_result",
          "data": {
            "text/plain": [
              "       country  year  population continent  life_exp     gdp_cap\n",
              "0  Afghanistan  1952     8425333      Asia    28.801  779.445314\n",
              "1  Afghanistan  1957     9240934      Asia    30.332  820.853030\n",
              "2  Afghanistan  1962    10267083      Asia    31.997  853.100710\n",
              "3  Afghanistan  1967    11537966      Asia    34.020  836.197138\n",
              "4  Afghanistan  1972    13079460      Asia    36.088  739.981106"
            ],
            "text/html": [
              "\n",
              "  <div id=\"df-11138041-0b33-45e7-a7b1-5c911bbc989e\">\n",
              "    <div class=\"colab-df-container\">\n",
              "      <div>\n",
              "<style scoped>\n",
              "    .dataframe tbody tr th:only-of-type {\n",
              "        vertical-align: middle;\n",
              "    }\n",
              "\n",
              "    .dataframe tbody tr th {\n",
              "        vertical-align: top;\n",
              "    }\n",
              "\n",
              "    .dataframe thead th {\n",
              "        text-align: right;\n",
              "    }\n",
              "</style>\n",
              "<table border=\"1\" class=\"dataframe\">\n",
              "  <thead>\n",
              "    <tr style=\"text-align: right;\">\n",
              "      <th></th>\n",
              "      <th>country</th>\n",
              "      <th>year</th>\n",
              "      <th>population</th>\n",
              "      <th>continent</th>\n",
              "      <th>life_exp</th>\n",
              "      <th>gdp_cap</th>\n",
              "    </tr>\n",
              "  </thead>\n",
              "  <tbody>\n",
              "    <tr>\n",
              "      <th>0</th>\n",
              "      <td>Afghanistan</td>\n",
              "      <td>1952</td>\n",
              "      <td>8425333</td>\n",
              "      <td>Asia</td>\n",
              "      <td>28.801</td>\n",
              "      <td>779.445314</td>\n",
              "    </tr>\n",
              "    <tr>\n",
              "      <th>1</th>\n",
              "      <td>Afghanistan</td>\n",
              "      <td>1957</td>\n",
              "      <td>9240934</td>\n",
              "      <td>Asia</td>\n",
              "      <td>30.332</td>\n",
              "      <td>820.853030</td>\n",
              "    </tr>\n",
              "    <tr>\n",
              "      <th>2</th>\n",
              "      <td>Afghanistan</td>\n",
              "      <td>1962</td>\n",
              "      <td>10267083</td>\n",
              "      <td>Asia</td>\n",
              "      <td>31.997</td>\n",
              "      <td>853.100710</td>\n",
              "    </tr>\n",
              "    <tr>\n",
              "      <th>3</th>\n",
              "      <td>Afghanistan</td>\n",
              "      <td>1967</td>\n",
              "      <td>11537966</td>\n",
              "      <td>Asia</td>\n",
              "      <td>34.020</td>\n",
              "      <td>836.197138</td>\n",
              "    </tr>\n",
              "    <tr>\n",
              "      <th>4</th>\n",
              "      <td>Afghanistan</td>\n",
              "      <td>1972</td>\n",
              "      <td>13079460</td>\n",
              "      <td>Asia</td>\n",
              "      <td>36.088</td>\n",
              "      <td>739.981106</td>\n",
              "    </tr>\n",
              "  </tbody>\n",
              "</table>\n",
              "</div>\n",
              "      <button class=\"colab-df-convert\" onclick=\"convertToInteractive('df-11138041-0b33-45e7-a7b1-5c911bbc989e')\"\n",
              "              title=\"Convert this dataframe to an interactive table.\"\n",
              "              style=\"display:none;\">\n",
              "        \n",
              "  <svg xmlns=\"http://www.w3.org/2000/svg\" height=\"24px\"viewBox=\"0 0 24 24\"\n",
              "       width=\"24px\">\n",
              "    <path d=\"M0 0h24v24H0V0z\" fill=\"none\"/>\n",
              "    <path d=\"M18.56 5.44l.94 2.06.94-2.06 2.06-.94-2.06-.94-.94-2.06-.94 2.06-2.06.94zm-11 1L8.5 8.5l.94-2.06 2.06-.94-2.06-.94L8.5 2.5l-.94 2.06-2.06.94zm10 10l.94 2.06.94-2.06 2.06-.94-2.06-.94-.94-2.06-.94 2.06-2.06.94z\"/><path d=\"M17.41 7.96l-1.37-1.37c-.4-.4-.92-.59-1.43-.59-.52 0-1.04.2-1.43.59L10.3 9.45l-7.72 7.72c-.78.78-.78 2.05 0 2.83L4 21.41c.39.39.9.59 1.41.59.51 0 1.02-.2 1.41-.59l7.78-7.78 2.81-2.81c.8-.78.8-2.07 0-2.86zM5.41 20L4 18.59l7.72-7.72 1.47 1.35L5.41 20z\"/>\n",
              "  </svg>\n",
              "      </button>\n",
              "      \n",
              "  <style>\n",
              "    .colab-df-container {\n",
              "      display:flex;\n",
              "      flex-wrap:wrap;\n",
              "      gap: 12px;\n",
              "    }\n",
              "\n",
              "    .colab-df-convert {\n",
              "      background-color: #E8F0FE;\n",
              "      border: none;\n",
              "      border-radius: 50%;\n",
              "      cursor: pointer;\n",
              "      display: none;\n",
              "      fill: #1967D2;\n",
              "      height: 32px;\n",
              "      padding: 0 0 0 0;\n",
              "      width: 32px;\n",
              "    }\n",
              "\n",
              "    .colab-df-convert:hover {\n",
              "      background-color: #E2EBFA;\n",
              "      box-shadow: 0px 1px 2px rgba(60, 64, 67, 0.3), 0px 1px 3px 1px rgba(60, 64, 67, 0.15);\n",
              "      fill: #174EA6;\n",
              "    }\n",
              "\n",
              "    [theme=dark] .colab-df-convert {\n",
              "      background-color: #3B4455;\n",
              "      fill: #D2E3FC;\n",
              "    }\n",
              "\n",
              "    [theme=dark] .colab-df-convert:hover {\n",
              "      background-color: #434B5C;\n",
              "      box-shadow: 0px 1px 3px 1px rgba(0, 0, 0, 0.15);\n",
              "      filter: drop-shadow(0px 1px 2px rgba(0, 0, 0, 0.3));\n",
              "      fill: #FFFFFF;\n",
              "    }\n",
              "  </style>\n",
              "\n",
              "      <script>\n",
              "        const buttonEl =\n",
              "          document.querySelector('#df-11138041-0b33-45e7-a7b1-5c911bbc989e button.colab-df-convert');\n",
              "        buttonEl.style.display =\n",
              "          google.colab.kernel.accessAllowed ? 'block' : 'none';\n",
              "\n",
              "        async function convertToInteractive(key) {\n",
              "          const element = document.querySelector('#df-11138041-0b33-45e7-a7b1-5c911bbc989e');\n",
              "          const dataTable =\n",
              "            await google.colab.kernel.invokeFunction('convertToInteractive',\n",
              "                                                     [key], {});\n",
              "          if (!dataTable) return;\n",
              "\n",
              "          const docLinkHtml = 'Like what you see? Visit the ' +\n",
              "            '<a target=\"_blank\" href=https://colab.research.google.com/notebooks/data_table.ipynb>data table notebook</a>'\n",
              "            + ' to learn more about interactive tables.';\n",
              "          element.innerHTML = '';\n",
              "          dataTable['output_type'] = 'display_data';\n",
              "          await google.colab.output.renderOutput(dataTable, element);\n",
              "          const docLink = document.createElement('div');\n",
              "          docLink.innerHTML = docLinkHtml;\n",
              "          element.appendChild(docLink);\n",
              "        }\n",
              "      </script>\n",
              "    </div>\n",
              "  </div>\n",
              "  "
            ]
          },
          "metadata": {},
          "execution_count": 4
        }
      ],
      "source": [
        "# Para visualizar os cinco primeiros ítens da lista digito:\n",
        "\n",
        "df.head()"
      ]
    },
    {
      "cell_type": "markdown",
      "metadata": {
        "id": "ETC9TDccFRo6"
      },
      "source": [
        "Alterando os nomes das colunas de inglês para português e salvando novamente na variável."
      ]
    },
    {
      "cell_type": "code",
      "execution_count": 5,
      "metadata": {
        "colab": {
          "base_uri": "https://localhost:8080/",
          "height": 363
        },
        "id": "UIRRxhzcG8Wh",
        "outputId": "30d23b3d-abcb-49c3-f7f2-b663c93b205b"
      },
      "outputs": [
        {
          "output_type": "execute_result",
          "data": {
            "text/plain": [
              "          País   Ano  População Continente  Expectativa de vida         PIB\n",
              "0  Afghanistan  1952    8425333       Asia               28.801  779.445314\n",
              "1  Afghanistan  1957    9240934       Asia               30.332  820.853030\n",
              "2  Afghanistan  1962   10267083       Asia               31.997  853.100710\n",
              "3  Afghanistan  1967   11537966       Asia               34.020  836.197138\n",
              "4  Afghanistan  1972   13079460       Asia               36.088  739.981106\n",
              "5  Afghanistan  1977   14880372       Asia               38.438  786.113360\n",
              "6  Afghanistan  1982   12881816       Asia               39.854  978.011439\n",
              "7  Afghanistan  1987   13867957       Asia               40.822  852.395945\n",
              "8  Afghanistan  1992   16317921       Asia               41.674  649.341395\n",
              "9  Afghanistan  1997   22227415       Asia               41.763  635.341351"
            ],
            "text/html": [
              "\n",
              "  <div id=\"df-ad585d86-5e03-4f04-bead-1b0a765c7b15\">\n",
              "    <div class=\"colab-df-container\">\n",
              "      <div>\n",
              "<style scoped>\n",
              "    .dataframe tbody tr th:only-of-type {\n",
              "        vertical-align: middle;\n",
              "    }\n",
              "\n",
              "    .dataframe tbody tr th {\n",
              "        vertical-align: top;\n",
              "    }\n",
              "\n",
              "    .dataframe thead th {\n",
              "        text-align: right;\n",
              "    }\n",
              "</style>\n",
              "<table border=\"1\" class=\"dataframe\">\n",
              "  <thead>\n",
              "    <tr style=\"text-align: right;\">\n",
              "      <th></th>\n",
              "      <th>País</th>\n",
              "      <th>Ano</th>\n",
              "      <th>População</th>\n",
              "      <th>Continente</th>\n",
              "      <th>Expectativa de vida</th>\n",
              "      <th>PIB</th>\n",
              "    </tr>\n",
              "  </thead>\n",
              "  <tbody>\n",
              "    <tr>\n",
              "      <th>0</th>\n",
              "      <td>Afghanistan</td>\n",
              "      <td>1952</td>\n",
              "      <td>8425333</td>\n",
              "      <td>Asia</td>\n",
              "      <td>28.801</td>\n",
              "      <td>779.445314</td>\n",
              "    </tr>\n",
              "    <tr>\n",
              "      <th>1</th>\n",
              "      <td>Afghanistan</td>\n",
              "      <td>1957</td>\n",
              "      <td>9240934</td>\n",
              "      <td>Asia</td>\n",
              "      <td>30.332</td>\n",
              "      <td>820.853030</td>\n",
              "    </tr>\n",
              "    <tr>\n",
              "      <th>2</th>\n",
              "      <td>Afghanistan</td>\n",
              "      <td>1962</td>\n",
              "      <td>10267083</td>\n",
              "      <td>Asia</td>\n",
              "      <td>31.997</td>\n",
              "      <td>853.100710</td>\n",
              "    </tr>\n",
              "    <tr>\n",
              "      <th>3</th>\n",
              "      <td>Afghanistan</td>\n",
              "      <td>1967</td>\n",
              "      <td>11537966</td>\n",
              "      <td>Asia</td>\n",
              "      <td>34.020</td>\n",
              "      <td>836.197138</td>\n",
              "    </tr>\n",
              "    <tr>\n",
              "      <th>4</th>\n",
              "      <td>Afghanistan</td>\n",
              "      <td>1972</td>\n",
              "      <td>13079460</td>\n",
              "      <td>Asia</td>\n",
              "      <td>36.088</td>\n",
              "      <td>739.981106</td>\n",
              "    </tr>\n",
              "    <tr>\n",
              "      <th>5</th>\n",
              "      <td>Afghanistan</td>\n",
              "      <td>1977</td>\n",
              "      <td>14880372</td>\n",
              "      <td>Asia</td>\n",
              "      <td>38.438</td>\n",
              "      <td>786.113360</td>\n",
              "    </tr>\n",
              "    <tr>\n",
              "      <th>6</th>\n",
              "      <td>Afghanistan</td>\n",
              "      <td>1982</td>\n",
              "      <td>12881816</td>\n",
              "      <td>Asia</td>\n",
              "      <td>39.854</td>\n",
              "      <td>978.011439</td>\n",
              "    </tr>\n",
              "    <tr>\n",
              "      <th>7</th>\n",
              "      <td>Afghanistan</td>\n",
              "      <td>1987</td>\n",
              "      <td>13867957</td>\n",
              "      <td>Asia</td>\n",
              "      <td>40.822</td>\n",
              "      <td>852.395945</td>\n",
              "    </tr>\n",
              "    <tr>\n",
              "      <th>8</th>\n",
              "      <td>Afghanistan</td>\n",
              "      <td>1992</td>\n",
              "      <td>16317921</td>\n",
              "      <td>Asia</td>\n",
              "      <td>41.674</td>\n",
              "      <td>649.341395</td>\n",
              "    </tr>\n",
              "    <tr>\n",
              "      <th>9</th>\n",
              "      <td>Afghanistan</td>\n",
              "      <td>1997</td>\n",
              "      <td>22227415</td>\n",
              "      <td>Asia</td>\n",
              "      <td>41.763</td>\n",
              "      <td>635.341351</td>\n",
              "    </tr>\n",
              "  </tbody>\n",
              "</table>\n",
              "</div>\n",
              "      <button class=\"colab-df-convert\" onclick=\"convertToInteractive('df-ad585d86-5e03-4f04-bead-1b0a765c7b15')\"\n",
              "              title=\"Convert this dataframe to an interactive table.\"\n",
              "              style=\"display:none;\">\n",
              "        \n",
              "  <svg xmlns=\"http://www.w3.org/2000/svg\" height=\"24px\"viewBox=\"0 0 24 24\"\n",
              "       width=\"24px\">\n",
              "    <path d=\"M0 0h24v24H0V0z\" fill=\"none\"/>\n",
              "    <path d=\"M18.56 5.44l.94 2.06.94-2.06 2.06-.94-2.06-.94-.94-2.06-.94 2.06-2.06.94zm-11 1L8.5 8.5l.94-2.06 2.06-.94-2.06-.94L8.5 2.5l-.94 2.06-2.06.94zm10 10l.94 2.06.94-2.06 2.06-.94-2.06-.94-.94-2.06-.94 2.06-2.06.94z\"/><path d=\"M17.41 7.96l-1.37-1.37c-.4-.4-.92-.59-1.43-.59-.52 0-1.04.2-1.43.59L10.3 9.45l-7.72 7.72c-.78.78-.78 2.05 0 2.83L4 21.41c.39.39.9.59 1.41.59.51 0 1.02-.2 1.41-.59l7.78-7.78 2.81-2.81c.8-.78.8-2.07 0-2.86zM5.41 20L4 18.59l7.72-7.72 1.47 1.35L5.41 20z\"/>\n",
              "  </svg>\n",
              "      </button>\n",
              "      \n",
              "  <style>\n",
              "    .colab-df-container {\n",
              "      display:flex;\n",
              "      flex-wrap:wrap;\n",
              "      gap: 12px;\n",
              "    }\n",
              "\n",
              "    .colab-df-convert {\n",
              "      background-color: #E8F0FE;\n",
              "      border: none;\n",
              "      border-radius: 50%;\n",
              "      cursor: pointer;\n",
              "      display: none;\n",
              "      fill: #1967D2;\n",
              "      height: 32px;\n",
              "      padding: 0 0 0 0;\n",
              "      width: 32px;\n",
              "    }\n",
              "\n",
              "    .colab-df-convert:hover {\n",
              "      background-color: #E2EBFA;\n",
              "      box-shadow: 0px 1px 2px rgba(60, 64, 67, 0.3), 0px 1px 3px 1px rgba(60, 64, 67, 0.15);\n",
              "      fill: #174EA6;\n",
              "    }\n",
              "\n",
              "    [theme=dark] .colab-df-convert {\n",
              "      background-color: #3B4455;\n",
              "      fill: #D2E3FC;\n",
              "    }\n",
              "\n",
              "    [theme=dark] .colab-df-convert:hover {\n",
              "      background-color: #434B5C;\n",
              "      box-shadow: 0px 1px 3px 1px rgba(0, 0, 0, 0.15);\n",
              "      filter: drop-shadow(0px 1px 2px rgba(0, 0, 0, 0.3));\n",
              "      fill: #FFFFFF;\n",
              "    }\n",
              "  </style>\n",
              "\n",
              "      <script>\n",
              "        const buttonEl =\n",
              "          document.querySelector('#df-ad585d86-5e03-4f04-bead-1b0a765c7b15 button.colab-df-convert');\n",
              "        buttonEl.style.display =\n",
              "          google.colab.kernel.accessAllowed ? 'block' : 'none';\n",
              "\n",
              "        async function convertToInteractive(key) {\n",
              "          const element = document.querySelector('#df-ad585d86-5e03-4f04-bead-1b0a765c7b15');\n",
              "          const dataTable =\n",
              "            await google.colab.kernel.invokeFunction('convertToInteractive',\n",
              "                                                     [key], {});\n",
              "          if (!dataTable) return;\n",
              "\n",
              "          const docLinkHtml = 'Like what you see? Visit the ' +\n",
              "            '<a target=\"_blank\" href=https://colab.research.google.com/notebooks/data_table.ipynb>data table notebook</a>'\n",
              "            + ' to learn more about interactive tables.';\n",
              "          element.innerHTML = '';\n",
              "          dataTable['output_type'] = 'display_data';\n",
              "          await google.colab.output.renderOutput(dataTable, element);\n",
              "          const docLink = document.createElement('div');\n",
              "          docLink.innerHTML = docLinkHtml;\n",
              "          element.appendChild(docLink);\n",
              "        }\n",
              "      </script>\n",
              "    </div>\n",
              "  </div>\n",
              "  "
            ]
          },
          "metadata": {},
          "execution_count": 5
        }
      ],
      "source": [
        "df = df.rename(columns={\"country\":\"País\", \"continent\":\"Continente\", \"year\":\"Ano\", \"life_exp\":\"Expectativa de vida\", \"population\":\"População\",\"gdp_cap\":\"PIB\"})\n",
        "\n",
        "# Para exibir as primeiras dez linhas alteramos o parâmetro do head() para head(10)\n",
        "df.head(10)"
      ]
    },
    {
      "cell_type": "markdown",
      "metadata": {
        "id": "Dh8QkWqrH0pI"
      },
      "source": [
        "Para saber o total de linhas e colunas uso o objeto data frame shape. "
      ]
    },
    {
      "cell_type": "code",
      "execution_count": 6,
      "metadata": {
        "colab": {
          "base_uri": "https://localhost:8080/"
        },
        "id": "1FV3EGrAI4Bs",
        "outputId": "9fe3ddc1-d0dc-41ea-bdaa-e25da916ea34"
      },
      "outputs": [
        {
          "output_type": "execute_result",
          "data": {
            "text/plain": [
              "(1704, 6)"
            ]
          },
          "metadata": {},
          "execution_count": 6
        }
      ],
      "source": [
        "df.shape"
      ]
    },
    {
      "cell_type": "markdown",
      "metadata": {
        "id": "OKuCP6i5JAh9"
      },
      "source": [
        "Para saber o título das colunas."
      ]
    },
    {
      "cell_type": "code",
      "execution_count": 7,
      "metadata": {
        "colab": {
          "base_uri": "https://localhost:8080/"
        },
        "id": "9AEbXEBoJn4H",
        "outputId": "472829e0-f1f6-4b5f-8397-778dd634756d"
      },
      "outputs": [
        {
          "output_type": "execute_result",
          "data": {
            "text/plain": [
              "Index(['País', 'Ano', 'População', 'Continente', 'Expectativa de vida', 'PIB'], dtype='object')"
            ]
          },
          "metadata": {},
          "execution_count": 7
        }
      ],
      "source": [
        "df.columns"
      ]
    },
    {
      "cell_type": "markdown",
      "metadata": {
        "id": "378wOO9FJ5cT"
      },
      "source": [
        "Para saber o tipo de dado armazenado."
      ]
    },
    {
      "cell_type": "code",
      "execution_count": 8,
      "metadata": {
        "colab": {
          "base_uri": "https://localhost:8080/"
        },
        "id": "3BOXWmQfKBe-",
        "outputId": "49a63522-d717-4142-b130-50274948b14b"
      },
      "outputs": [
        {
          "output_type": "execute_result",
          "data": {
            "text/plain": [
              "País                    object\n",
              "Ano                      int64\n",
              "População                int64\n",
              "Continente              object\n",
              "Expectativa de vida    float64\n",
              "PIB                    float64\n",
              "dtype: object"
            ]
          },
          "metadata": {},
          "execution_count": 8
        }
      ],
      "source": [
        "df.dtypes"
      ]
    },
    {
      "cell_type": "markdown",
      "metadata": {
        "id": "X-bW9e67KEqi"
      },
      "source": [
        "Para ver as últimas linhas 15 da tabela."
      ]
    },
    {
      "cell_type": "code",
      "execution_count": 9,
      "metadata": {
        "colab": {
          "base_uri": "https://localhost:8080/",
          "height": 519
        },
        "id": "CPTx0KRXKPkc",
        "outputId": "047e3680-45b8-4a9c-fa06-07d653fbf035"
      },
      "outputs": [
        {
          "output_type": "execute_result",
          "data": {
            "text/plain": [
              "          País   Ano  População Continente  Expectativa de vida          PIB\n",
              "1689    Zambia  1997    9417789     Africa               40.238  1071.353818\n",
              "1690    Zambia  2002   10595811     Africa               39.193  1071.613938\n",
              "1691    Zambia  2007   11746035     Africa               42.384  1271.211593\n",
              "1692  Zimbabwe  1952    3080907     Africa               48.451   406.884115\n",
              "1693  Zimbabwe  1957    3646340     Africa               50.469   518.764268\n",
              "1694  Zimbabwe  1962    4277736     Africa               52.358   527.272182\n",
              "1695  Zimbabwe  1967    4995432     Africa               53.995   569.795071\n",
              "1696  Zimbabwe  1972    5861135     Africa               55.635   799.362176\n",
              "1697  Zimbabwe  1977    6642107     Africa               57.674   685.587682\n",
              "1698  Zimbabwe  1982    7636524     Africa               60.363   788.855041\n",
              "1699  Zimbabwe  1987    9216418     Africa               62.351   706.157306\n",
              "1700  Zimbabwe  1992   10704340     Africa               60.377   693.420786\n",
              "1701  Zimbabwe  1997   11404948     Africa               46.809   792.449960\n",
              "1702  Zimbabwe  2002   11926563     Africa               39.989   672.038623\n",
              "1703  Zimbabwe  2007   12311143     Africa               43.487   469.709298"
            ],
            "text/html": [
              "\n",
              "  <div id=\"df-825f0dac-e6d9-4379-9e48-7568b8915a54\">\n",
              "    <div class=\"colab-df-container\">\n",
              "      <div>\n",
              "<style scoped>\n",
              "    .dataframe tbody tr th:only-of-type {\n",
              "        vertical-align: middle;\n",
              "    }\n",
              "\n",
              "    .dataframe tbody tr th {\n",
              "        vertical-align: top;\n",
              "    }\n",
              "\n",
              "    .dataframe thead th {\n",
              "        text-align: right;\n",
              "    }\n",
              "</style>\n",
              "<table border=\"1\" class=\"dataframe\">\n",
              "  <thead>\n",
              "    <tr style=\"text-align: right;\">\n",
              "      <th></th>\n",
              "      <th>País</th>\n",
              "      <th>Ano</th>\n",
              "      <th>População</th>\n",
              "      <th>Continente</th>\n",
              "      <th>Expectativa de vida</th>\n",
              "      <th>PIB</th>\n",
              "    </tr>\n",
              "  </thead>\n",
              "  <tbody>\n",
              "    <tr>\n",
              "      <th>1689</th>\n",
              "      <td>Zambia</td>\n",
              "      <td>1997</td>\n",
              "      <td>9417789</td>\n",
              "      <td>Africa</td>\n",
              "      <td>40.238</td>\n",
              "      <td>1071.353818</td>\n",
              "    </tr>\n",
              "    <tr>\n",
              "      <th>1690</th>\n",
              "      <td>Zambia</td>\n",
              "      <td>2002</td>\n",
              "      <td>10595811</td>\n",
              "      <td>Africa</td>\n",
              "      <td>39.193</td>\n",
              "      <td>1071.613938</td>\n",
              "    </tr>\n",
              "    <tr>\n",
              "      <th>1691</th>\n",
              "      <td>Zambia</td>\n",
              "      <td>2007</td>\n",
              "      <td>11746035</td>\n",
              "      <td>Africa</td>\n",
              "      <td>42.384</td>\n",
              "      <td>1271.211593</td>\n",
              "    </tr>\n",
              "    <tr>\n",
              "      <th>1692</th>\n",
              "      <td>Zimbabwe</td>\n",
              "      <td>1952</td>\n",
              "      <td>3080907</td>\n",
              "      <td>Africa</td>\n",
              "      <td>48.451</td>\n",
              "      <td>406.884115</td>\n",
              "    </tr>\n",
              "    <tr>\n",
              "      <th>1693</th>\n",
              "      <td>Zimbabwe</td>\n",
              "      <td>1957</td>\n",
              "      <td>3646340</td>\n",
              "      <td>Africa</td>\n",
              "      <td>50.469</td>\n",
              "      <td>518.764268</td>\n",
              "    </tr>\n",
              "    <tr>\n",
              "      <th>1694</th>\n",
              "      <td>Zimbabwe</td>\n",
              "      <td>1962</td>\n",
              "      <td>4277736</td>\n",
              "      <td>Africa</td>\n",
              "      <td>52.358</td>\n",
              "      <td>527.272182</td>\n",
              "    </tr>\n",
              "    <tr>\n",
              "      <th>1695</th>\n",
              "      <td>Zimbabwe</td>\n",
              "      <td>1967</td>\n",
              "      <td>4995432</td>\n",
              "      <td>Africa</td>\n",
              "      <td>53.995</td>\n",
              "      <td>569.795071</td>\n",
              "    </tr>\n",
              "    <tr>\n",
              "      <th>1696</th>\n",
              "      <td>Zimbabwe</td>\n",
              "      <td>1972</td>\n",
              "      <td>5861135</td>\n",
              "      <td>Africa</td>\n",
              "      <td>55.635</td>\n",
              "      <td>799.362176</td>\n",
              "    </tr>\n",
              "    <tr>\n",
              "      <th>1697</th>\n",
              "      <td>Zimbabwe</td>\n",
              "      <td>1977</td>\n",
              "      <td>6642107</td>\n",
              "      <td>Africa</td>\n",
              "      <td>57.674</td>\n",
              "      <td>685.587682</td>\n",
              "    </tr>\n",
              "    <tr>\n",
              "      <th>1698</th>\n",
              "      <td>Zimbabwe</td>\n",
              "      <td>1982</td>\n",
              "      <td>7636524</td>\n",
              "      <td>Africa</td>\n",
              "      <td>60.363</td>\n",
              "      <td>788.855041</td>\n",
              "    </tr>\n",
              "    <tr>\n",
              "      <th>1699</th>\n",
              "      <td>Zimbabwe</td>\n",
              "      <td>1987</td>\n",
              "      <td>9216418</td>\n",
              "      <td>Africa</td>\n",
              "      <td>62.351</td>\n",
              "      <td>706.157306</td>\n",
              "    </tr>\n",
              "    <tr>\n",
              "      <th>1700</th>\n",
              "      <td>Zimbabwe</td>\n",
              "      <td>1992</td>\n",
              "      <td>10704340</td>\n",
              "      <td>Africa</td>\n",
              "      <td>60.377</td>\n",
              "      <td>693.420786</td>\n",
              "    </tr>\n",
              "    <tr>\n",
              "      <th>1701</th>\n",
              "      <td>Zimbabwe</td>\n",
              "      <td>1997</td>\n",
              "      <td>11404948</td>\n",
              "      <td>Africa</td>\n",
              "      <td>46.809</td>\n",
              "      <td>792.449960</td>\n",
              "    </tr>\n",
              "    <tr>\n",
              "      <th>1702</th>\n",
              "      <td>Zimbabwe</td>\n",
              "      <td>2002</td>\n",
              "      <td>11926563</td>\n",
              "      <td>Africa</td>\n",
              "      <td>39.989</td>\n",
              "      <td>672.038623</td>\n",
              "    </tr>\n",
              "    <tr>\n",
              "      <th>1703</th>\n",
              "      <td>Zimbabwe</td>\n",
              "      <td>2007</td>\n",
              "      <td>12311143</td>\n",
              "      <td>Africa</td>\n",
              "      <td>43.487</td>\n",
              "      <td>469.709298</td>\n",
              "    </tr>\n",
              "  </tbody>\n",
              "</table>\n",
              "</div>\n",
              "      <button class=\"colab-df-convert\" onclick=\"convertToInteractive('df-825f0dac-e6d9-4379-9e48-7568b8915a54')\"\n",
              "              title=\"Convert this dataframe to an interactive table.\"\n",
              "              style=\"display:none;\">\n",
              "        \n",
              "  <svg xmlns=\"http://www.w3.org/2000/svg\" height=\"24px\"viewBox=\"0 0 24 24\"\n",
              "       width=\"24px\">\n",
              "    <path d=\"M0 0h24v24H0V0z\" fill=\"none\"/>\n",
              "    <path d=\"M18.56 5.44l.94 2.06.94-2.06 2.06-.94-2.06-.94-.94-2.06-.94 2.06-2.06.94zm-11 1L8.5 8.5l.94-2.06 2.06-.94-2.06-.94L8.5 2.5l-.94 2.06-2.06.94zm10 10l.94 2.06.94-2.06 2.06-.94-2.06-.94-.94-2.06-.94 2.06-2.06.94z\"/><path d=\"M17.41 7.96l-1.37-1.37c-.4-.4-.92-.59-1.43-.59-.52 0-1.04.2-1.43.59L10.3 9.45l-7.72 7.72c-.78.78-.78 2.05 0 2.83L4 21.41c.39.39.9.59 1.41.59.51 0 1.02-.2 1.41-.59l7.78-7.78 2.81-2.81c.8-.78.8-2.07 0-2.86zM5.41 20L4 18.59l7.72-7.72 1.47 1.35L5.41 20z\"/>\n",
              "  </svg>\n",
              "      </button>\n",
              "      \n",
              "  <style>\n",
              "    .colab-df-container {\n",
              "      display:flex;\n",
              "      flex-wrap:wrap;\n",
              "      gap: 12px;\n",
              "    }\n",
              "\n",
              "    .colab-df-convert {\n",
              "      background-color: #E8F0FE;\n",
              "      border: none;\n",
              "      border-radius: 50%;\n",
              "      cursor: pointer;\n",
              "      display: none;\n",
              "      fill: #1967D2;\n",
              "      height: 32px;\n",
              "      padding: 0 0 0 0;\n",
              "      width: 32px;\n",
              "    }\n",
              "\n",
              "    .colab-df-convert:hover {\n",
              "      background-color: #E2EBFA;\n",
              "      box-shadow: 0px 1px 2px rgba(60, 64, 67, 0.3), 0px 1px 3px 1px rgba(60, 64, 67, 0.15);\n",
              "      fill: #174EA6;\n",
              "    }\n",
              "\n",
              "    [theme=dark] .colab-df-convert {\n",
              "      background-color: #3B4455;\n",
              "      fill: #D2E3FC;\n",
              "    }\n",
              "\n",
              "    [theme=dark] .colab-df-convert:hover {\n",
              "      background-color: #434B5C;\n",
              "      box-shadow: 0px 1px 3px 1px rgba(0, 0, 0, 0.15);\n",
              "      filter: drop-shadow(0px 1px 2px rgba(0, 0, 0, 0.3));\n",
              "      fill: #FFFFFF;\n",
              "    }\n",
              "  </style>\n",
              "\n",
              "      <script>\n",
              "        const buttonEl =\n",
              "          document.querySelector('#df-825f0dac-e6d9-4379-9e48-7568b8915a54 button.colab-df-convert');\n",
              "        buttonEl.style.display =\n",
              "          google.colab.kernel.accessAllowed ? 'block' : 'none';\n",
              "\n",
              "        async function convertToInteractive(key) {\n",
              "          const element = document.querySelector('#df-825f0dac-e6d9-4379-9e48-7568b8915a54');\n",
              "          const dataTable =\n",
              "            await google.colab.kernel.invokeFunction('convertToInteractive',\n",
              "                                                     [key], {});\n",
              "          if (!dataTable) return;\n",
              "\n",
              "          const docLinkHtml = 'Like what you see? Visit the ' +\n",
              "            '<a target=\"_blank\" href=https://colab.research.google.com/notebooks/data_table.ipynb>data table notebook</a>'\n",
              "            + ' to learn more about interactive tables.';\n",
              "          element.innerHTML = '';\n",
              "          dataTable['output_type'] = 'display_data';\n",
              "          await google.colab.output.renderOutput(dataTable, element);\n",
              "          const docLink = document.createElement('div');\n",
              "          docLink.innerHTML = docLinkHtml;\n",
              "          element.appendChild(docLink);\n",
              "        }\n",
              "      </script>\n",
              "    </div>\n",
              "  </div>\n",
              "  "
            ]
          },
          "metadata": {},
          "execution_count": 9
        }
      ],
      "source": [
        "df.tail(15)"
      ]
    },
    {
      "cell_type": "markdown",
      "metadata": {
        "id": "dc9NdQVfKYTk"
      },
      "source": [
        "Para saber dados estatísticos da tabela"
      ]
    },
    {
      "cell_type": "code",
      "execution_count": 10,
      "metadata": {
        "colab": {
          "base_uri": "https://localhost:8080/",
          "height": 300
        },
        "id": "zKvHd-EhKrh6",
        "outputId": "f6981261-f90d-44bc-cd96-c0a6743e6f33"
      },
      "outputs": [
        {
          "output_type": "execute_result",
          "data": {
            "text/plain": [
              "              Ano     População  Expectativa de vida            PIB\n",
              "count  1704.00000  1.704000e+03          1704.000000    1704.000000\n",
              "mean   1979.50000  2.960121e+07            59.474439    7215.327081\n",
              "std      17.26533  1.061579e+08            12.917107    9857.454543\n",
              "min    1952.00000  6.001100e+04            23.599000     241.165876\n",
              "25%    1965.75000  2.793664e+06            48.198000    1202.060309\n",
              "50%    1979.50000  7.023596e+06            60.712500    3531.846988\n",
              "75%    1993.25000  1.958522e+07            70.845500    9325.462346\n",
              "max    2007.00000  1.318683e+09            82.603000  113523.132900"
            ],
            "text/html": [
              "\n",
              "  <div id=\"df-d114ec27-14ac-48b6-8652-11b9058a7699\">\n",
              "    <div class=\"colab-df-container\">\n",
              "      <div>\n",
              "<style scoped>\n",
              "    .dataframe tbody tr th:only-of-type {\n",
              "        vertical-align: middle;\n",
              "    }\n",
              "\n",
              "    .dataframe tbody tr th {\n",
              "        vertical-align: top;\n",
              "    }\n",
              "\n",
              "    .dataframe thead th {\n",
              "        text-align: right;\n",
              "    }\n",
              "</style>\n",
              "<table border=\"1\" class=\"dataframe\">\n",
              "  <thead>\n",
              "    <tr style=\"text-align: right;\">\n",
              "      <th></th>\n",
              "      <th>Ano</th>\n",
              "      <th>População</th>\n",
              "      <th>Expectativa de vida</th>\n",
              "      <th>PIB</th>\n",
              "    </tr>\n",
              "  </thead>\n",
              "  <tbody>\n",
              "    <tr>\n",
              "      <th>count</th>\n",
              "      <td>1704.00000</td>\n",
              "      <td>1.704000e+03</td>\n",
              "      <td>1704.000000</td>\n",
              "      <td>1704.000000</td>\n",
              "    </tr>\n",
              "    <tr>\n",
              "      <th>mean</th>\n",
              "      <td>1979.50000</td>\n",
              "      <td>2.960121e+07</td>\n",
              "      <td>59.474439</td>\n",
              "      <td>7215.327081</td>\n",
              "    </tr>\n",
              "    <tr>\n",
              "      <th>std</th>\n",
              "      <td>17.26533</td>\n",
              "      <td>1.061579e+08</td>\n",
              "      <td>12.917107</td>\n",
              "      <td>9857.454543</td>\n",
              "    </tr>\n",
              "    <tr>\n",
              "      <th>min</th>\n",
              "      <td>1952.00000</td>\n",
              "      <td>6.001100e+04</td>\n",
              "      <td>23.599000</td>\n",
              "      <td>241.165876</td>\n",
              "    </tr>\n",
              "    <tr>\n",
              "      <th>25%</th>\n",
              "      <td>1965.75000</td>\n",
              "      <td>2.793664e+06</td>\n",
              "      <td>48.198000</td>\n",
              "      <td>1202.060309</td>\n",
              "    </tr>\n",
              "    <tr>\n",
              "      <th>50%</th>\n",
              "      <td>1979.50000</td>\n",
              "      <td>7.023596e+06</td>\n",
              "      <td>60.712500</td>\n",
              "      <td>3531.846988</td>\n",
              "    </tr>\n",
              "    <tr>\n",
              "      <th>75%</th>\n",
              "      <td>1993.25000</td>\n",
              "      <td>1.958522e+07</td>\n",
              "      <td>70.845500</td>\n",
              "      <td>9325.462346</td>\n",
              "    </tr>\n",
              "    <tr>\n",
              "      <th>max</th>\n",
              "      <td>2007.00000</td>\n",
              "      <td>1.318683e+09</td>\n",
              "      <td>82.603000</td>\n",
              "      <td>113523.132900</td>\n",
              "    </tr>\n",
              "  </tbody>\n",
              "</table>\n",
              "</div>\n",
              "      <button class=\"colab-df-convert\" onclick=\"convertToInteractive('df-d114ec27-14ac-48b6-8652-11b9058a7699')\"\n",
              "              title=\"Convert this dataframe to an interactive table.\"\n",
              "              style=\"display:none;\">\n",
              "        \n",
              "  <svg xmlns=\"http://www.w3.org/2000/svg\" height=\"24px\"viewBox=\"0 0 24 24\"\n",
              "       width=\"24px\">\n",
              "    <path d=\"M0 0h24v24H0V0z\" fill=\"none\"/>\n",
              "    <path d=\"M18.56 5.44l.94 2.06.94-2.06 2.06-.94-2.06-.94-.94-2.06-.94 2.06-2.06.94zm-11 1L8.5 8.5l.94-2.06 2.06-.94-2.06-.94L8.5 2.5l-.94 2.06-2.06.94zm10 10l.94 2.06.94-2.06 2.06-.94-2.06-.94-.94-2.06-.94 2.06-2.06.94z\"/><path d=\"M17.41 7.96l-1.37-1.37c-.4-.4-.92-.59-1.43-.59-.52 0-1.04.2-1.43.59L10.3 9.45l-7.72 7.72c-.78.78-.78 2.05 0 2.83L4 21.41c.39.39.9.59 1.41.59.51 0 1.02-.2 1.41-.59l7.78-7.78 2.81-2.81c.8-.78.8-2.07 0-2.86zM5.41 20L4 18.59l7.72-7.72 1.47 1.35L5.41 20z\"/>\n",
              "  </svg>\n",
              "      </button>\n",
              "      \n",
              "  <style>\n",
              "    .colab-df-container {\n",
              "      display:flex;\n",
              "      flex-wrap:wrap;\n",
              "      gap: 12px;\n",
              "    }\n",
              "\n",
              "    .colab-df-convert {\n",
              "      background-color: #E8F0FE;\n",
              "      border: none;\n",
              "      border-radius: 50%;\n",
              "      cursor: pointer;\n",
              "      display: none;\n",
              "      fill: #1967D2;\n",
              "      height: 32px;\n",
              "      padding: 0 0 0 0;\n",
              "      width: 32px;\n",
              "    }\n",
              "\n",
              "    .colab-df-convert:hover {\n",
              "      background-color: #E2EBFA;\n",
              "      box-shadow: 0px 1px 2px rgba(60, 64, 67, 0.3), 0px 1px 3px 1px rgba(60, 64, 67, 0.15);\n",
              "      fill: #174EA6;\n",
              "    }\n",
              "\n",
              "    [theme=dark] .colab-df-convert {\n",
              "      background-color: #3B4455;\n",
              "      fill: #D2E3FC;\n",
              "    }\n",
              "\n",
              "    [theme=dark] .colab-df-convert:hover {\n",
              "      background-color: #434B5C;\n",
              "      box-shadow: 0px 1px 3px 1px rgba(0, 0, 0, 0.15);\n",
              "      filter: drop-shadow(0px 1px 2px rgba(0, 0, 0, 0.3));\n",
              "      fill: #FFFFFF;\n",
              "    }\n",
              "  </style>\n",
              "\n",
              "      <script>\n",
              "        const buttonEl =\n",
              "          document.querySelector('#df-d114ec27-14ac-48b6-8652-11b9058a7699 button.colab-df-convert');\n",
              "        buttonEl.style.display =\n",
              "          google.colab.kernel.accessAllowed ? 'block' : 'none';\n",
              "\n",
              "        async function convertToInteractive(key) {\n",
              "          const element = document.querySelector('#df-d114ec27-14ac-48b6-8652-11b9058a7699');\n",
              "          const dataTable =\n",
              "            await google.colab.kernel.invokeFunction('convertToInteractive',\n",
              "                                                     [key], {});\n",
              "          if (!dataTable) return;\n",
              "\n",
              "          const docLinkHtml = 'Like what you see? Visit the ' +\n",
              "            '<a target=\"_blank\" href=https://colab.research.google.com/notebooks/data_table.ipynb>data table notebook</a>'\n",
              "            + ' to learn more about interactive tables.';\n",
              "          element.innerHTML = '';\n",
              "          dataTable['output_type'] = 'display_data';\n",
              "          await google.colab.output.renderOutput(dataTable, element);\n",
              "          const docLink = document.createElement('div');\n",
              "          docLink.innerHTML = docLinkHtml;\n",
              "          element.appendChild(docLink);\n",
              "        }\n",
              "      </script>\n",
              "    </div>\n",
              "  </div>\n",
              "  "
            ]
          },
          "metadata": {},
          "execution_count": 10
        }
      ],
      "source": [
        "df.describe()"
      ]
    },
    {
      "cell_type": "markdown",
      "metadata": {
        "id": "HGEwQkK7K3-p"
      },
      "source": [
        "Para fazer um filtro com os dados.Se quizer saber quais os continentes que compoem o cenário."
      ]
    },
    {
      "cell_type": "code",
      "execution_count": 11,
      "metadata": {
        "colab": {
          "base_uri": "https://localhost:8080/"
        },
        "id": "6CZLucYFLZVC",
        "outputId": "4aaf4e43-e1e1-4908-d2b7-f8dcbf8f4663"
      },
      "outputs": [
        {
          "output_type": "execute_result",
          "data": {
            "text/plain": [
              "array(['Asia', 'Europe', 'Africa', 'Americas', 'Oceania'], dtype=object)"
            ]
          },
          "metadata": {},
          "execution_count": 11
        }
      ],
      "source": [
        "df[\"Continente\"].unique()"
      ]
    },
    {
      "cell_type": "markdown",
      "metadata": {
        "id": "1zKaDjHKLrtV"
      },
      "source": [
        "Sabendo os continentes, posso criar uma variável para ver os paíse que compõem aquele continente."
      ]
    },
    {
      "cell_type": "code",
      "execution_count": 12,
      "metadata": {
        "colab": {
          "base_uri": "https://localhost:8080/",
          "height": 206
        },
        "id": "mKcathD7Lw1F",
        "outputId": "7896ce1c-0bb9-4cbd-deb7-e53fad25a29e"
      },
      "outputs": [
        {
          "output_type": "execute_result",
          "data": {
            "text/plain": [
              "         País   Ano  População Continente  Expectativa de vida          PIB\n",
              "60  Australia  1952    8691212    Oceania                69.12  10039.59564\n",
              "61  Australia  1957    9712569    Oceania                70.33  10949.64959\n",
              "62  Australia  1962   10794968    Oceania                70.93  12217.22686\n",
              "63  Australia  1967   11872264    Oceania                71.10  14526.12465\n",
              "64  Australia  1972   13177000    Oceania                71.93  16788.62948"
            ],
            "text/html": [
              "\n",
              "  <div id=\"df-630895f5-0046-49e8-9380-96683b4390ea\">\n",
              "    <div class=\"colab-df-container\">\n",
              "      <div>\n",
              "<style scoped>\n",
              "    .dataframe tbody tr th:only-of-type {\n",
              "        vertical-align: middle;\n",
              "    }\n",
              "\n",
              "    .dataframe tbody tr th {\n",
              "        vertical-align: top;\n",
              "    }\n",
              "\n",
              "    .dataframe thead th {\n",
              "        text-align: right;\n",
              "    }\n",
              "</style>\n",
              "<table border=\"1\" class=\"dataframe\">\n",
              "  <thead>\n",
              "    <tr style=\"text-align: right;\">\n",
              "      <th></th>\n",
              "      <th>País</th>\n",
              "      <th>Ano</th>\n",
              "      <th>População</th>\n",
              "      <th>Continente</th>\n",
              "      <th>Expectativa de vida</th>\n",
              "      <th>PIB</th>\n",
              "    </tr>\n",
              "  </thead>\n",
              "  <tbody>\n",
              "    <tr>\n",
              "      <th>60</th>\n",
              "      <td>Australia</td>\n",
              "      <td>1952</td>\n",
              "      <td>8691212</td>\n",
              "      <td>Oceania</td>\n",
              "      <td>69.12</td>\n",
              "      <td>10039.59564</td>\n",
              "    </tr>\n",
              "    <tr>\n",
              "      <th>61</th>\n",
              "      <td>Australia</td>\n",
              "      <td>1957</td>\n",
              "      <td>9712569</td>\n",
              "      <td>Oceania</td>\n",
              "      <td>70.33</td>\n",
              "      <td>10949.64959</td>\n",
              "    </tr>\n",
              "    <tr>\n",
              "      <th>62</th>\n",
              "      <td>Australia</td>\n",
              "      <td>1962</td>\n",
              "      <td>10794968</td>\n",
              "      <td>Oceania</td>\n",
              "      <td>70.93</td>\n",
              "      <td>12217.22686</td>\n",
              "    </tr>\n",
              "    <tr>\n",
              "      <th>63</th>\n",
              "      <td>Australia</td>\n",
              "      <td>1967</td>\n",
              "      <td>11872264</td>\n",
              "      <td>Oceania</td>\n",
              "      <td>71.10</td>\n",
              "      <td>14526.12465</td>\n",
              "    </tr>\n",
              "    <tr>\n",
              "      <th>64</th>\n",
              "      <td>Australia</td>\n",
              "      <td>1972</td>\n",
              "      <td>13177000</td>\n",
              "      <td>Oceania</td>\n",
              "      <td>71.93</td>\n",
              "      <td>16788.62948</td>\n",
              "    </tr>\n",
              "  </tbody>\n",
              "</table>\n",
              "</div>\n",
              "      <button class=\"colab-df-convert\" onclick=\"convertToInteractive('df-630895f5-0046-49e8-9380-96683b4390ea')\"\n",
              "              title=\"Convert this dataframe to an interactive table.\"\n",
              "              style=\"display:none;\">\n",
              "        \n",
              "  <svg xmlns=\"http://www.w3.org/2000/svg\" height=\"24px\"viewBox=\"0 0 24 24\"\n",
              "       width=\"24px\">\n",
              "    <path d=\"M0 0h24v24H0V0z\" fill=\"none\"/>\n",
              "    <path d=\"M18.56 5.44l.94 2.06.94-2.06 2.06-.94-2.06-.94-.94-2.06-.94 2.06-2.06.94zm-11 1L8.5 8.5l.94-2.06 2.06-.94-2.06-.94L8.5 2.5l-.94 2.06-2.06.94zm10 10l.94 2.06.94-2.06 2.06-.94-2.06-.94-.94-2.06-.94 2.06-2.06.94z\"/><path d=\"M17.41 7.96l-1.37-1.37c-.4-.4-.92-.59-1.43-.59-.52 0-1.04.2-1.43.59L10.3 9.45l-7.72 7.72c-.78.78-.78 2.05 0 2.83L4 21.41c.39.39.9.59 1.41.59.51 0 1.02-.2 1.41-.59l7.78-7.78 2.81-2.81c.8-.78.8-2.07 0-2.86zM5.41 20L4 18.59l7.72-7.72 1.47 1.35L5.41 20z\"/>\n",
              "  </svg>\n",
              "      </button>\n",
              "      \n",
              "  <style>\n",
              "    .colab-df-container {\n",
              "      display:flex;\n",
              "      flex-wrap:wrap;\n",
              "      gap: 12px;\n",
              "    }\n",
              "\n",
              "    .colab-df-convert {\n",
              "      background-color: #E8F0FE;\n",
              "      border: none;\n",
              "      border-radius: 50%;\n",
              "      cursor: pointer;\n",
              "      display: none;\n",
              "      fill: #1967D2;\n",
              "      height: 32px;\n",
              "      padding: 0 0 0 0;\n",
              "      width: 32px;\n",
              "    }\n",
              "\n",
              "    .colab-df-convert:hover {\n",
              "      background-color: #E2EBFA;\n",
              "      box-shadow: 0px 1px 2px rgba(60, 64, 67, 0.3), 0px 1px 3px 1px rgba(60, 64, 67, 0.15);\n",
              "      fill: #174EA6;\n",
              "    }\n",
              "\n",
              "    [theme=dark] .colab-df-convert {\n",
              "      background-color: #3B4455;\n",
              "      fill: #D2E3FC;\n",
              "    }\n",
              "\n",
              "    [theme=dark] .colab-df-convert:hover {\n",
              "      background-color: #434B5C;\n",
              "      box-shadow: 0px 1px 3px 1px rgba(0, 0, 0, 0.15);\n",
              "      filter: drop-shadow(0px 1px 2px rgba(0, 0, 0, 0.3));\n",
              "      fill: #FFFFFF;\n",
              "    }\n",
              "  </style>\n",
              "\n",
              "      <script>\n",
              "        const buttonEl =\n",
              "          document.querySelector('#df-630895f5-0046-49e8-9380-96683b4390ea button.colab-df-convert');\n",
              "        buttonEl.style.display =\n",
              "          google.colab.kernel.accessAllowed ? 'block' : 'none';\n",
              "\n",
              "        async function convertToInteractive(key) {\n",
              "          const element = document.querySelector('#df-630895f5-0046-49e8-9380-96683b4390ea');\n",
              "          const dataTable =\n",
              "            await google.colab.kernel.invokeFunction('convertToInteractive',\n",
              "                                                     [key], {});\n",
              "          if (!dataTable) return;\n",
              "\n",
              "          const docLinkHtml = 'Like what you see? Visit the ' +\n",
              "            '<a target=\"_blank\" href=https://colab.research.google.com/notebooks/data_table.ipynb>data table notebook</a>'\n",
              "            + ' to learn more about interactive tables.';\n",
              "          element.innerHTML = '';\n",
              "          dataTable['output_type'] = 'display_data';\n",
              "          await google.colab.output.renderOutput(dataTable, element);\n",
              "          const docLink = document.createElement('div');\n",
              "          docLink.innerHTML = docLinkHtml;\n",
              "          element.appendChild(docLink);\n",
              "        }\n",
              "      </script>\n",
              "    </div>\n",
              "  </div>\n",
              "  "
            ]
          },
          "metadata": {},
          "execution_count": 12
        }
      ],
      "source": [
        "Oceania = df.loc[df[\"Continente\"] == \"Oceania\"]\n",
        "Oceania.head()"
      ]
    },
    {
      "cell_type": "markdown",
      "metadata": {
        "id": "hQRoDvpFNOC3"
      },
      "source": [
        "Fazendo um novo filtro"
      ]
    },
    {
      "cell_type": "code",
      "execution_count": 13,
      "metadata": {
        "colab": {
          "base_uri": "https://localhost:8080/"
        },
        "id": "g6l9ND0TNVhB",
        "outputId": "6c4e3391-353a-4160-b057-aa97d80d32eb"
      },
      "outputs": [
        {
          "output_type": "execute_result",
          "data": {
            "text/plain": [
              "array(['Oceania'], dtype=object)"
            ]
          },
          "metadata": {},
          "execution_count": 13
        }
      ],
      "source": [
        "Oceania[\"Continente\"].unique()"
      ]
    },
    {
      "cell_type": "markdown",
      "metadata": {
        "id": "qtKObQRQN9A7"
      },
      "source": [
        "Para agrupar dados por continente e saber quantos são os países"
      ]
    },
    {
      "cell_type": "code",
      "execution_count": 14,
      "metadata": {
        "colab": {
          "base_uri": "https://localhost:8080/"
        },
        "id": "q4p1B5MDOIms",
        "outputId": "720d0a18-a938-4624-e33c-44ee664712b0"
      },
      "outputs": [
        {
          "output_type": "execute_result",
          "data": {
            "text/plain": [
              "Continente\n",
              "Africa      52\n",
              "Americas    25\n",
              "Asia        33\n",
              "Europe      30\n",
              "Oceania      2\n",
              "Name: País, dtype: int64"
            ]
          },
          "metadata": {},
          "execution_count": 14
        }
      ],
      "source": [
        "df.groupby(\"Continente\")[\"País\"].nunique()"
      ]
    },
    {
      "cell_type": "markdown",
      "metadata": {
        "id": "gFrrso2nOvPl"
      },
      "source": [
        "Para saber a expectativa de vida média por ano."
      ]
    },
    {
      "cell_type": "code",
      "execution_count": 15,
      "metadata": {
        "colab": {
          "base_uri": "https://localhost:8080/"
        },
        "id": "NRJzAffjPSXV",
        "outputId": "c2308881-5d28-44bd-c96b-0167218edd04"
      },
      "outputs": [
        {
          "output_type": "execute_result",
          "data": {
            "text/plain": [
              "Ano\n",
              "1952    49.057620\n",
              "1957    51.507401\n",
              "1962    53.609249\n",
              "1967    55.678290\n",
              "1972    57.647386\n",
              "1977    59.570157\n",
              "1982    61.533197\n",
              "1987    63.212613\n",
              "1992    64.160338\n",
              "1997    65.014676\n",
              "2002    65.694923\n",
              "2007    67.007423\n",
              "Name: Expectativa de vida, dtype: float64"
            ]
          },
          "metadata": {},
          "execution_count": 15
        }
      ],
      "source": [
        "df.groupby(\"Ano\")[\"Expectativa de vida\"].mean()"
      ]
    },
    {
      "cell_type": "markdown",
      "metadata": {
        "id": "HJpC7mDJPfyV"
      },
      "source": [
        "Par saber o PIB médio e a soma do PIB."
      ]
    },
    {
      "cell_type": "code",
      "execution_count": 16,
      "metadata": {
        "colab": {
          "base_uri": "https://localhost:8080/"
        },
        "id": "jGwfw49gP5gm",
        "outputId": "aad638cc-8aca-455a-dfce-5591c0af2cf0"
      },
      "outputs": [
        {
          "output_type": "execute_result",
          "data": {
            "text/plain": [
              "7215.327081212149"
            ]
          },
          "metadata": {},
          "execution_count": 16
        }
      ],
      "source": [
        "df[\"PIB\"].mean()\n"
      ]
    },
    {
      "cell_type": "code",
      "execution_count": 17,
      "metadata": {
        "colab": {
          "base_uri": "https://localhost:8080/"
        },
        "id": "7sYPbTWGQSkA",
        "outputId": "af91f5ce-2fd7-49f3-c892-4ffee02bd33b"
      },
      "outputs": [
        {
          "output_type": "execute_result",
          "data": {
            "text/plain": [
              "12294917.346385501"
            ]
          },
          "metadata": {},
          "execution_count": 17
        }
      ],
      "source": [
        "df[\"PIB\"].sum()"
      ]
    },
    {
      "cell_type": "markdown",
      "metadata": {
        "id": "49m-fgGOQVvo"
      },
      "source": [
        "Visualização de Dados.\n",
        "Trabalhando com gráficos."
      ]
    },
    {
      "cell_type": "code",
      "metadata": {
        "colab": {
          "base_uri": "https://localhost:8080/",
          "height": 498
        },
        "id": "TE8yz5ag0s9w",
        "outputId": "d779fa5d-a776-41d4-c362-51820f8f73cc"
      },
      "source": [
        "# Criando um gráfico de barras\n",
        "df[\"Continente\"].value_counts(ascending = False).plot.bar()"
      ],
      "execution_count": 18,
      "outputs": [
        {
          "output_type": "execute_result",
          "data": {
            "text/plain": [
              "<Axes: >"
            ]
          },
          "metadata": {},
          "execution_count": 18
        },
        {
          "output_type": "display_data",
          "data": {
            "text/plain": [
              "<Figure size 640x480 with 1 Axes>"
            ],
            "image/png": "[encoded data removed]"
          },
          "metadata": {}
        }
      ]
    },
    {
      "cell_type": "code",
      "metadata": {
        "colab": {
          "base_uri": "https://localhost:8080/",
          "height": 448
        },
        "id": "tcJy-dMY1GBI",
        "outputId": "b75230c6-9ae7-40ed-ec44-473e7d3540fc"
      },
      "source": [
        "# Criando um gráfico de barras horizontais. A letra h em barh inverte o sentido.\n",
        "\n",
        "df[\"Continente\"].value_counts(ascending = False).plot.barh()"
      ],
      "execution_count": 19,
      "outputs": [
        {
          "output_type": "execute_result",
          "data": {
            "text/plain": [
              "<Axes: >"
            ]
          },
          "metadata": {},
          "execution_count": 19
        },
        {
          "output_type": "display_data",
          "data": {
            "text/plain": [
              "<Figure size 640x480 with 1 Axes>"
            ],
            "image/png": "[encoded data removed]"
          },
          "metadata": {}
        }
      ]
    },
    {
      "cell_type": "code",
      "metadata": {
        "colab": {
          "base_uri": "https://localhost:8080/",
          "height": 448
        },
        "id": "138Quy5m1go3",
        "outputId": "f4811c6f-3232-47f0-e92e-448b1bee577f"
      },
      "source": [
        "df[\"Continente\"].value_counts(ascending = True).plot.barh()"
      ],
      "execution_count": 20,
      "outputs": [
        {
          "output_type": "execute_result",
          "data": {
            "text/plain": [
              "<Axes: >"
            ]
          },
          "metadata": {},
          "execution_count": 20
        },
        {
          "output_type": "display_data",
          "data": {
            "text/plain": [
              "<Figure size 640x480 with 1 Axes>"
            ],
            "image/png": "[encoded data removed]"
          },
          "metadata": {}
        }
      ]
    },
    {
      "cell_type": "markdown",
      "metadata": {
        "id": "OmI4PvXi2A2M"
      },
      "source": [
        "Para eleminar a linha acima do gráfico\"<AxesSubplot:>\", basta colocar um \";\" ao final."
      ]
    },
    {
      "cell_type": "code",
      "metadata": {
        "colab": {
          "base_uri": "https://localhost:8080/",
          "height": 430
        },
        "id": "oVOXYqwr20SF",
        "outputId": "b61d2c80-2d77-48a6-a460-7b8ff8c692fa"
      },
      "source": [
        "df[\"Continente\"].value_counts().plot.barh();"
      ],
      "execution_count": 21,
      "outputs": [
        {
          "output_type": "display_data",
          "data": {
            "text/plain": [
              "<Figure size 640x480 with 1 Axes>"
            ],
            "image/png": "[encoded data removed]"
          },
          "metadata": {}
        }
      ]
    },
    {
      "cell_type": "markdown",
      "metadata": {
        "id": "yZZ3pFsS3A9Z"
      },
      "source": [
        "Para fazer um \"Gráfico de Pizza\", utilizamos o comando abaixo."
      ]
    },
    {
      "cell_type": "code",
      "metadata": {
        "colab": {
          "base_uri": "https://localhost:8080/",
          "height": 406
        },
        "id": "-Fyfcc9a3OLn",
        "outputId": "56dab770-e09b-4a1a-de57-d9eeb93d964b"
      },
      "source": [
        "df[\"Continente\"].value_counts().plot.pie();"
      ],
      "execution_count": 22,
      "outputs": [
        {
          "output_type": "display_data",
          "data": {
            "text/plain": [
              "<Figure size 640x480 with 1 Axes>"
            ],
            "image/png": "[encoded data removed]"
          },
          "metadata": {}
        }
      ]
    },
    {
      "cell_type": "markdown",
      "metadata": {
        "id": "FZ-0k8tO5tSG"
      },
      "source": [
        "Para adicionar um título e alterar o nome dos eixos. Preciso importar a biblioteca matplotlib."
      ]
    },
    {
      "cell_type": "code",
      "metadata": {
        "colab": {
          "base_uri": "https://localhost:8080/",
          "height": 540
        },
        "id": "KsyzgbY0793e",
        "outputId": "7a3b29c4-ab80-4c05-e98a-35598b1bd92a"
      },
      "source": [
        "import matplotlib.pyplot as plt\n",
        "\n",
        "df[\"Continente\"].value_counts().plot.bar(title =\"População\");\n",
        "\n",
        "plt.xlabel(\"Continente\")\n",
        "plt.ylabel(\"População\")"
      ],
      "execution_count": 23,
      "outputs": [
        {
          "output_type": "execute_result",
          "data": {
            "text/plain": [
              "Text(0, 0.5, 'População')"
            ]
          },
          "metadata": {},
          "execution_count": 23
        },
        {
          "output_type": "display_data",
          "data": {
            "text/plain": [
              "<Figure size 640x480 with 1 Axes>"
            ],
            "image/png": "[encoded data removed]"
          },
          "metadata": {}
        }
      ]
    },
    {
      "cell_type": "markdown",
      "metadata": {
        "id": "rLM3h3mL9WYA"
      },
      "source": [
        "Alterando o estilo do gráfico."
      ]
    },
    {
      "cell_type": "code",
      "metadata": {
        "id": "eWT_uNB_93s8"
      },
      "source": [
        "plt.style.use(\"ggplot\")\n"
      ],
      "execution_count": 24,
      "outputs": []
    },
    {
      "cell_type": "code",
      "metadata": {
        "colab": {
          "base_uri": "https://localhost:8080/",
          "height": 478
        },
        "id": "cSFIoyMJ-Kg8",
        "outputId": "ba76dc2d-99cc-411a-af4c-1abe0a7b8a8f"
      },
      "source": [
        "df.groupby(df[\"Continente\"])[\"PIB\"].mean().plot(title =\"PIB médio por Continente\", color = \"green\")\n",
        "\n",
        "plt.xlabel(\"Continente\")\n",
        "plt.ylabel(\"PIB\")\n",
        "plt.legend();"
      ],
      "execution_count": 25,
      "outputs": [
        {
          "output_type": "display_data",
          "data": {
            "text/plain": [
              "<Figure size 640x480 with 1 Axes>"
            ],
            "image/png": "[encoded data removed]"
          },
          "metadata": {}
        }
      ]
    },
    {
      "cell_type": "markdown",
      "metadata": {
        "id": "P6KRpYVpePby"
      },
      "source": [
        "Podemos escolher a cor aquihttps://matplotlib.org/stable/gallery/color/named_colors.html#sphx-glr-gallery-color-named-colors-py para criar um histograma."
      ]
    },
    {
      "cell_type": "code",
      "metadata": {
        "colab": {
          "base_uri": "https://localhost:8080/",
          "height": 430
        },
        "id": "hMjZnEPoedt9",
        "outputId": "7086c783-2e6b-4374-8f07-0d5c1ae2c959"
      },
      "source": [
        "plt.hist(df[\"PIB\"], color=\"magenta\");"
      ],
      "execution_count": 26,
      "outputs": [
        {
          "output_type": "display_data",
          "data": {
            "text/plain": [
              "<Figure size 640x480 with 1 Axes>"
            ],
            "image/png": "[encoded data removed]"
          },
          "metadata": {}
        }
      ]
    },
    {
      "cell_type": "markdown",
      "source": [
        "Base de dados"
      ],
      "metadata": {
        "id": "9ZS_8LFCkdt-"
      }
    },
    {
      "cell_type": "markdown",
      "source": [],
      "metadata": {
        "id": "NO7DB_Oek1vO"
      }
    },
    {
      "cell_type": "code",
      "source": [
        "from __future__ import absolute_import, division, print_function, unicode_literals\n",
        "import functools\n",
        "\n",
        "try:\n",
        "  # %tensorflow_version only exists in Colab.\n",
        "  %tensorflow_version 2.x\n",
        "except Exception:\n",
        "  pass\n",
        "import pandas as pd\n",
        "import tensorflow as tf\n",
        "import pathlib\n",
        "import matplotlib.pyplot as plt\n",
        "import math\n",
        "import seaborn as sns\n",
        "\n",
        "import numpy as np\n",
        "\n",
        "# Facilitar a leitura de valores numpy.\n",
        "np.set_printoptions(precision=3, suppress=True)\n",
        "\n",
        "from tensorflow.python import keras\n",
        "from tensorflow.python.keras import layers\n",
        "from tensorflow.python.keras.layers import Input, Dense, LSTM, Dropout\n",
        "from tensorflow.python.keras.models import Sequential\n",
        "\n",
        "!pip install keras-tuner --upgrade\n",
        "\n",
        "import keras_tuner\n",
        "\n",
        "\n",
        "print(tf.__version__)"
      ],
      "metadata": {
        "colab": {
          "base_uri": "https://localhost:8080/"
        },
        "id": "J-CmhAHak2TJ",
        "outputId": "8f7182af-9681-4c7c-c111-ca83b19764ca"
      },
      "execution_count": 27,
      "outputs": [
        {
          "output_type": "stream",
          "name": "stdout",
          "text": [
            "Colab only includes TensorFlow 2.x; %tensorflow_version has no effect.\n",
            "Looking in indexes: https://pypi.org/simple, https://us-python.pkg.dev/colab-wheels/public/simple/\n",
            "Requirement already satisfied: keras-tuner in /usr/local/lib/python3.10/dist-packages (1.3.5)\n",
            "Requirement already satisfied: packaging in /usr/local/lib/python3.10/dist-packages (from keras-tuner) (23.1)\n",
            "Requirement already satisfied: requests in /usr/local/lib/python3.10/dist-packages (from keras-tuner) (2.27.1)\n",
            "Requirement already satisfied: kt-legacy in /usr/local/lib/python3.10/dist-packages (from keras-tuner) (1.0.5)\n",
            "Requirement already satisfied: urllib3<1.27,>=1.21.1 in /usr/local/lib/python3.10/dist-packages (from requests->keras-tuner) (1.26.15)\n",
            "Requirement already satisfied: certifi>=2017.4.17 in /usr/local/lib/python3.10/dist-packages (from requests->keras-tuner) (2022.12.7)\n",
            "Requirement already satisfied: charset-normalizer~=2.0.0 in /usr/local/lib/python3.10/dist-packages (from requests->keras-tuner) (2.0.12)\n",
            "Requirement already satisfied: idna<4,>=2.5 in /usr/local/lib/python3.10/dist-packages (from requests->keras-tuner) (3.4)\n",
            "2.12.0\n"
          ]
        }
      ]
    },
    {
      "cell_type": "markdown",
      "source": [
        "Carregar dados CSV. https://www.tensorflow.org/tutorials/load_data/csv?hl=pt-br"
      ],
      "metadata": {
        "id": "puSMABi5fxsP"
      }
    },
    {
      "cell_type": "markdown",
      "source": [
        "Fazer download do arquivo csv que contém o conjunto de dados do gapminder"
      ],
      "metadata": {
        "id": "K8ZyvEJrk-90"
      }
    },
    {
      "cell_type": "code",
      "source": [
        "csv_file = tf.keras.utils.get_file(\"Downloading data from{gapminder.csv}\", 'https://drive.google.com/file/d/1ruWC53LspZnOdJEAXSLMXBJsDItRPLFN/view?usp=drive_link')\n",
        "#csv_file = tf.keras.utils.get_file('gapminder_full.csv', '/content/gapminder - gapminder.csv')"
      ],
      "metadata": {
        "id": "tI-Sjjmjk_dG"
      },
      "execution_count": 28,
      "outputs": []
    },
    {
      "cell_type": "markdown",
      "source": [
        "Ler o arquivo csv utilizando o pandas"
      ],
      "metadata": {
        "id": "qSS9OZsqmX6K"
      }
    },
    {
      "cell_type": "code",
      "source": [
        "#df = pd.read_csv('/content/gapminder_full.csv')"
      ],
      "metadata": {
        "id": "8we8eCpLp1fT"
      },
      "execution_count": 29,
      "outputs": []
    },
    {
      "cell_type": "markdown",
      "source": [],
      "metadata": {
        "id": "nvuF3vc2up0J"
      }
    },
    {
      "cell_type": "code",
      "source": [
        "df.head()"
      ],
      "metadata": {
        "colab": {
          "base_uri": "https://localhost:8080/",
          "height": 206
        },
        "id": "fkqCO19OuqYa",
        "outputId": "ee555e72-565e-4e90-fb1f-ee7414e5e09c"
      },
      "execution_count": 30,
      "outputs": [
        {
          "output_type": "execute_result",
          "data": {
            "text/plain": [
              "          País   Ano  População Continente  Expectativa de vida         PIB\n",
              "0  Afghanistan  1952    8425333       Asia               28.801  779.445314\n",
              "1  Afghanistan  1957    9240934       Asia               30.332  820.853030\n",
              "2  Afghanistan  1962   10267083       Asia               31.997  853.100710\n",
              "3  Afghanistan  1967   11537966       Asia               34.020  836.197138\n",
              "4  Afghanistan  1972   13079460       Asia               36.088  739.981106"
            ],
            "text/html": [
              "\n",
              "  <div id=\"df-5b7a7d57-3f3e-4166-8b7b-b89d00bd2851\">\n",
              "    <div class=\"colab-df-container\">\n",
              "      <div>\n",
              "<style scoped>\n",
              "    .dataframe tbody tr th:only-of-type {\n",
              "        vertical-align: middle;\n",
              "    }\n",
              "\n",
              "    .dataframe tbody tr th {\n",
              "        vertical-align: top;\n",
              "    }\n",
              "\n",
              "    .dataframe thead th {\n",
              "        text-align: right;\n",
              "    }\n",
              "</style>\n",
              "<table border=\"1\" class=\"dataframe\">\n",
              "  <thead>\n",
              "    <tr style=\"text-align: right;\">\n",
              "      <th></th>\n",
              "      <th>País</th>\n",
              "      <th>Ano</th>\n",
              "      <th>População</th>\n",
              "      <th>Continente</th>\n",
              "      <th>Expectativa de vida</th>\n",
              "      <th>PIB</th>\n",
              "    </tr>\n",
              "  </thead>\n",
              "  <tbody>\n",
              "    <tr>\n",
              "      <th>0</th>\n",
              "      <td>Afghanistan</td>\n",
              "      <td>1952</td>\n",
              "      <td>8425333</td>\n",
              "      <td>Asia</td>\n",
              "      <td>28.801</td>\n",
              "      <td>779.445314</td>\n",
              "    </tr>\n",
              "    <tr>\n",
              "      <th>1</th>\n",
              "      <td>Afghanistan</td>\n",
              "      <td>1957</td>\n",
              "      <td>9240934</td>\n",
              "      <td>Asia</td>\n",
              "      <td>30.332</td>\n",
              "      <td>820.853030</td>\n",
              "    </tr>\n",
              "    <tr>\n",
              "      <th>2</th>\n",
              "      <td>Afghanistan</td>\n",
              "      <td>1962</td>\n",
              "      <td>10267083</td>\n",
              "      <td>Asia</td>\n",
              "      <td>31.997</td>\n",
              "      <td>853.100710</td>\n",
              "    </tr>\n",
              "    <tr>\n",
              "      <th>3</th>\n",
              "      <td>Afghanistan</td>\n",
              "      <td>1967</td>\n",
              "      <td>11537966</td>\n",
              "      <td>Asia</td>\n",
              "      <td>34.020</td>\n",
              "      <td>836.197138</td>\n",
              "    </tr>\n",
              "    <tr>\n",
              "      <th>4</th>\n",
              "      <td>Afghanistan</td>\n",
              "      <td>1972</td>\n",
              "      <td>13079460</td>\n",
              "      <td>Asia</td>\n",
              "      <td>36.088</td>\n",
              "      <td>739.981106</td>\n",
              "    </tr>\n",
              "  </tbody>\n",
              "</table>\n",
              "</div>\n",
              "      <button class=\"colab-df-convert\" onclick=\"convertToInteractive('df-5b7a7d57-3f3e-4166-8b7b-b89d00bd2851')\"\n",
              "              title=\"Convert this dataframe to an interactive table.\"\n",
              "              style=\"display:none;\">\n",
              "        \n",
              "  <svg xmlns=\"http://www.w3.org/2000/svg\" height=\"24px\"viewBox=\"0 0 24 24\"\n",
              "       width=\"24px\">\n",
              "    <path d=\"M0 0h24v24H0V0z\" fill=\"none\"/>\n",
              "    <path d=\"M18.56 5.44l.94 2.06.94-2.06 2.06-.94-2.06-.94-.94-2.06-.94 2.06-2.06.94zm-11 1L8.5 8.5l.94-2.06 2.06-.94-2.06-.94L8.5 2.5l-.94 2.06-2.06.94zm10 10l.94 2.06.94-2.06 2.06-.94-2.06-.94-.94-2.06-.94 2.06-2.06.94z\"/><path d=\"M17.41 7.96l-1.37-1.37c-.4-.4-.92-.59-1.43-.59-.52 0-1.04.2-1.43.59L10.3 9.45l-7.72 7.72c-.78.78-.78 2.05 0 2.83L4 21.41c.39.39.9.59 1.41.59.51 0 1.02-.2 1.41-.59l7.78-7.78 2.81-2.81c.8-.78.8-2.07 0-2.86zM5.41 20L4 18.59l7.72-7.72 1.47 1.35L5.41 20z\"/>\n",
              "  </svg>\n",
              "      </button>\n",
              "      \n",
              "  <style>\n",
              "    .colab-df-container {\n",
              "      display:flex;\n",
              "      flex-wrap:wrap;\n",
              "      gap: 12px;\n",
              "    }\n",
              "\n",
              "    .colab-df-convert {\n",
              "      background-color: #E8F0FE;\n",
              "      border: none;\n",
              "      border-radius: 50%;\n",
              "      cursor: pointer;\n",
              "      display: none;\n",
              "      fill: #1967D2;\n",
              "      height: 32px;\n",
              "      padding: 0 0 0 0;\n",
              "      width: 32px;\n",
              "    }\n",
              "\n",
              "    .colab-df-convert:hover {\n",
              "      background-color: #E2EBFA;\n",
              "      box-shadow: 0px 1px 2px rgba(60, 64, 67, 0.3), 0px 1px 3px 1px rgba(60, 64, 67, 0.15);\n",
              "      fill: #174EA6;\n",
              "    }\n",
              "\n",
              "    [theme=dark] .colab-df-convert {\n",
              "      background-color: #3B4455;\n",
              "      fill: #D2E3FC;\n",
              "    }\n",
              "\n",
              "    [theme=dark] .colab-df-convert:hover {\n",
              "      background-color: #434B5C;\n",
              "      box-shadow: 0px 1px 3px 1px rgba(0, 0, 0, 0.15);\n",
              "      filter: drop-shadow(0px 1px 2px rgba(0, 0, 0, 0.3));\n",
              "      fill: #FFFFFF;\n",
              "    }\n",
              "  </style>\n",
              "\n",
              "      <script>\n",
              "        const buttonEl =\n",
              "          document.querySelector('#df-5b7a7d57-3f3e-4166-8b7b-b89d00bd2851 button.colab-df-convert');\n",
              "        buttonEl.style.display =\n",
              "          google.colab.kernel.accessAllowed ? 'block' : 'none';\n",
              "\n",
              "        async function convertToInteractive(key) {\n",
              "          const element = document.querySelector('#df-5b7a7d57-3f3e-4166-8b7b-b89d00bd2851');\n",
              "          const dataTable =\n",
              "            await google.colab.kernel.invokeFunction('convertToInteractive',\n",
              "                                                     [key], {});\n",
              "          if (!dataTable) return;\n",
              "\n",
              "          const docLinkHtml = 'Like what you see? Visit the ' +\n",
              "            '<a target=\"_blank\" href=https://colab.research.google.com/notebooks/data_table.ipynb>data table notebook</a>'\n",
              "            + ' to learn more about interactive tables.';\n",
              "          element.innerHTML = '';\n",
              "          dataTable['output_type'] = 'display_data';\n",
              "          await google.colab.output.renderOutput(dataTable, element);\n",
              "          const docLink = document.createElement('div');\n",
              "          docLink.innerHTML = docLinkHtml;\n",
              "          element.appendChild(docLink);\n",
              "        }\n",
              "      </script>\n",
              "    </div>\n",
              "  </div>\n",
              "  "
            ]
          },
          "metadata": {},
          "execution_count": 30
        }
      ]
    },
    {
      "cell_type": "code",
      "source": [
        "df.dtypes"
      ],
      "metadata": {
        "colab": {
          "base_uri": "https://localhost:8080/"
        },
        "id": "ZyPiV4E27ouZ",
        "outputId": "6e347b64-23aa-468c-bc2b-f16fe3263dd1"
      },
      "execution_count": 31,
      "outputs": [
        {
          "output_type": "execute_result",
          "data": {
            "text/plain": [
              "País                    object\n",
              "Ano                      int64\n",
              "População                int64\n",
              "Continente              object\n",
              "Expectativa de vida    float64\n",
              "PIB                    float64\n",
              "dtype: object"
            ]
          },
          "metadata": {},
          "execution_count": 31
        }
      ]
    },
    {
      "cell_type": "markdown",
      "source": [
        "csv_file = tf.keras.utils.get_file(\"Downloading data from{gapminder.csv}\", '/content/gapminder_full.csv')"
      ],
      "metadata": {
        "id": "ZatQmE6ANoI5"
      }
    },
    {
      "cell_type": "code",
      "source": [],
      "metadata": {
        "id": "pawcfz9RNr92"
      },
      "execution_count": 31,
      "outputs": []
    },
    {
      "cell_type": "markdown",
      "metadata": {
        "id": "FhGuhbZ6M5tl"
      },
      "source": [
        "##### Copyright 2018 The TensorFlow Authors."
      ]
    },
    {
      "cell_type": "code",
      "execution_count": 32,
      "metadata": {
        "cellView": "form",
        "id": "AwOEIRJC6Une"
      },
      "outputs": [],
      "source": [
        "#@title Licensed under the Apache License, Version 2.0 (the \"License\");\n",
        "# you may not use this file except in compliance with the License.\n",
        "# You may obtain a copy of the License at\n",
        "#\n",
        "# https://www.apache.org/licenses/LICENSE-2.0\n",
        "#\n",
        "# Unless required by applicable law or agreed to in writing, software\n",
        "# distributed under the License is distributed on an \"AS IS\" BASIS,\n",
        "# WITHOUT WARRANTIES OR CONDITIONS OF ANY KIND, either express or implied.\n",
        "# See the License for the specific language governing permissions and\n",
        "# limitations under the License."
      ]
    },
    {
      "cell_type": "code",
      "execution_count": 33,
      "metadata": {
        "cellView": "form",
        "id": "KyPEtTqk6VdG"
      },
      "outputs": [],
      "source": [
        "#@title MIT License\n",
        "#\n",
        "# Copyright (c) 2017 François Chollet\n",
        "#\n",
        "# Permission is hereby granted, free of charge, to any person obtaining a\n",
        "# copy of this software and associated documentation files (the \"Software\"),\n",
        "# to deal in the Software without restriction, including without limitation\n",
        "# the rights to use, copy, modify, merge, publish, distribute, sublicense,\n",
        "# and/or sell copies of the Software, and to permit persons to whom the\n",
        "# Software is furnished to do so, subject to the following conditions:\n",
        "#\n",
        "# The above copyright notice and this permission notice shall be included in\n",
        "# all copies or substantial portions of the Software.\n",
        "#\n",
        "# THE SOFTWARE IS PROVIDED \"AS IS\", WITHOUT WARRANTY OF ANY KIND, EXPRESS OR\n",
        "# IMPLIED, INCLUDING BUT NOT LIMITED TO THE WARRANTIES OF MERCHANTABILITY,\n",
        "# FITNESS FOR A PARTICULAR PURPOSE AND NONINFRINGEMENT. IN NO EVENT SHALL\n",
        "# THE AUTHORS OR COPYRIGHT HOLDERS BE LIABLE FOR ANY CLAIM, DAMAGES OR OTHER\n",
        "# LIABILITY, WHETHER IN AN ACTION OF CONTRACT, TORT OR OTHERWISE, ARISING\n",
        "# FROM, OUT OF OR IN CONNECTION WITH THE SOFTWARE OR THE USE OR OTHER\n",
        "# DEALINGS IN THE SOFTWARE."
      ]
    },
    {
      "cell_type": "markdown",
      "metadata": {
        "id": "EIdT9iu_Z4Rb"
      },
      "source": [
        "# Regressão: Preveja consumo de combustível"
      ]
    },
    {
      "cell_type": "markdown",
      "metadata": {
        "id": "bBIlTPscrIT9"
      },
      "source": [
        "<table class=\"tfo-notebook-buttons\" align=\"left\">\n",
        "  <td>\n",
        "    <a target=\"_blank\" href=\"https://www.tensorflow.org/tutorials/keras/regression\"><img src=\"https://www.tensorflow.org/images/tf_logo_32px.png\" />Veja em TensorFlow.org</a>\n",
        "  </td>\n",
        "  <td>\n",
        "    <a target=\"_blank\" href=\"https://colab.research.google.com/github/tensorflow/docs-l10n/blob/master/site/pt-br/tutorials/keras/regression.ipynb\"><img src=\"https://www.tensorflow.org/images/colab_logo_32px.png\" />Execute em Google Colab</a>\n",
        "  </td>\n",
        "  <td>\n",
        "    <a target=\"_blank\" href=\"https://github.com/tensorflow/docs-l10n/blob/master/site/pt-br/tutorials/keras/regression.ipynb\"><img src=\"https://www.tensorflow.org/images/GitHub-Mark-32px.png\" />Veja a fonte em GitHub</a>\n",
        "  </td>\n",
        "  <td>\n",
        "    <a href=\"https://storage.googleapis.com/tensorflow_docs/docs-l10n/site/pt-br/tutorials/keras/regression.ipynb\"><img src=\"https://www.tensorflow.org/images/download_logo_32px.png\" />Baixe o notebook</a>\n",
        "  </td>\n",
        "</table>"
      ]
    },
    {
      "cell_type": "markdown",
      "metadata": {
        "id": "JzsKDVTh7UR4"
      },
      "source": [
        "Note: A nossa comunidade TensorFlow traduziu estes documentos. Como as traduções da comunidade são *o melhor esforço*, não há garantias de que sejam uma reflexão exata e atualizada da [documentação oficial em Inglês](https://www.tensorflow.org/?hl=en). Se tem alguma sugestão para melhorar esta tradução, por favor envie um pull request para o repositório do GitHub [tensorflow/docs](https://github.com/tensorflow/docs). Para se voluntariar para escrever ou rever as traduções da comunidade, contacte a [lista docs@tensorflow.org](https://groups.google.com/a/tensorflow.org/forum/#!forum/docs)."
      ]
    },
    {
      "cell_type": "markdown",
      "metadata": {
        "id": "AHp3M9ZmrIxj"
      },
      "source": [
        "Em um problema de regressão, o objetivo é prever as saídas (*outputs*) de um valor contínuo, como um preço ou probabilidade. Em contraste de problemas de classificação, onde temos o propósito de escolher uma classe em uma lista de classificações (por exemplo, se uma imagem contém uma maçã ou laranja, assim reconhecendo qual fruta é representada na imagem).\n",
        "\n",
        "Este *notebook* usa a clássica base de dados [Auto MPG](https://archive.ics.uci.edu/ml/datasets/auto+mpg) e constrói um modelo para prever a economia de combustíveis de automóveis do final dos anos 1970, início dos anos 1980. Para isso, forneceremos um modelo com descrição de vários automóveis desse período. Essa descrição inclui atributos como: cilindros, deslocamento, potência do motor, e peso.\n",
        "\n",
        "Este exemplo usa a API `tf.keras`. Veja [este guia](https://www.tensorflow.org/guide/keras) para mais detalhes."
      ]
    },
    {
      "cell_type": "code",
      "execution_count": 34,
      "metadata": {
        "id": "moB4tpEHxKB3",
        "colab": {
          "base_uri": "https://localhost:8080/"
        },
        "outputId": "f8cc5ed5-a61a-4125-cb6c-d32dd4166410"
      },
      "outputs": [
        {
          "output_type": "stream",
          "name": "stdout",
          "text": [
            "Looking in indexes: https://pypi.org/simple, https://us-python.pkg.dev/colab-wheels/public/simple/\n",
            "Requirement already satisfied: seaborn in /usr/local/lib/python3.10/dist-packages (0.12.2)\n",
            "Requirement already satisfied: numpy!=1.24.0,>=1.17 in /usr/local/lib/python3.10/dist-packages (from seaborn) (1.22.4)\n",
            "Requirement already satisfied: pandas>=0.25 in /usr/local/lib/python3.10/dist-packages (from seaborn) (1.5.3)\n",
            "Requirement already satisfied: matplotlib!=3.6.1,>=3.1 in /usr/local/lib/python3.10/dist-packages (from seaborn) (3.7.1)\n",
            "Requirement already satisfied: contourpy>=1.0.1 in /usr/local/lib/python3.10/dist-packages (from matplotlib!=3.6.1,>=3.1->seaborn) (1.0.7)\n",
            "Requirement already satisfied: cycler>=0.10 in /usr/local/lib/python3.10/dist-packages (from matplotlib!=3.6.1,>=3.1->seaborn) (0.11.0)\n",
            "Requirement already satisfied: fonttools>=4.22.0 in /usr/local/lib/python3.10/dist-packages (from matplotlib!=3.6.1,>=3.1->seaborn) (4.39.3)\n",
            "Requirement already satisfied: kiwisolver>=1.0.1 in /usr/local/lib/python3.10/dist-packages (from matplotlib!=3.6.1,>=3.1->seaborn) (1.4.4)\n",
            "Requirement already satisfied: packaging>=20.0 in /usr/local/lib/python3.10/dist-packages (from matplotlib!=3.6.1,>=3.1->seaborn) (23.1)\n",
            "Requirement already satisfied: pillow>=6.2.0 in /usr/local/lib/python3.10/dist-packages (from matplotlib!=3.6.1,>=3.1->seaborn) (8.4.0)\n",
            "Requirement already satisfied: pyparsing>=2.3.1 in /usr/local/lib/python3.10/dist-packages (from matplotlib!=3.6.1,>=3.1->seaborn) (3.0.9)\n",
            "Requirement already satisfied: python-dateutil>=2.7 in /usr/local/lib/python3.10/dist-packages (from matplotlib!=3.6.1,>=3.1->seaborn) (2.8.2)\n",
            "Requirement already satisfied: pytz>=2020.1 in /usr/local/lib/python3.10/dist-packages (from pandas>=0.25->seaborn) (2022.7.1)\n",
            "Requirement already satisfied: six>=1.5 in /usr/local/lib/python3.10/dist-packages (from python-dateutil>=2.7->matplotlib!=3.6.1,>=3.1->seaborn) (1.16.0)\n"
          ]
        }
      ],
      "source": [
        "# Use seaborn para pairplot\n",
        "!pip install seaborn"
      ]
    },
    {
      "cell_type": "markdown",
      "metadata": {
        "id": "F_72b0LCNbjx"
      },
      "source": [
        "## Base de dados Gapminder\n",
        "\n",
        "A base de dados está disponível  em [UCI Machine Learning Repository](https://archive.ics.uci.edu/ml/).(https://github.com/lanzetti1/Test/blob/main/PI4/gapminder_full.csv)\n"
      ]
    },
    {
      "cell_type": "markdown",
      "metadata": {
        "id": "gFh9ne3FZ-On"
      },
      "source": [
        "### Pegando os dados\n",
        "Primeiro baixe a base de dados dos automóveis."
      ]
    },
    {
      "cell_type": "code",
      "execution_count": 35,
      "metadata": {
        "id": "p9kxxgzvzlyz"
      },
      "outputs": [],
      "source": [
        "#dataset_path = keras.utils.get_file(\"gapminder.csv\", \"/content/gapminder_full.csv\")\n",
        "#dataset_path"
      ]
    },
    {
      "cell_type": "markdown",
      "metadata": {
        "id": "nslsRLh7Zss4"
      },
      "source": [
        "Utilizando o pandas, importe os dados:País\tAno\tPopulação\tContinente\tExpectativa de vida\tPIB"
      ]
    },
    {
      "cell_type": "code",
      "execution_count": 36,
      "metadata": {
        "id": "CiX2FI4gZtTt",
        "colab": {
          "base_uri": "https://localhost:8080/",
          "height": 206
        },
        "outputId": "849ee75e-f568-4238-b2c3-5c92fecf6881"
      },
      "outputs": [
        {
          "output_type": "execute_result",
          "data": {
            "text/plain": [
              "          País   Ano  População Continente  Expectativa de vida         PIB\n",
              "1699  Zimbabwe  1987    9216418     Africa               62.351  706.157306\n",
              "1700  Zimbabwe  1992   10704340     Africa               60.377  693.420786\n",
              "1701  Zimbabwe  1997   11404948     Africa               46.809  792.449960\n",
              "1702  Zimbabwe  2002   11926563     Africa               39.989  672.038623\n",
              "1703  Zimbabwe  2007   12311143     Africa               43.487  469.709298"
            ],
            "text/html": [
              "\n",
              "  <div id=\"df-de0dc329-1f69-41bc-9142-d3149abe7c29\">\n",
              "    <div class=\"colab-df-container\">\n",
              "      <div>\n",
              "<style scoped>\n",
              "    .dataframe tbody tr th:only-of-type {\n",
              "        vertical-align: middle;\n",
              "    }\n",
              "\n",
              "    .dataframe tbody tr th {\n",
              "        vertical-align: top;\n",
              "    }\n",
              "\n",
              "    .dataframe thead th {\n",
              "        text-align: right;\n",
              "    }\n",
              "</style>\n",
              "<table border=\"1\" class=\"dataframe\">\n",
              "  <thead>\n",
              "    <tr style=\"text-align: right;\">\n",
              "      <th></th>\n",
              "      <th>País</th>\n",
              "      <th>Ano</th>\n",
              "      <th>População</th>\n",
              "      <th>Continente</th>\n",
              "      <th>Expectativa de vida</th>\n",
              "      <th>PIB</th>\n",
              "    </tr>\n",
              "  </thead>\n",
              "  <tbody>\n",
              "    <tr>\n",
              "      <th>1699</th>\n",
              "      <td>Zimbabwe</td>\n",
              "      <td>1987</td>\n",
              "      <td>9216418</td>\n",
              "      <td>Africa</td>\n",
              "      <td>62.351</td>\n",
              "      <td>706.157306</td>\n",
              "    </tr>\n",
              "    <tr>\n",
              "      <th>1700</th>\n",
              "      <td>Zimbabwe</td>\n",
              "      <td>1992</td>\n",
              "      <td>10704340</td>\n",
              "      <td>Africa</td>\n",
              "      <td>60.377</td>\n",
              "      <td>693.420786</td>\n",
              "    </tr>\n",
              "    <tr>\n",
              "      <th>1701</th>\n",
              "      <td>Zimbabwe</td>\n",
              "      <td>1997</td>\n",
              "      <td>11404948</td>\n",
              "      <td>Africa</td>\n",
              "      <td>46.809</td>\n",
              "      <td>792.449960</td>\n",
              "    </tr>\n",
              "    <tr>\n",
              "      <th>1702</th>\n",
              "      <td>Zimbabwe</td>\n",
              "      <td>2002</td>\n",
              "      <td>11926563</td>\n",
              "      <td>Africa</td>\n",
              "      <td>39.989</td>\n",
              "      <td>672.038623</td>\n",
              "    </tr>\n",
              "    <tr>\n",
              "      <th>1703</th>\n",
              "      <td>Zimbabwe</td>\n",
              "      <td>2007</td>\n",
              "      <td>12311143</td>\n",
              "      <td>Africa</td>\n",
              "      <td>43.487</td>\n",
              "      <td>469.709298</td>\n",
              "    </tr>\n",
              "  </tbody>\n",
              "</table>\n",
              "</div>\n",
              "      <button class=\"colab-df-convert\" onclick=\"convertToInteractive('df-de0dc329-1f69-41bc-9142-d3149abe7c29')\"\n",
              "              title=\"Convert this dataframe to an interactive table.\"\n",
              "              style=\"display:none;\">\n",
              "        \n",
              "  <svg xmlns=\"http://www.w3.org/2000/svg\" height=\"24px\"viewBox=\"0 0 24 24\"\n",
              "       width=\"24px\">\n",
              "    <path d=\"M0 0h24v24H0V0z\" fill=\"none\"/>\n",
              "    <path d=\"M18.56 5.44l.94 2.06.94-2.06 2.06-.94-2.06-.94-.94-2.06-.94 2.06-2.06.94zm-11 1L8.5 8.5l.94-2.06 2.06-.94-2.06-.94L8.5 2.5l-.94 2.06-2.06.94zm10 10l.94 2.06.94-2.06 2.06-.94-2.06-.94-.94-2.06-.94 2.06-2.06.94z\"/><path d=\"M17.41 7.96l-1.37-1.37c-.4-.4-.92-.59-1.43-.59-.52 0-1.04.2-1.43.59L10.3 9.45l-7.72 7.72c-.78.78-.78 2.05 0 2.83L4 21.41c.39.39.9.59 1.41.59.51 0 1.02-.2 1.41-.59l7.78-7.78 2.81-2.81c.8-.78.8-2.07 0-2.86zM5.41 20L4 18.59l7.72-7.72 1.47 1.35L5.41 20z\"/>\n",
              "  </svg>\n",
              "      </button>\n",
              "      \n",
              "  <style>\n",
              "    .colab-df-container {\n",
              "      display:flex;\n",
              "      flex-wrap:wrap;\n",
              "      gap: 12px;\n",
              "    }\n",
              "\n",
              "    .colab-df-convert {\n",
              "      background-color: #E8F0FE;\n",
              "      border: none;\n",
              "      border-radius: 50%;\n",
              "      cursor: pointer;\n",
              "      display: none;\n",
              "      fill: #1967D2;\n",
              "      height: 32px;\n",
              "      padding: 0 0 0 0;\n",
              "      width: 32px;\n",
              "    }\n",
              "\n",
              "    .colab-df-convert:hover {\n",
              "      background-color: #E2EBFA;\n",
              "      box-shadow: 0px 1px 2px rgba(60, 64, 67, 0.3), 0px 1px 3px 1px rgba(60, 64, 67, 0.15);\n",
              "      fill: #174EA6;\n",
              "    }\n",
              "\n",
              "    [theme=dark] .colab-df-convert {\n",
              "      background-color: #3B4455;\n",
              "      fill: #D2E3FC;\n",
              "    }\n",
              "\n",
              "    [theme=dark] .colab-df-convert:hover {\n",
              "      background-color: #434B5C;\n",
              "      box-shadow: 0px 1px 3px 1px rgba(0, 0, 0, 0.15);\n",
              "      filter: drop-shadow(0px 1px 2px rgba(0, 0, 0, 0.3));\n",
              "      fill: #FFFFFF;\n",
              "    }\n",
              "  </style>\n",
              "\n",
              "      <script>\n",
              "        const buttonEl =\n",
              "          document.querySelector('#df-de0dc329-1f69-41bc-9142-d3149abe7c29 button.colab-df-convert');\n",
              "        buttonEl.style.display =\n",
              "          google.colab.kernel.accessAllowed ? 'block' : 'none';\n",
              "\n",
              "        async function convertToInteractive(key) {\n",
              "          const element = document.querySelector('#df-de0dc329-1f69-41bc-9142-d3149abe7c29');\n",
              "          const dataTable =\n",
              "            await google.colab.kernel.invokeFunction('convertToInteractive',\n",
              "                                                     [key], {});\n",
              "          if (!dataTable) return;\n",
              "\n",
              "          const docLinkHtml = 'Like what you see? Visit the ' +\n",
              "            '<a target=\"_blank\" href=https://colab.research.google.com/notebooks/data_table.ipynb>data table notebook</a>'\n",
              "            + ' to learn more about interactive tables.';\n",
              "          element.innerHTML = '';\n",
              "          dataTable['output_type'] = 'display_data';\n",
              "          await google.colab.output.renderOutput(dataTable, element);\n",
              "          const docLink = document.createElement('div');\n",
              "          docLink.innerHTML = docLinkHtml;\n",
              "          element.appendChild(docLink);\n",
              "        }\n",
              "      </script>\n",
              "    </div>\n",
              "  </div>\n",
              "  "
            ]
          },
          "metadata": {},
          "execution_count": 36
        }
      ],
      "source": [
        "#column_names = ['MPG','Cylinders','Displacement','Horsepower','Weight',\n",
        " #               'Acceleration', 'Model Year', 'Origin']\n",
        "\n",
        "# column_names = ['País','Ano','População','Continente','Expectativa de vida', 'PIB']\n",
        "\n",
        "#raw_dataset = pd.read_csv(dataset_path, names=column_names, na_values = \"?\", comment='\\t', sep=\" \", skipinitialspace=True)\n",
        "#  raw_dataset = pd.read_csv(dataset_path, names=column_names, na_values = [\"??\"], comment='\\t', sep=\" \", skipinitialspace=True)\n",
        "\n",
        "raw_dataset = df\n",
        "dataset = raw_dataset.copy()\n",
        "dataset.tail()"
      ]
    },
    {
      "cell_type": "markdown",
      "metadata": {
        "id": "3MWuJTKEDM-f"
      },
      "source": [
        "### Limpe os dados\n",
        "\n",
        "Esta base contém alguns valores não conhecidos (*unknown*)."
      ]
    },
    {
      "cell_type": "code",
      "execution_count": 37,
      "metadata": {
        "id": "JEJHhN65a2VV",
        "colab": {
          "base_uri": "https://localhost:8080/"
        },
        "outputId": "45863515-d089-4dba-f4df-8c666258e614"
      },
      "outputs": [
        {
          "output_type": "execute_result",
          "data": {
            "text/plain": [
              "País                   0\n",
              "Ano                    0\n",
              "População              0\n",
              "Continente             0\n",
              "Expectativa de vida    0\n",
              "PIB                    0\n",
              "dtype: int64"
            ]
          },
          "metadata": {},
          "execution_count": 37
        }
      ],
      "source": [
        "dataset.isna().sum()"
      ]
    },
    {
      "cell_type": "markdown",
      "metadata": {
        "id": "9UPN0KBHa_WI"
      },
      "source": [
        "Para manter esse tutorial básico, remova as linhas com esses valores não conhecidos."
      ]
    },
    {
      "cell_type": "code",
      "execution_count": 38,
      "metadata": {
        "id": "4ZUDosChC1UN"
      },
      "outputs": [],
      "source": [
        "dataset = dataset.dropna()"
      ]
    },
    {
      "cell_type": "markdown",
      "metadata": {
        "id": "8XKitwaH4v8h"
      },
      "source": [
        "A coluna \"Continente\" é uma coluna categórica e não numérica. Logo converta para *one-hot* :"
      ]
    },
    {
      "cell_type": "code",
      "execution_count": 39,
      "metadata": {
        "id": "gWNTD2QjBWFJ"
      },
      "outputs": [],
      "source": [
        "Continente = dataset.pop('Continente')"
      ]
    },
    {
      "cell_type": "code",
      "execution_count": 40,
      "metadata": {
        "id": "ulXz4J7PAUzk",
        "colab": {
          "base_uri": "https://localhost:8080/",
          "height": 206
        },
        "outputId": "f07d2424-676c-4044-abad-8de04ad475d5"
      },
      "outputs": [
        {
          "output_type": "execute_result",
          "data": {
            "text/plain": [
              "          País   Ano  População  Expectativa de vida         PIB  Africa  \\\n",
              "1699  Zimbabwe  1987    9216418               62.351  706.157306     0.0   \n",
              "1700  Zimbabwe  1992   10704340               60.377  693.420786     0.0   \n",
              "1701  Zimbabwe  1997   11404948               46.809  792.449960     0.0   \n",
              "1702  Zimbabwe  2002   11926563               39.989  672.038623     0.0   \n",
              "1703  Zimbabwe  2007   12311143               43.487  469.709298     0.0   \n",
              "\n",
              "      Americas  Asia  Europa  Oceania  \n",
              "1699       0.0   0.0     0.0      0.0  \n",
              "1700       0.0   0.0     0.0      0.0  \n",
              "1701       0.0   0.0     0.0      0.0  \n",
              "1702       0.0   0.0     0.0      0.0  \n",
              "1703       0.0   0.0     0.0      0.0  "
            ],
            "text/html": [
              "\n",
              "  <div id=\"df-f9adb70b-2a24-4264-8b5c-d18e32c26f72\">\n",
              "    <div class=\"colab-df-container\">\n",
              "      <div>\n",
              "<style scoped>\n",
              "    .dataframe tbody tr th:only-of-type {\n",
              "        vertical-align: middle;\n",
              "    }\n",
              "\n",
              "    .dataframe tbody tr th {\n",
              "        vertical-align: top;\n",
              "    }\n",
              "\n",
              "    .dataframe thead th {\n",
              "        text-align: right;\n",
              "    }\n",
              "</style>\n",
              "<table border=\"1\" class=\"dataframe\">\n",
              "  <thead>\n",
              "    <tr style=\"text-align: right;\">\n",
              "      <th></th>\n",
              "      <th>País</th>\n",
              "      <th>Ano</th>\n",
              "      <th>População</th>\n",
              "      <th>Expectativa de vida</th>\n",
              "      <th>PIB</th>\n",
              "      <th>Africa</th>\n",
              "      <th>Americas</th>\n",
              "      <th>Asia</th>\n",
              "      <th>Europa</th>\n",
              "      <th>Oceania</th>\n",
              "    </tr>\n",
              "  </thead>\n",
              "  <tbody>\n",
              "    <tr>\n",
              "      <th>1699</th>\n",
              "      <td>Zimbabwe</td>\n",
              "      <td>1987</td>\n",
              "      <td>9216418</td>\n",
              "      <td>62.351</td>\n",
              "      <td>706.157306</td>\n",
              "      <td>0.0</td>\n",
              "      <td>0.0</td>\n",
              "      <td>0.0</td>\n",
              "      <td>0.0</td>\n",
              "      <td>0.0</td>\n",
              "    </tr>\n",
              "    <tr>\n",
              "      <th>1700</th>\n",
              "      <td>Zimbabwe</td>\n",
              "      <td>1992</td>\n",
              "      <td>10704340</td>\n",
              "      <td>60.377</td>\n",
              "      <td>693.420786</td>\n",
              "      <td>0.0</td>\n",
              "      <td>0.0</td>\n",
              "      <td>0.0</td>\n",
              "      <td>0.0</td>\n",
              "      <td>0.0</td>\n",
              "    </tr>\n",
              "    <tr>\n",
              "      <th>1701</th>\n",
              "      <td>Zimbabwe</td>\n",
              "      <td>1997</td>\n",
              "      <td>11404948</td>\n",
              "      <td>46.809</td>\n",
              "      <td>792.449960</td>\n",
              "      <td>0.0</td>\n",
              "      <td>0.0</td>\n",
              "      <td>0.0</td>\n",
              "      <td>0.0</td>\n",
              "      <td>0.0</td>\n",
              "    </tr>\n",
              "    <tr>\n",
              "      <th>1702</th>\n",
              "      <td>Zimbabwe</td>\n",
              "      <td>2002</td>\n",
              "      <td>11926563</td>\n",
              "      <td>39.989</td>\n",
              "      <td>672.038623</td>\n",
              "      <td>0.0</td>\n",
              "      <td>0.0</td>\n",
              "      <td>0.0</td>\n",
              "      <td>0.0</td>\n",
              "      <td>0.0</td>\n",
              "    </tr>\n",
              "    <tr>\n",
              "      <th>1703</th>\n",
              "      <td>Zimbabwe</td>\n",
              "      <td>2007</td>\n",
              "      <td>12311143</td>\n",
              "      <td>43.487</td>\n",
              "      <td>469.709298</td>\n",
              "      <td>0.0</td>\n",
              "      <td>0.0</td>\n",
              "      <td>0.0</td>\n",
              "      <td>0.0</td>\n",
              "      <td>0.0</td>\n",
              "    </tr>\n",
              "  </tbody>\n",
              "</table>\n",
              "</div>\n",
              "      <button class=\"colab-df-convert\" onclick=\"convertToInteractive('df-f9adb70b-2a24-4264-8b5c-d18e32c26f72')\"\n",
              "              title=\"Convert this dataframe to an interactive table.\"\n",
              "              style=\"display:none;\">\n",
              "        \n",
              "  <svg xmlns=\"http://www.w3.org/2000/svg\" height=\"24px\"viewBox=\"0 0 24 24\"\n",
              "       width=\"24px\">\n",
              "    <path d=\"M0 0h24v24H0V0z\" fill=\"none\"/>\n",
              "    <path d=\"M18.56 5.44l.94 2.06.94-2.06 2.06-.94-2.06-.94-.94-2.06-.94 2.06-2.06.94zm-11 1L8.5 8.5l.94-2.06 2.06-.94-2.06-.94L8.5 2.5l-.94 2.06-2.06.94zm10 10l.94 2.06.94-2.06 2.06-.94-2.06-.94-.94-2.06-.94 2.06-2.06.94z\"/><path d=\"M17.41 7.96l-1.37-1.37c-.4-.4-.92-.59-1.43-.59-.52 0-1.04.2-1.43.59L10.3 9.45l-7.72 7.72c-.78.78-.78 2.05 0 2.83L4 21.41c.39.39.9.59 1.41.59.51 0 1.02-.2 1.41-.59l7.78-7.78 2.81-2.81c.8-.78.8-2.07 0-2.86zM5.41 20L4 18.59l7.72-7.72 1.47 1.35L5.41 20z\"/>\n",
              "  </svg>\n",
              "      </button>\n",
              "      \n",
              "  <style>\n",
              "    .colab-df-container {\n",
              "      display:flex;\n",
              "      flex-wrap:wrap;\n",
              "      gap: 12px;\n",
              "    }\n",
              "\n",
              "    .colab-df-convert {\n",
              "      background-color: #E8F0FE;\n",
              "      border: none;\n",
              "      border-radius: 50%;\n",
              "      cursor: pointer;\n",
              "      display: none;\n",
              "      fill: #1967D2;\n",
              "      height: 32px;\n",
              "      padding: 0 0 0 0;\n",
              "      width: 32px;\n",
              "    }\n",
              "\n",
              "    .colab-df-convert:hover {\n",
              "      background-color: #E2EBFA;\n",
              "      box-shadow: 0px 1px 2px rgba(60, 64, 67, 0.3), 0px 1px 3px 1px rgba(60, 64, 67, 0.15);\n",
              "      fill: #174EA6;\n",
              "    }\n",
              "\n",
              "    [theme=dark] .colab-df-convert {\n",
              "      background-color: #3B4455;\n",
              "      fill: #D2E3FC;\n",
              "    }\n",
              "\n",
              "    [theme=dark] .colab-df-convert:hover {\n",
              "      background-color: #434B5C;\n",
              "      box-shadow: 0px 1px 3px 1px rgba(0, 0, 0, 0.15);\n",
              "      filter: drop-shadow(0px 1px 2px rgba(0, 0, 0, 0.3));\n",
              "      fill: #FFFFFF;\n",
              "    }\n",
              "  </style>\n",
              "\n",
              "      <script>\n",
              "        const buttonEl =\n",
              "          document.querySelector('#df-f9adb70b-2a24-4264-8b5c-d18e32c26f72 button.colab-df-convert');\n",
              "        buttonEl.style.display =\n",
              "          google.colab.kernel.accessAllowed ? 'block' : 'none';\n",
              "\n",
              "        async function convertToInteractive(key) {\n",
              "          const element = document.querySelector('#df-f9adb70b-2a24-4264-8b5c-d18e32c26f72');\n",
              "          const dataTable =\n",
              "            await google.colab.kernel.invokeFunction('convertToInteractive',\n",
              "                                                     [key], {});\n",
              "          if (!dataTable) return;\n",
              "\n",
              "          const docLinkHtml = 'Like what you see? Visit the ' +\n",
              "            '<a target=\"_blank\" href=https://colab.research.google.com/notebooks/data_table.ipynb>data table notebook</a>'\n",
              "            + ' to learn more about interactive tables.';\n",
              "          element.innerHTML = '';\n",
              "          dataTable['output_type'] = 'display_data';\n",
              "          await google.colab.output.renderOutput(dataTable, element);\n",
              "          const docLink = document.createElement('div');\n",
              "          docLink.innerHTML = docLinkHtml;\n",
              "          element.appendChild(docLink);\n",
              "        }\n",
              "      </script>\n",
              "    </div>\n",
              "  </div>\n",
              "  "
            ]
          },
          "metadata": {},
          "execution_count": 40
        }
      ],
      "source": [
        "dataset['Africa'] = (Continente == 1)*1.0\n",
        "dataset['Americas'] = (Continente == 2)*1.0\n",
        "dataset['Asia'] = (Continente == 3)*1.0\n",
        "dataset['Europa'] = (Continente == 4)*1.0\n",
        "dataset['Oceania'] = (Continente == 5)*1.0\n",
        "dataset.tail()"
      ]
    },
    {
      "cell_type": "markdown",
      "metadata": {
        "id": "Cuym4yvk76vU"
      },
      "source": [
        "### Separando dados de treinamento e teste\n",
        "\n",
        "Agora separe os dados em um conjunto de treinamento e outro teste.\n",
        "\n",
        "Iremos utilizar o conjunto de teste no final da análise do modelo."
      ]
    },
    {
      "cell_type": "code",
      "execution_count": 41,
      "metadata": {
        "id": "qn-IGhUE7_1H"
      },
      "outputs": [],
      "source": [
        "train_dataset = dataset.sample(frac=0.8,random_state=0)\n",
        "test_dataset = dataset.drop(train_dataset.index)"
      ]
    },
    {
      "cell_type": "markdown",
      "metadata": {
        "id": "J4ubs136WLNp"
      },
      "source": [
        "### Inspecione o dado\n",
        "\n",
        "Dê uma rápida olhada em como está a distribuição de algumas colunas do conjunto de treinamento."
      ]
    },
    {
      "cell_type": "code",
      "execution_count": 42,
      "metadata": {
        "id": "oRKO_x8gWKv-",
        "colab": {
          "base_uri": "https://localhost:8080/",
          "height": 1000
        },
        "outputId": "52bc8dd4-51ad-420b-8f05-0679c14b0acf"
      },
      "outputs": [
        {
          "output_type": "execute_result",
          "data": {
            "text/plain": [
              "<seaborn.axisgrid.PairGrid at 0x7efd27a1c430>"
            ]
          },
          "metadata": {},
          "execution_count": 42
        },
        {
          "output_type": "display_data",
          "data": {
            "text/plain": [
              "<Figure size 2250x2250 with 90 Axes>"
            ],
            "image/png": "[encoded data removed]"
          },
          "metadata": {}
        }
      ],
      "source": [
        "sns.pairplot(train_dataset[[\"Ano\", \"População\", \"Africa\",\t\"Americas\",\t\"Asia\",\t\"Europa\",\t\"Oceania\",\"Expectativa de vida\", \"PIB\"]], diag_kind=\"kde\")"
      ]
    },
    {
      "cell_type": "markdown",
      "metadata": {
        "id": "gavKO_6DWRMP"
      },
      "source": [
        "Repare na visão geral das estatísticas:"
      ]
    },
    {
      "cell_type": "code",
      "execution_count": 43,
      "metadata": {
        "id": "yi2FzC3T21jR",
        "colab": {
          "base_uri": "https://localhost:8080/",
          "height": 300
        },
        "outputId": "baeeb6d3-7435-48f6-b678-3c2e84b33a7e"
      },
      "outputs": [
        {
          "output_type": "execute_result",
          "data": {
            "text/plain": [
              "            count          mean           std           min           25%  \\\n",
              "Ano        1363.0  1.979623e+03  1.722802e+01   1952.000000  1.962000e+03   \n",
              "População  1363.0  2.848559e+07  1.003372e+08  60011.000000  2.881164e+06   \n",
              "PIB        1363.0  7.474522e+03  1.029252e+04    241.165876  1.225949e+03   \n",
              "Africa     1363.0  0.000000e+00  0.000000e+00      0.000000  0.000000e+00   \n",
              "Americas   1363.0  0.000000e+00  0.000000e+00      0.000000  0.000000e+00   \n",
              "Asia       1363.0  0.000000e+00  0.000000e+00      0.000000  0.000000e+00   \n",
              "Europa     1363.0  0.000000e+00  0.000000e+00      0.000000  0.000000e+00   \n",
              "Oceania    1363.0  0.000000e+00  0.000000e+00      0.000000  0.000000e+00   \n",
              "\n",
              "                    50%           75%           max  \n",
              "Ano        1.982000e+03  1.997000e+03  2.007000e+03  \n",
              "População  7.272485e+06  2.034663e+07  1.318683e+09  \n",
              "PIB        3.726064e+03  9.629440e+03  1.135231e+05  \n",
              "Africa     0.000000e+00  0.000000e+00  0.000000e+00  \n",
              "Americas   0.000000e+00  0.000000e+00  0.000000e+00  \n",
              "Asia       0.000000e+00  0.000000e+00  0.000000e+00  \n",
              "Europa     0.000000e+00  0.000000e+00  0.000000e+00  \n",
              "Oceania    0.000000e+00  0.000000e+00  0.000000e+00  "
            ],
            "text/html": [
              "\n",
              "  <div id=\"df-5e777f09-d98f-4abd-8da8-e7de99a318c8\">\n",
              "    <div class=\"colab-df-container\">\n",
              "      <div>\n",
              "<style scoped>\n",
              "    .dataframe tbody tr th:only-of-type {\n",
              "        vertical-align: middle;\n",
              "    }\n",
              "\n",
              "    .dataframe tbody tr th {\n",
              "        vertical-align: top;\n",
              "    }\n",
              "\n",
              "    .dataframe thead th {\n",
              "        text-align: right;\n",
              "    }\n",
              "</style>\n",
              "<table border=\"1\" class=\"dataframe\">\n",
              "  <thead>\n",
              "    <tr style=\"text-align: right;\">\n",
              "      <th></th>\n",
              "      <th>count</th>\n",
              "      <th>mean</th>\n",
              "      <th>std</th>\n",
              "      <th>min</th>\n",
              "      <th>25%</th>\n",
              "      <th>50%</th>\n",
              "      <th>75%</th>\n",
              "      <th>max</th>\n",
              "    </tr>\n",
              "  </thead>\n",
              "  <tbody>\n",
              "    <tr>\n",
              "      <th>Ano</th>\n",
              "      <td>1363.0</td>\n",
              "      <td>1.979623e+03</td>\n",
              "      <td>1.722802e+01</td>\n",
              "      <td>1952.000000</td>\n",
              "      <td>1.962000e+03</td>\n",
              "      <td>1.982000e+03</td>\n",
              "      <td>1.997000e+03</td>\n",
              "      <td>2.007000e+03</td>\n",
              "    </tr>\n",
              "    <tr>\n",
              "      <th>População</th>\n",
              "      <td>1363.0</td>\n",
              "      <td>2.848559e+07</td>\n",
              "      <td>1.003372e+08</td>\n",
              "      <td>60011.000000</td>\n",
              "      <td>2.881164e+06</td>\n",
              "      <td>7.272485e+06</td>\n",
              "      <td>2.034663e+07</td>\n",
              "      <td>1.318683e+09</td>\n",
              "    </tr>\n",
              "    <tr>\n",
              "      <th>PIB</th>\n",
              "      <td>1363.0</td>\n",
              "      <td>7.474522e+03</td>\n",
              "      <td>1.029252e+04</td>\n",
              "      <td>241.165876</td>\n",
              "      <td>1.225949e+03</td>\n",
              "      <td>3.726064e+03</td>\n",
              "      <td>9.629440e+03</td>\n",
              "      <td>1.135231e+05</td>\n",
              "    </tr>\n",
              "    <tr>\n",
              "      <th>Africa</th>\n",
              "      <td>1363.0</td>\n",
              "      <td>0.000000e+00</td>\n",
              "      <td>0.000000e+00</td>\n",
              "      <td>0.000000</td>\n",
              "      <td>0.000000e+00</td>\n",
              "      <td>0.000000e+00</td>\n",
              "      <td>0.000000e+00</td>\n",
              "      <td>0.000000e+00</td>\n",
              "    </tr>\n",
              "    <tr>\n",
              "      <th>Americas</th>\n",
              "      <td>1363.0</td>\n",
              "      <td>0.000000e+00</td>\n",
              "      <td>0.000000e+00</td>\n",
              "      <td>0.000000</td>\n",
              "      <td>0.000000e+00</td>\n",
              "      <td>0.000000e+00</td>\n",
              "      <td>0.000000e+00</td>\n",
              "      <td>0.000000e+00</td>\n",
              "    </tr>\n",
              "    <tr>\n",
              "      <th>Asia</th>\n",
              "      <td>1363.0</td>\n",
              "      <td>0.000000e+00</td>\n",
              "      <td>0.000000e+00</td>\n",
              "      <td>0.000000</td>\n",
              "      <td>0.000000e+00</td>\n",
              "      <td>0.000000e+00</td>\n",
              "      <td>0.000000e+00</td>\n",
              "      <td>0.000000e+00</td>\n",
              "    </tr>\n",
              "    <tr>\n",
              "      <th>Europa</th>\n",
              "      <td>1363.0</td>\n",
              "      <td>0.000000e+00</td>\n",
              "      <td>0.000000e+00</td>\n",
              "      <td>0.000000</td>\n",
              "      <td>0.000000e+00</td>\n",
              "      <td>0.000000e+00</td>\n",
              "      <td>0.000000e+00</td>\n",
              "      <td>0.000000e+00</td>\n",
              "    </tr>\n",
              "    <tr>\n",
              "      <th>Oceania</th>\n",
              "      <td>1363.0</td>\n",
              "      <td>0.000000e+00</td>\n",
              "      <td>0.000000e+00</td>\n",
              "      <td>0.000000</td>\n",
              "      <td>0.000000e+00</td>\n",
              "      <td>0.000000e+00</td>\n",
              "      <td>0.000000e+00</td>\n",
              "      <td>0.000000e+00</td>\n",
              "    </tr>\n",
              "  </tbody>\n",
              "</table>\n",
              "</div>\n",
              "      <button class=\"colab-df-convert\" onclick=\"convertToInteractive('df-5e777f09-d98f-4abd-8da8-e7de99a318c8')\"\n",
              "              title=\"Convert this dataframe to an interactive table.\"\n",
              "              style=\"display:none;\">\n",
              "        \n",
              "  <svg xmlns=\"http://www.w3.org/2000/svg\" height=\"24px\"viewBox=\"0 0 24 24\"\n",
              "       width=\"24px\">\n",
              "    <path d=\"M0 0h24v24H0V0z\" fill=\"none\"/>\n",
              "    <path d=\"M18.56 5.44l.94 2.06.94-2.06 2.06-.94-2.06-.94-.94-2.06-.94 2.06-2.06.94zm-11 1L8.5 8.5l.94-2.06 2.06-.94-2.06-.94L8.5 2.5l-.94 2.06-2.06.94zm10 10l.94 2.06.94-2.06 2.06-.94-2.06-.94-.94-2.06-.94 2.06-2.06.94z\"/><path d=\"M17.41 7.96l-1.37-1.37c-.4-.4-.92-.59-1.43-.59-.52 0-1.04.2-1.43.59L10.3 9.45l-7.72 7.72c-.78.78-.78 2.05 0 2.83L4 21.41c.39.39.9.59 1.41.59.51 0 1.02-.2 1.41-.59l7.78-7.78 2.81-2.81c.8-.78.8-2.07 0-2.86zM5.41 20L4 18.59l7.72-7.72 1.47 1.35L5.41 20z\"/>\n",
              "  </svg>\n",
              "      </button>\n",
              "      \n",
              "  <style>\n",
              "    .colab-df-container {\n",
              "      display:flex;\n",
              "      flex-wrap:wrap;\n",
              "      gap: 12px;\n",
              "    }\n",
              "\n",
              "    .colab-df-convert {\n",
              "      background-color: #E8F0FE;\n",
              "      border: none;\n",
              "      border-radius: 50%;\n",
              "      cursor: pointer;\n",
              "      display: none;\n",
              "      fill: #1967D2;\n",
              "      height: 32px;\n",
              "      padding: 0 0 0 0;\n",
              "      width: 32px;\n",
              "    }\n",
              "\n",
              "    .colab-df-convert:hover {\n",
              "      background-color: #E2EBFA;\n",
              "      box-shadow: 0px 1px 2px rgba(60, 64, 67, 0.3), 0px 1px 3px 1px rgba(60, 64, 67, 0.15);\n",
              "      fill: #174EA6;\n",
              "    }\n",
              "\n",
              "    [theme=dark] .colab-df-convert {\n",
              "      background-color: #3B4455;\n",
              "      fill: #D2E3FC;\n",
              "    }\n",
              "\n",
              "    [theme=dark] .colab-df-convert:hover {\n",
              "      background-color: #434B5C;\n",
              "      box-shadow: 0px 1px 3px 1px rgba(0, 0, 0, 0.15);\n",
              "      filter: drop-shadow(0px 1px 2px rgba(0, 0, 0, 0.3));\n",
              "      fill: #FFFFFF;\n",
              "    }\n",
              "  </style>\n",
              "\n",
              "      <script>\n",
              "        const buttonEl =\n",
              "          document.querySelector('#df-5e777f09-d98f-4abd-8da8-e7de99a318c8 button.colab-df-convert');\n",
              "        buttonEl.style.display =\n",
              "          google.colab.kernel.accessAllowed ? 'block' : 'none';\n",
              "\n",
              "        async function convertToInteractive(key) {\n",
              "          const element = document.querySelector('#df-5e777f09-d98f-4abd-8da8-e7de99a318c8');\n",
              "          const dataTable =\n",
              "            await google.colab.kernel.invokeFunction('convertToInteractive',\n",
              "                                                     [key], {});\n",
              "          if (!dataTable) return;\n",
              "\n",
              "          const docLinkHtml = 'Like what you see? Visit the ' +\n",
              "            '<a target=\"_blank\" href=https://colab.research.google.com/notebooks/data_table.ipynb>data table notebook</a>'\n",
              "            + ' to learn more about interactive tables.';\n",
              "          element.innerHTML = '';\n",
              "          dataTable['output_type'] = 'display_data';\n",
              "          await google.colab.output.renderOutput(dataTable, element);\n",
              "          const docLink = document.createElement('div');\n",
              "          docLink.innerHTML = docLinkHtml;\n",
              "          element.appendChild(docLink);\n",
              "        }\n",
              "      </script>\n",
              "    </div>\n",
              "  </div>\n",
              "  "
            ]
          },
          "metadata": {},
          "execution_count": 43
        }
      ],
      "source": [
        "train_stats = train_dataset.describe()\n",
        "train_stats.pop(\"Expectativa de vida\")\n",
        "train_stats = train_stats.transpose()\n",
        "train_stats"
      ]
    },
    {
      "cell_type": "markdown",
      "metadata": {
        "id": "Db7Auq1yXUvh"
      },
      "source": [
        "### Separe features de labels\n",
        "\n",
        "Separe o valor alvo (*labels*), das *features*. Esta label é o valor no qual o model é treinado para prever."
      ]
    },
    {
      "cell_type": "code",
      "execution_count": 44,
      "metadata": {
        "id": "t2sluJdCW7jN"
      },
      "outputs": [],
      "source": [
        "train_labels = train_dataset.pop('Expectativa de vida')\n",
        "test_labels = test_dataset.pop('Expectativa de vida')"
      ]
    },
    {
      "cell_type": "markdown",
      "metadata": {
        "id": "mRklxK5s388r"
      },
      "source": [
        "### Normalize os dados\n",
        "\n",
        "Olhe novamente para o bloco `train_stats` acima e note quão diferente é a variação de feature."
      ]
    },
    {
      "cell_type": "markdown",
      "metadata": {
        "id": "-ywmerQ6dSox"
      },
      "source": [
        "Uma boa prática é normalizar as *features* que usam diferentes escalas e intervalos. Apesar do modelo poder convergir sem a normalização, isso torna o treinamento mais difícil, e torna o resultado do modelo dependente da escolha das unidades da entrada.\n",
        "\n",
        "Note: embora geramos intencionalmente essas estatísticas para os dados de treinamento, essas estatísticas serão usadas também para normalizar o conjunto de teste. Precisamos delinear o conjunto de teste na mesma distribuição que o modelo foi treinado. "
      ]
    },
    {
      "cell_type": "code",
      "execution_count": 45,
      "metadata": {
        "id": "JlC5ooJrgjQF"
      },
      "outputs": [],
      "source": [
        "def norm(x):\n",
        "  return (x - train_stats['mean']) / train_stats['std']\n",
        "normed_train_data = norm(train_dataset)\n",
        "normed_test_data = norm(test_dataset)"
      ]
    },
    {
      "cell_type": "markdown",
      "metadata": {
        "id": "BuiClDk45eS4"
      },
      "source": [
        "O dado normalizado é o que nós usaremos para treinar o modelo.\n",
        "\n",
        "Caution: A estatística usada para normalizar as entradas aqui (média e desvio padrão) precisa ser aplicada em qualquer outro dado que alimenta o modelo, junto com o codificação one-hot que fizemos mais cedo.  Isso inclui o conjunto de teste, assim como dados que o modelo usará em produção."
      ]
    },
    {
      "cell_type": "markdown",
      "metadata": {
        "id": "SmjdzxKzEu1-"
      },
      "source": [
        "## O Modelo"
      ]
    },
    {
      "cell_type": "markdown",
      "metadata": {
        "id": "6SWtkIjhrZwa"
      },
      "source": [
        "### Construindo o modelo\n",
        "\n",
        "Vamos construir o modelo. Aqui usaremos o modelo `Sequential` com duas camadas *densely connected*, e a camada de saída que retorna um único valor contínuo. Os passos de construção do modelo são agrupados em uma função, `build_model`, já que criaremos um segundo modelo mais tarde."
      ]
    },
    {
      "cell_type": "markdown",
      "source": [],
      "metadata": {
        "id": "xytITzgpELde"
      }
    },
    {
      "cell_type": "code",
      "execution_count": 46,
      "metadata": {
        "id": "c26juK7ZG8j-"
      },
      "outputs": [],
      "source": [
        "#def build_model():\n",
        "#  model = keras.Sequential([\n",
        "#   layers.Dense(64, activation='relu', input_shape=[len(train_dataset.keys())]),\n",
        "#   layers.Dense(64, activation='relu'),\n",
        "#   layers.Dense(1)\n",
        "#  ])\n",
        "\n",
        "#  optimizer = tf.keras.optimizers.RMSprop(0.001)\n",
        "\n",
        "# model.compile(loss='mse',\n",
        "#                optimizer=optimizer,\n",
        "#                metrics=['mae', 'mse'])\n",
        "#  return model/#\n"
      ]
    },
    {
      "cell_type": "markdown",
      "source": [],
      "metadata": {
        "id": "ict1-yNeBo-P"
      }
    },
    {
      "cell_type": "code",
      "source": [
        "def build_model(hp):\n",
        "  model = keras.Sequential()\n",
        "  model.add(keras.layers.Dense(\n",
        "      hp.Choice('units', [8, 16, 32]),\n",
        "      activation='relu'))\n",
        "  model.add(keras.layers.Dense(1, activation='relu'))\n",
        "  model.compile(loss='mse')\n",
        "  return model"
      ],
      "metadata": {
        "id": "0xvr70E4FwlD"
      },
      "execution_count": 47,
      "outputs": []
    },
    {
      "cell_type": "markdown",
      "source": [],
      "metadata": {
        "id": "8BHPI2uhIi2W"
      }
    },
    {
      "cell_type": "code",
      "source": [],
      "metadata": {
        "id": "zfGBBSoaHhil"
      },
      "execution_count": 47,
      "outputs": []
    },
    {
      "cell_type": "code",
      "source": [
        "from statistics import stdev\n",
        "from statsmodels.tsa.seasonal import seasonal_decompose"
      ],
      "metadata": {
        "id": "1uFtLG-AIREP"
      },
      "execution_count": 48,
      "outputs": []
    },
    {
      "cell_type": "code",
      "source": [
        "import scipy\n",
        "from scipy.io import arff\n",
        "#data, meta = scipy.io.arff.loadarff(/content/gapminder_full.csv)\n",
        "\n",
        "\n",
        "\n",
        "from sklearn.datasets import make_multilabel_classification\n",
        "from sklearn.model_selection import train_test_split\n",
        "\n",
        "# this will generate a random multi-label dataset\n",
        "X, y = make_multilabel_classification(sparse = True, n_labels = 20,\n",
        "return_indicator = 'sparse', allow_unlabeled = False)\n",
        "\n",
        "# using binary relevance\n",
        "!pip install scikit-multilearn\n",
        "from skmultilearn.problem_transform import BinaryRelevance\n",
        "from sklearn.naive_bayes import GaussianNB\n",
        "\n",
        "# initialize binary relevance multi-label classifier\n",
        "# with a gaussian naive bayes base classifier\n",
        "classifier = BinaryRelevance(GaussianNB())\n",
        "\n",
        "# train\n",
        "X_train, X_test, y_train, y_test = train_test_split(X, y, test_size=0.33, random_state=42)\n",
        "classifier.fit(X_train, y_train)\n",
        "\n",
        "# predict\n",
        "predictions = classifier.predict(X_test)\n",
        "\n",
        "from sklearn.metrics import accuracy_score\n",
        "accuracy_score(y_test,predictions)"
      ],
      "metadata": {
        "colab": {
          "base_uri": "https://localhost:8080/"
        },
        "id": "h64JTHj_7_8u",
        "outputId": "debcfbea-7841-47a9-bc7b-f61e448f40b8"
      },
      "execution_count": 53,
      "outputs": [
        {
          "output_type": "stream",
          "name": "stdout",
          "text": [
            "Looking in indexes: https://pypi.org/simple, https://us-python.pkg.dev/colab-wheels/public/simple/\n",
            "Requirement already satisfied: scikit-multilearn in /usr/local/lib/python3.10/dist-packages (0.2.0)\n"
          ]
        },
        {
          "output_type": "execute_result",
          "data": {
            "text/plain": [
              "0.7272727272727273"
            ]
          },
          "metadata": {},
          "execution_count": 53
        }
      ]
    },
    {
      "cell_type": "code",
      "source": [
        "from sklearn.preprocessing import StandardScaler\n",
        "s =StandardScaler()\n",
        "X_train = s.fit_transform(X_train)\n",
        "X_test = s.fit_transform(X_test)"
      ],
      "metadata": {
        "colab": {
          "base_uri": "https://localhost:8080/",
          "height": 377
        },
        "id": "ctpntFnp8mFF",
        "outputId": "75fde95d-839f-47f6-e79c-792cb29561aa"
      },
      "execution_count": 54,
      "outputs": [
        {
          "output_type": "error",
          "ename": "ValueError",
          "evalue": "ignored",
          "traceback": [
            "\u001b[0;31m---------------------------------------------------------------------------\u001b[0m",
            "\u001b[0;31mValueError\u001b[0m                                Traceback (most recent call last)",
            "\u001b[0;32m<ipython-input-54-10ab89f4517d>\u001b[0m in \u001b[0;36m<cell line: 3>\u001b[0;34m()\u001b[0m\n\u001b[1;32m      1\u001b[0m \u001b[0;32mfrom\u001b[0m \u001b[0msklearn\u001b[0m\u001b[0;34m.\u001b[0m\u001b[0mpreprocessing\u001b[0m \u001b[0;32mimport\u001b[0m \u001b[0mStandardScaler\u001b[0m\u001b[0;34m\u001b[0m\u001b[0;34m\u001b[0m\u001b[0m\n\u001b[1;32m      2\u001b[0m \u001b[0ms\u001b[0m \u001b[0;34m=\u001b[0m\u001b[0mStandardScaler\u001b[0m\u001b[0;34m(\u001b[0m\u001b[0;34m)\u001b[0m\u001b[0;34m\u001b[0m\u001b[0;34m\u001b[0m\u001b[0m\n\u001b[0;32m----> 3\u001b[0;31m \u001b[0mX_train\u001b[0m \u001b[0;34m=\u001b[0m \u001b[0ms\u001b[0m\u001b[0;34m.\u001b[0m\u001b[0mfit_transform\u001b[0m\u001b[0;34m(\u001b[0m\u001b[0mX_train\u001b[0m\u001b[0;34m)\u001b[0m\u001b[0;34m\u001b[0m\u001b[0;34m\u001b[0m\u001b[0m\n\u001b[0m\u001b[1;32m      4\u001b[0m \u001b[0mX_test\u001b[0m \u001b[0;34m=\u001b[0m \u001b[0ms\u001b[0m\u001b[0;34m.\u001b[0m\u001b[0mfit_transform\u001b[0m\u001b[0;34m(\u001b[0m\u001b[0mX_test\u001b[0m\u001b[0;34m)\u001b[0m\u001b[0;34m\u001b[0m\u001b[0;34m\u001b[0m\u001b[0m\n",
            "\u001b[0;32m/usr/local/lib/python3.10/dist-packages/sklearn/utils/_set_output.py\u001b[0m in \u001b[0;36mwrapped\u001b[0;34m(self, X, *args, **kwargs)\u001b[0m\n\u001b[1;32m    138\u001b[0m     \u001b[0;34m@\u001b[0m\u001b[0mwraps\u001b[0m\u001b[0;34m(\u001b[0m\u001b[0mf\u001b[0m\u001b[0;34m)\u001b[0m\u001b[0;34m\u001b[0m\u001b[0;34m\u001b[0m\u001b[0m\n\u001b[1;32m    139\u001b[0m     \u001b[0;32mdef\u001b[0m \u001b[0mwrapped\u001b[0m\u001b[0;34m(\u001b[0m\u001b[0mself\u001b[0m\u001b[0;34m,\u001b[0m \u001b[0mX\u001b[0m\u001b[0;34m,\u001b[0m \u001b[0;34m*\u001b[0m\u001b[0margs\u001b[0m\u001b[0;34m,\u001b[0m \u001b[0;34m**\u001b[0m\u001b[0mkwargs\u001b[0m\u001b[0;34m)\u001b[0m\u001b[0;34m:\u001b[0m\u001b[0;34m\u001b[0m\u001b[0;34m\u001b[0m\u001b[0m\n\u001b[0;32m--> 140\u001b[0;31m         \u001b[0mdata_to_wrap\u001b[0m \u001b[0;34m=\u001b[0m \u001b[0mf\u001b[0m\u001b[0;34m(\u001b[0m\u001b[0mself\u001b[0m\u001b[0;34m,\u001b[0m \u001b[0mX\u001b[0m\u001b[0;34m,\u001b[0m \u001b[0;34m*\u001b[0m\u001b[0margs\u001b[0m\u001b[0;34m,\u001b[0m \u001b[0;34m**\u001b[0m\u001b[0mkwargs\u001b[0m\u001b[0;34m)\u001b[0m\u001b[0;34m\u001b[0m\u001b[0;34m\u001b[0m\u001b[0m\n\u001b[0m\u001b[1;32m    141\u001b[0m         \u001b[0;32mif\u001b[0m \u001b[0misinstance\u001b[0m\u001b[0;34m(\u001b[0m\u001b[0mdata_to_wrap\u001b[0m\u001b[0;34m,\u001b[0m \u001b[0mtuple\u001b[0m\u001b[0;34m)\u001b[0m\u001b[0;34m:\u001b[0m\u001b[0;34m\u001b[0m\u001b[0;34m\u001b[0m\u001b[0m\n\u001b[1;32m    142\u001b[0m             \u001b[0;31m# only wrap the first output for cross decomposition\u001b[0m\u001b[0;34m\u001b[0m\u001b[0;34m\u001b[0m\u001b[0m\n",
            "\u001b[0;32m/usr/local/lib/python3.10/dist-packages/sklearn/base.py\u001b[0m in \u001b[0;36mfit_transform\u001b[0;34m(self, X, y, **fit_params)\u001b[0m\n\u001b[1;32m    876\u001b[0m         \u001b[0;32mif\u001b[0m \u001b[0my\u001b[0m \u001b[0;32mis\u001b[0m \u001b[0;32mNone\u001b[0m\u001b[0;34m:\u001b[0m\u001b[0;34m\u001b[0m\u001b[0;34m\u001b[0m\u001b[0m\n\u001b[1;32m    877\u001b[0m             \u001b[0;31m# fit method of arity 1 (unsupervised transformation)\u001b[0m\u001b[0;34m\u001b[0m\u001b[0;34m\u001b[0m\u001b[0m\n\u001b[0;32m--> 878\u001b[0;31m             \u001b[0;32mreturn\u001b[0m \u001b[0mself\u001b[0m\u001b[0;34m.\u001b[0m\u001b[0mfit\u001b[0m\u001b[0;34m(\u001b[0m\u001b[0mX\u001b[0m\u001b[0;34m,\u001b[0m \u001b[0;34m**\u001b[0m\u001b[0mfit_params\u001b[0m\u001b[0;34m)\u001b[0m\u001b[0;34m.\u001b[0m\u001b[0mtransform\u001b[0m\u001b[0;34m(\u001b[0m\u001b[0mX\u001b[0m\u001b[0;34m)\u001b[0m\u001b[0;34m\u001b[0m\u001b[0;34m\u001b[0m\u001b[0m\n\u001b[0m\u001b[1;32m    879\u001b[0m         \u001b[0;32melse\u001b[0m\u001b[0;34m:\u001b[0m\u001b[0;34m\u001b[0m\u001b[0;34m\u001b[0m\u001b[0m\n\u001b[1;32m    880\u001b[0m             \u001b[0;31m# fit method of arity 2 (supervised transformation)\u001b[0m\u001b[0;34m\u001b[0m\u001b[0;34m\u001b[0m\u001b[0m\n",
            "\u001b[0;32m/usr/local/lib/python3.10/dist-packages/sklearn/preprocessing/_data.py\u001b[0m in \u001b[0;36mfit\u001b[0;34m(self, X, y, sample_weight)\u001b[0m\n\u001b[1;32m    822\u001b[0m         \u001b[0;31m# Reset internal state before fitting\u001b[0m\u001b[0;34m\u001b[0m\u001b[0;34m\u001b[0m\u001b[0m\n\u001b[1;32m    823\u001b[0m         \u001b[0mself\u001b[0m\u001b[0;34m.\u001b[0m\u001b[0m_reset\u001b[0m\u001b[0;34m(\u001b[0m\u001b[0;34m)\u001b[0m\u001b[0;34m\u001b[0m\u001b[0;34m\u001b[0m\u001b[0m\n\u001b[0;32m--> 824\u001b[0;31m         \u001b[0;32mreturn\u001b[0m \u001b[0mself\u001b[0m\u001b[0;34m.\u001b[0m\u001b[0mpartial_fit\u001b[0m\u001b[0;34m(\u001b[0m\u001b[0mX\u001b[0m\u001b[0;34m,\u001b[0m \u001b[0my\u001b[0m\u001b[0;34m,\u001b[0m \u001b[0msample_weight\u001b[0m\u001b[0;34m)\u001b[0m\u001b[0;34m\u001b[0m\u001b[0;34m\u001b[0m\u001b[0m\n\u001b[0m\u001b[1;32m    825\u001b[0m \u001b[0;34m\u001b[0m\u001b[0m\n\u001b[1;32m    826\u001b[0m     \u001b[0;32mdef\u001b[0m \u001b[0mpartial_fit\u001b[0m\u001b[0;34m(\u001b[0m\u001b[0mself\u001b[0m\u001b[0;34m,\u001b[0m \u001b[0mX\u001b[0m\u001b[0;34m,\u001b[0m \u001b[0my\u001b[0m\u001b[0;34m=\u001b[0m\u001b[0;32mNone\u001b[0m\u001b[0;34m,\u001b[0m \u001b[0msample_weight\u001b[0m\u001b[0;34m=\u001b[0m\u001b[0;32mNone\u001b[0m\u001b[0;34m)\u001b[0m\u001b[0;34m:\u001b[0m\u001b[0;34m\u001b[0m\u001b[0;34m\u001b[0m\u001b[0m\n",
            "\u001b[0;32m/usr/local/lib/python3.10/dist-packages/sklearn/preprocessing/_data.py\u001b[0m in \u001b[0;36mpartial_fit\u001b[0;34m(self, X, y, sample_weight)\u001b[0m\n\u001b[1;32m    887\u001b[0m         \u001b[0;32mif\u001b[0m \u001b[0msparse\u001b[0m\u001b[0;34m.\u001b[0m\u001b[0missparse\u001b[0m\u001b[0;34m(\u001b[0m\u001b[0mX\u001b[0m\u001b[0;34m)\u001b[0m\u001b[0;34m:\u001b[0m\u001b[0;34m\u001b[0m\u001b[0;34m\u001b[0m\u001b[0m\n\u001b[1;32m    888\u001b[0m             \u001b[0;32mif\u001b[0m \u001b[0mself\u001b[0m\u001b[0;34m.\u001b[0m\u001b[0mwith_mean\u001b[0m\u001b[0;34m:\u001b[0m\u001b[0;34m\u001b[0m\u001b[0;34m\u001b[0m\u001b[0m\n\u001b[0;32m--> 889\u001b[0;31m                 raise ValueError(\n\u001b[0m\u001b[1;32m    890\u001b[0m                     \u001b[0;34m\"Cannot center sparse matrices: pass `with_mean=False` \"\u001b[0m\u001b[0;34m\u001b[0m\u001b[0;34m\u001b[0m\u001b[0m\n\u001b[1;32m    891\u001b[0m                     \u001b[0;34m\"instead. See docstring for motivation and alternatives.\"\u001b[0m\u001b[0;34m\u001b[0m\u001b[0;34m\u001b[0m\u001b[0m\n",
            "\u001b[0;31mValueError\u001b[0m: Cannot center sparse matrices: pass `with_mean=False` instead. See docstring for motivation and alternatives."
          ]
        }
      ]
    },
    {
      "cell_type": "markdown",
      "source": [],
      "metadata": {
        "id": "yEy50zAf8AgT"
      }
    },
    {
      "cell_type": "code",
      "source": [
        "tuner = keras_tuner.RandomSearch(\n",
        "    build_model,\n",
        "    objective='val_loss',\n",
        "    max_trials=5)"
      ],
      "metadata": {
        "id": "LulX_EHrIjQh"
      },
      "execution_count": null,
      "outputs": []
    },
    {
      "cell_type": "markdown",
      "source": [],
      "metadata": {
        "id": "W1UkmeY0IpKM"
      }
    },
    {
      "cell_type": "code",
      "source": [
        "tuner.search(x_train, y_train, epochs=5, validation_data=(x_val, y_val))\n",
        "best_model = tuner.get_best_models()[0]"
      ],
      "metadata": {
        "id": "pSS6v4d3IzfL"
      },
      "execution_count": null,
      "outputs": []
    },
    {
      "cell_type": "markdown",
      "metadata": {
        "id": "Sj49Og4YGULr"
      },
      "source": [
        "###  Examine o modelo\n",
        "\n",
        "Use o método `.summary` para exibir uma descrição simples do modelo."
      ]
    },
    {
      "cell_type": "markdown",
      "source": [],
      "metadata": {
        "id": "jpK7MHHLRMpf"
      }
    },
    {
      "cell_type": "markdown",
      "source": [],
      "metadata": {
        "id": "NO8TcB1GRPO9"
      }
    },
    {
      "cell_type": "code",
      "execution_count": null,
      "metadata": {
        "id": "ReAD0n6MsFK-"
      },
      "outputs": [],
      "source": [
        "#model.summary()\n",
        "\n",
        "tuner.results_summary()"
      ]
    },
    {
      "cell_type": "markdown",
      "metadata": {
        "id": "Vt6W50qGsJAL"
      },
      "source": [
        "Agora teste o modelo. Pegue um batch de 10 exemplos do conjunto de treinamento e chame `model.predict` nestes."
      ]
    },
    {
      "cell_type": "code",
      "execution_count": null,
      "metadata": {
        "id": "-d-gBaVtGTSC"
      },
      "outputs": [],
      "source": [
        "#example_batch = normed_train_data[:10]\n",
        "#example_result = model.predict(example_batch)\n",
        "#example_result"
      ]
    },
    {
      "cell_type": "markdown",
      "metadata": {
        "id": "QlM8KrSOsaYo"
      },
      "source": [
        "Parece que está funcionando e ele produz o resultado de forma e tipo esperados."
      ]
    },
    {
      "cell_type": "markdown",
      "metadata": {
        "id": "0-qWCsh6DlyH"
      },
      "source": [
        "### Treinando o modelo\n",
        "\n",
        "Treine o modelo com 1000 *epochs*,  e grave a acurácia do treinamento e da validação em um objeto `history`. "
      ]
    },
    {
      "cell_type": "code",
      "execution_count": null,
      "metadata": {
        "id": "sD7qHCmNIOY0"
      },
      "outputs": [],
      "source": [
        "# Mostra o progresso do treinamento imprimindo um único ponto para cada epoch completada\n",
        "class PrintDot(keras.callbacks.Callback):\n",
        "  def on_epoch_end(self, epoch, logs):\n",
        "    if epoch % 100 == 0: print('')\n",
        "    print('.', end='')\n",
        "\n",
        "EPOCHS = 1000\n",
        "\n",
        "history = model.fit(\n",
        "  normed_train_data, train_labels,\n",
        "  epochs=EPOCHS, validation_split = 0.2, verbose=0,\n",
        "  callbacks=[PrintDot()])"
      ]
    },
    {
      "cell_type": "markdown",
      "metadata": {
        "id": "tQm3pc0FYPQB"
      },
      "source": [
        "Visualize o progresso do modelo de treinamento usando o estados armazenados no objeto `history`"
      ]
    },
    {
      "cell_type": "code",
      "execution_count": null,
      "metadata": {
        "id": "4Xj91b-dymEy"
      },
      "outputs": [],
      "source": [
        "hist = pd.DataFrame(history.history)\n",
        "hist['epoch'] = history.epoch\n",
        "hist.tail()"
      ]
    },
    {
      "cell_type": "code",
      "execution_count": null,
      "metadata": {
        "id": "B6XriGbVPh2t"
      },
      "outputs": [],
      "source": [
        "def plot_history(history):\n",
        "  hist = pd.DataFrame(history.history)\n",
        "  hist['epoch'] = history.epoch\n",
        "\n",
        "  plt.figure()\n",
        "  plt.xlabel('Epoch')\n",
        "  plt.ylabel('Mean Abs Error [Expectativa de vida]')\n",
        "  plt.plot(hist['epoch'], hist['mae'],\n",
        "           label='Train Error')\n",
        "  plt.plot(hist['epoch'], hist['val_mae'],\n",
        "           label = 'Val Error')\n",
        "  plt.ylim([0,5])\n",
        "  plt.legend()\n",
        "\n",
        "  plt.figure()\n",
        "  plt.xlabel('Epoch')\n",
        "  plt.ylabel('Mean Square Error [$MPG^2$]')\n",
        "  plt.plot(hist['epoch'], hist['mse'],\n",
        "           label='Train Error')\n",
        "  plt.plot(hist['epoch'], hist['val_mse'],\n",
        "           label = 'Val Error')\n",
        "  plt.ylim([0,20])\n",
        "  plt.legend()\n",
        "  plt.show()\n",
        "\n",
        "\n",
        "plot_history(history)"
      ]
    },
    {
      "cell_type": "markdown",
      "metadata": {
        "id": "AqsuANc11FYv"
      },
      "source": [
        "Este grafo mostra as pequenas melhoras, ou mesmo a diminuição do `validation error` após 100 *epochs*. Vamos atualizar o `model.fit` para que pare automaticamente o treinamento quando o `validation score` não aumentar mais. Usaremos o `EarlyStopping callback` que testa a condição do treinamento a cada `epoch`.  Se um grupo de `epochs` decorre sem mostrar melhoras, o treinamento irá parar automaticamente.\n",
        "\n",
        "Você pode aprender mais sobre este callback [aqui](https://www.tensorflow.org/versions/master/api_docs/python/tf/keras/callbacks/EarlyStopping)."
      ]
    },
    {
      "cell_type": "code",
      "execution_count": null,
      "metadata": {
        "id": "fdMZuhUgzMZ4"
      },
      "outputs": [],
      "source": [
        "model = build_model()\n",
        "\n",
        "# O parâmetro patience é o quantidade de epochs para checar as melhoras\n",
        "early_stop = keras.callbacks.EarlyStopping(monitor='val_loss', patience=10)\n",
        "\n",
        "history = model.fit(normed_train_data, train_labels, epochs=EPOCHS,\n",
        "                    validation_split = 0.2, verbose=0, callbacks=[early_stop, PrintDot()])\n",
        "\n",
        "plot_history(history)"
      ]
    },
    {
      "cell_type": "markdown",
      "metadata": {
        "id": "3St8-DmrX8P4"
      },
      "source": [
        "O gráfico mostra que no conjunto de validação, a média de erro é próximo de +/- 2MPG. Isso é bom? Deixaremos essa decisão a você.\n",
        "\n",
        "Vamos ver quão bem o modelo generaliza usando o conjunto de **teste**, que não usamos para treinar o modelo. Isso diz quão bem podemos esperar que o modelo se saia quando usarmos na vida real."
      ]
    },
    {
      "cell_type": "code",
      "execution_count": null,
      "metadata": {
        "id": "jl_yNr5n1kms"
      },
      "outputs": [],
      "source": [
        "loss, mae, mse = model.evaluate(normed_test_data, test_labels, verbose=2)\n",
        "\n",
        "print(\"Testing set Mean Abs Error: {:5.2f} Expectativa de vida\".format(mae))"
      ]
    },
    {
      "cell_type": "markdown",
      "metadata": {
        "id": "ft603OzXuEZC"
      },
      "source": [
        "### Faça predições\n",
        "\n",
        "Finalmente, prevejam os valores MPG usando o conjunto de teste."
      ]
    },
    {
      "cell_type": "code",
      "execution_count": null,
      "metadata": {
        "id": "Xe7RXH3N3CWU"
      },
      "outputs": [],
      "source": [
        "test_predictions = model.predict(normed_test_data).flatten()\n",
        "\n",
        "plt.scatter(test_labels, test_predictions)\n",
        "plt.xlabel('True Values [Expectativa de vida]')\n",
        "plt.ylabel('Predictions [Expectativa de vida]')\n",
        "plt.axis('equal')\n",
        "plt.axis('square')\n",
        "plt.xlim([0,plt.xlim()[1]])\n",
        "plt.ylim([0,plt.ylim()[1]])\n",
        "_ = plt.plot([-100, 100], [-100, 100])\n"
      ]
    },
    {
      "cell_type": "markdown",
      "metadata": {
        "id": "19wyogbOSU5t"
      },
      "source": [
        "Parece que o nosso modelo prediz razoavelmente bem. Vamos dar uma olhada na distribuição dos erros."
      ]
    },
    {
      "cell_type": "code",
      "execution_count": null,
      "metadata": {
        "id": "f-OHX4DiXd8x"
      },
      "outputs": [],
      "source": [
        "error = test_predictions - test_labels\n",
        "plt.hist(error, bins = 25)\n",
        "plt.xlabel(\"Prediction Error [Expectativa de vida]\")\n",
        "_ = plt.ylabel(\"Count\")"
      ]
    },
    {
      "cell_type": "markdown",
      "metadata": {
        "id": "m0CB5tBjSU5w"
      },
      "source": [
        "Não é tão gaussiana, porém podemos esperar que por conta do número de exemplo é bem pequeno."
      ]
    },
    {
      "cell_type": "markdown",
      "metadata": {
        "id": "vgGQuV-yqYZH"
      },
      "source": [
        "## Conclusão\n",
        "\n",
        "Este notebook introduz algumas técnicas para trabalhar com problema de regressão.\n",
        "\n",
        "* Mean Squared Error(MSE), é uma função comum de *loss* usada para problemas de regressão (diferentes funções de *loss* são usadas para problemas de classificação).\n",
        "* Similarmente, as métricas de evolução usadas na regressão são diferentes da classificação. Uma métrica comum de regressão é  Mean Absolute Error (MAE).\n",
        "* Quando o dado de entrada de *features*  tem diferentes intervalos, cada *feature* deve ser escalada para o mesmo intervalo.\n",
        "* Se não possuir muitos dados de treinamento, uma técnica é preferir uma pequena rede com poucas camadas para evitar *overfitting*.\n",
        "* *Early stopping* é uma boa técnica para evitar *overfitting*."
      ]
    },
    {
      "cell_type": "markdown",
      "source": [],
      "metadata": {
        "id": "ufnjxfVC8ZSP"
      }
    },
    {
      "cell_type": "code",
      "source": [
        "import tensorflow as tf\n",
        "\n",
        "def get_model(n_x, n_h1, n_h2):\n",
        "    model = tf.keras.Sequential()\n",
        "    model.add(tf.keras.layers.Dense(n_h1, input_dim=n_x, activation='relu'))\n",
        "    model.add(tf.keras.layers.Dense(n_h2, activation='relu'))\n",
        "    model.add(tf.keras.layers.Dropout(0.5))\n",
        "    model.add(tf.keras.layers.Dense(4, activation='softmax'))\n",
        "    model.compile(loss='categorical_crossentropy', optimizer='adam', metrics=['accuracy'])\n",
        "    print(model.summary())\n",
        "\n",
        "    return model"
      ],
      "metadata": {
        "id": "_5FWnvMT8Zw6"
      },
      "execution_count": null,
      "outputs": []
    },
    {
      "cell_type": "markdown",
      "source": [],
      "metadata": {
        "id": "t3o2JuFFHCzG"
      }
    },
    {
      "cell_type": "markdown",
      "source": [],
      "metadata": {
        "id": "vAKxMpjzHDLe"
      }
    },
    {
      "cell_type": "code",
      "source": [],
      "metadata": {
        "id": "5mK3kRdFHD86"
      },
      "execution_count": null,
      "outputs": []
    },
    {
      "cell_type": "code",
      "source": [],
      "metadata": {
        "id": "pZw3KkTSHMIk"
      },
      "execution_count": null,
      "outputs": []
    },
    {
      "cell_type": "markdown",
      "source": [
        "# Main Objectives:  \n",
        "The scope of this project is to build several deep learning algorithms based on RNN\n",
        "techniques which can predict future values of an indicator using Time-Series Forecasting methods in order to achieve the highest possible accuracy. This can be broken down into the following milestones:  \n",
        "\n",
        "1. Data Exploration and evaluation of Stationarity.  \n",
        "2. Modeling and selection of best model.  \n",
        "3. Prediction of future values.  "
      ],
      "metadata": {
        "id": "o_3Ads-MwDh4"
      }
    },
    {
      "cell_type": "code",
      "source": [
        "import numpy as np\n",
        "import pandas as pd\n",
        "import matplotlib.pyplot as plt\n",
        "import math\n",
        "plt.style.use('fivethirtyeight')\n",
        "\n",
        "df=pd.read_csv('../input/time-series-forecasting-with-yahoo-stock-price/yahoo_stock.csv')"
      ],
      "metadata": {
        "execution": {
          "iopub.status.busy": "2021-11-06T19:41:29.610831Z",
          "iopub.execute_input": "2021-11-06T19:41:29.611246Z",
          "iopub.status.idle": "2021-11-06T19:41:29.766565Z",
          "shell.execute_reply.started": "2021-11-06T19:41:29.611153Z",
          "shell.execute_reply": "2021-11-06T19:41:29.76535Z"
        },
        "trusted": true,
        "id": "gVthlfm3wDh8"
      },
      "execution_count": null,
      "outputs": []
    },
    {
      "cell_type": "code",
      "source": [
        "from keras.optimizers import Adam\n",
        "import statistics"
      ],
      "metadata": {
        "execution": {
          "iopub.status.busy": "2021-11-06T19:41:29.768145Z",
          "iopub.execute_input": "2021-11-06T19:41:29.768454Z",
          "iopub.status.idle": "2021-11-06T19:41:35.791118Z",
          "shell.execute_reply.started": "2021-11-06T19:41:29.768425Z",
          "shell.execute_reply": "2021-11-06T19:41:35.789902Z"
        },
        "trusted": true,
        "id": "rf17cGfdwDh9"
      },
      "execution_count": null,
      "outputs": []
    },
    {
      "cell_type": "code",
      "source": [
        "df.head()"
      ],
      "metadata": {
        "execution": {
          "iopub.status.busy": "2021-11-06T19:41:35.793115Z",
          "iopub.execute_input": "2021-11-06T19:41:35.793439Z",
          "iopub.status.idle": "2021-11-06T19:41:35.825532Z",
          "shell.execute_reply.started": "2021-11-06T19:41:35.793408Z",
          "shell.execute_reply": "2021-11-06T19:41:35.824659Z"
        },
        "trusted": true,
        "id": "Jn7YVngTwDh9"
      },
      "execution_count": null,
      "outputs": []
    },
    {
      "cell_type": "code",
      "source": [
        "df.shape"
      ],
      "metadata": {
        "execution": {
          "iopub.status.busy": "2021-11-06T19:41:35.827031Z",
          "iopub.execute_input": "2021-11-06T19:41:35.827462Z",
          "iopub.status.idle": "2021-11-06T19:41:35.833228Z",
          "shell.execute_reply.started": "2021-11-06T19:41:35.827431Z",
          "shell.execute_reply": "2021-11-06T19:41:35.832474Z"
        },
        "trusted": true,
        "id": "meJB2ftwwDh-"
      },
      "execution_count": null,
      "outputs": []
    },
    {
      "cell_type": "markdown",
      "source": [
        "Our dataset contains 6 columns of indicators and date columns which will be then set as index. Now let's see if the dates are unique or if there are duplicate values."
      ],
      "metadata": {
        "id": "gdhKKQe8wDh-"
      }
    },
    {
      "cell_type": "code",
      "source": [
        "len(df['Date'].unique())"
      ],
      "metadata": {
        "execution": {
          "iopub.status.busy": "2021-11-06T19:41:35.834553Z",
          "iopub.execute_input": "2021-11-06T19:41:35.835091Z",
          "iopub.status.idle": "2021-11-06T19:41:35.850089Z",
          "shell.execute_reply.started": "2021-11-06T19:41:35.835056Z",
          "shell.execute_reply": "2021-11-06T19:41:35.849126Z"
        },
        "trusted": true,
        "id": "LDiqJLm7wDh-"
      },
      "execution_count": null,
      "outputs": []
    },
    {
      "cell_type": "markdown",
      "source": [
        "As there are 1825 unique dates means that each one corresponds to unique records in the table, therefore we don't have duplicated or inconsistent values."
      ],
      "metadata": {
        "id": "5wADYIcJwDh-"
      }
    },
    {
      "cell_type": "code",
      "source": [
        "df.info()"
      ],
      "metadata": {
        "execution": {
          "iopub.status.busy": "2021-11-06T19:41:35.851463Z",
          "iopub.execute_input": "2021-11-06T19:41:35.85185Z",
          "iopub.status.idle": "2021-11-06T19:41:35.876486Z",
          "shell.execute_reply.started": "2021-11-06T19:41:35.851818Z",
          "shell.execute_reply": "2021-11-06T19:41:35.875761Z"
        },
        "trusted": true,
        "id": "_amF-lC5wDh_"
      },
      "execution_count": null,
      "outputs": []
    },
    {
      "cell_type": "code",
      "source": [
        "df.dtypes"
      ],
      "metadata": {
        "execution": {
          "iopub.status.busy": "2021-11-06T19:41:35.877899Z",
          "iopub.execute_input": "2021-11-06T19:41:35.878332Z",
          "iopub.status.idle": "2021-11-06T19:41:35.88576Z",
          "shell.execute_reply.started": "2021-11-06T19:41:35.878296Z",
          "shell.execute_reply": "2021-11-06T19:41:35.884792Z"
        },
        "trusted": true,
        "id": "Gme-TrwCwDh_"
      },
      "execution_count": null,
      "outputs": []
    },
    {
      "cell_type": "code",
      "source": [
        "df.isnull().sum()"
      ],
      "metadata": {
        "execution": {
          "iopub.status.busy": "2021-11-06T19:41:35.88875Z",
          "iopub.execute_input": "2021-11-06T19:41:35.889084Z",
          "iopub.status.idle": "2021-11-06T19:41:35.90305Z",
          "shell.execute_reply.started": "2021-11-06T19:41:35.889053Z",
          "shell.execute_reply": "2021-11-06T19:41:35.902197Z"
        },
        "trusted": true,
        "id": "32OgFMlOwDh_"
      },
      "execution_count": null,
      "outputs": []
    },
    {
      "cell_type": "markdown",
      "source": [
        "As the date column is wrongly set as object type, let's change it to Datetime type:"
      ],
      "metadata": {
        "id": "jT3ck1BhwDiA"
      }
    },
    {
      "cell_type": "code",
      "source": [
        "df.Date=pd.to_datetime(df['Date'])"
      ],
      "metadata": {
        "execution": {
          "iopub.status.busy": "2021-11-06T19:41:35.904997Z",
          "iopub.execute_input": "2021-11-06T19:41:35.905296Z",
          "iopub.status.idle": "2021-11-06T19:41:35.917613Z",
          "shell.execute_reply.started": "2021-11-06T19:41:35.905266Z",
          "shell.execute_reply": "2021-11-06T19:41:35.916623Z"
        },
        "trusted": true,
        "id": "6Etg1jBKwDiA"
      },
      "execution_count": null,
      "outputs": []
    },
    {
      "cell_type": "code",
      "source": [
        "df.Date.min(),df.Date.max()"
      ],
      "metadata": {
        "execution": {
          "iopub.status.busy": "2021-11-06T19:41:35.919187Z",
          "iopub.execute_input": "2021-11-06T19:41:35.919505Z",
          "iopub.status.idle": "2021-11-06T19:41:35.934922Z",
          "shell.execute_reply.started": "2021-11-06T19:41:35.919474Z",
          "shell.execute_reply": "2021-11-06T19:41:35.934136Z"
        },
        "trusted": true,
        "id": "xYYGu5eowDiA"
      },
      "execution_count": null,
      "outputs": []
    },
    {
      "cell_type": "markdown",
      "source": [
        "Let's compute the amount of days between the limits in the table, i.e. 2020-11-20/2015-11-23, take into account that the result will give us the days-1:"
      ],
      "metadata": {
        "id": "vhXbMjPSwDiA"
      }
    },
    {
      "cell_type": "code",
      "source": [
        "df.Date.max()-df.Date.min()"
      ],
      "metadata": {
        "execution": {
          "iopub.status.busy": "2021-11-06T19:41:35.936183Z",
          "iopub.execute_input": "2021-11-06T19:41:35.936608Z",
          "iopub.status.idle": "2021-11-06T19:41:35.945974Z",
          "shell.execute_reply.started": "2021-11-06T19:41:35.936577Z",
          "shell.execute_reply": "2021-11-06T19:41:35.945082Z"
        },
        "trusted": true,
        "id": "xDxXgnCiwDiA"
      },
      "execution_count": null,
      "outputs": []
    },
    {
      "cell_type": "markdown",
      "source": [
        "Setting the date as index will make our time series plots much more understandable."
      ],
      "metadata": {
        "id": "gnKPY5WOwDiE"
      }
    },
    {
      "cell_type": "code",
      "source": [
        "df.set_index('Date',inplace=True)"
      ],
      "metadata": {
        "execution": {
          "iopub.status.busy": "2021-11-06T19:41:35.947084Z",
          "iopub.execute_input": "2021-11-06T19:41:35.947585Z",
          "iopub.status.idle": "2021-11-06T19:41:35.957261Z",
          "shell.execute_reply.started": "2021-11-06T19:41:35.947553Z",
          "shell.execute_reply": "2021-11-06T19:41:35.956451Z"
        },
        "trusted": true,
        "id": "D48kKrdxwDiE"
      },
      "execution_count": null,
      "outputs": []
    },
    {
      "cell_type": "code",
      "source": [
        "df.head()"
      ],
      "metadata": {
        "execution": {
          "iopub.status.busy": "2021-11-06T19:41:35.958406Z",
          "iopub.execute_input": "2021-11-06T19:41:35.95886Z",
          "iopub.status.idle": "2021-11-06T19:41:35.982507Z",
          "shell.execute_reply.started": "2021-11-06T19:41:35.958828Z",
          "shell.execute_reply": "2021-11-06T19:41:35.981669Z"
        },
        "trusted": true,
        "id": "YEY316h0wDiE"
      },
      "execution_count": null,
      "outputs": []
    },
    {
      "cell_type": "markdown",
      "source": [
        "Let's plot four of the indicators in the table and differentiate their corresponding curves by colours."
      ],
      "metadata": {
        "id": "YAuV6KywwDiE"
      }
    },
    {
      "cell_type": "code",
      "source": [
        "df[['High','Low','Open','Close']].plot(figsize = (15, 5), alpha = 0.5)"
      ],
      "metadata": {
        "execution": {
          "iopub.status.busy": "2021-11-06T19:41:35.983913Z",
          "iopub.execute_input": "2021-11-06T19:41:35.984206Z",
          "iopub.status.idle": "2021-11-06T19:41:36.456806Z",
          "shell.execute_reply.started": "2021-11-06T19:41:35.984178Z",
          "shell.execute_reply": "2021-11-06T19:41:36.455733Z"
        },
        "trusted": true,
        "id": "kv-nNjF6wDiE"
      },
      "execution_count": null,
      "outputs": []
    },
    {
      "cell_type": "markdown",
      "source": [
        "The four had almost same behaviour troughout time and based on this assumption in this project we will only focus on one of them 'High' in order to build a model which could predict future values and then as possible suggestions extrapolate such model to other indicators.  \n",
        "Firstly, we will demonstrate if the time-series problem corresponds to a Non-Stationary type, which characterizes for having:  \n",
        "- Non-constant variance.  \n",
        "- Non-constant mean.  \n",
        "- Seasonality.  \n",
        "- High autocorrelation. \n",
        "\n",
        "There are four well known ways to evaluate if the serie meets the criteria just mentioned, these corresponds to:  \n",
        "- Sequence visualization.\n",
        "- Histogram, Autocorrelation and Partial Aurocorrelation plots.\n",
        "- Statistical summary of chunks.\n",
        "- Adfuller test.\n",
        "\n"
      ],
      "metadata": {
        "id": "TaUwlX6UwDiF"
      }
    },
    {
      "cell_type": "markdown",
      "source": [
        "# Evaluating Stationarity:"
      ],
      "metadata": {
        "id": "6zlMNxLUwDiF"
      }
    },
    {
      "cell_type": "markdown",
      "source": [
        "The following histogram plot should have a uniform distribution meaning non-constant mean or 'trend':"
      ],
      "metadata": {
        "id": "5JCtRVDuwDiF"
      }
    },
    {
      "cell_type": "code",
      "source": [
        "df.High.hist(bins=50)"
      ],
      "metadata": {
        "execution": {
          "iopub.status.busy": "2021-11-06T19:41:36.458337Z",
          "iopub.execute_input": "2021-11-06T19:41:36.458931Z",
          "iopub.status.idle": "2021-11-06T19:41:36.71596Z",
          "shell.execute_reply.started": "2021-11-06T19:41:36.458886Z",
          "shell.execute_reply": "2021-11-06T19:41:36.715274Z"
        },
        "trusted": true,
        "id": "kJrGQUnhwDiF"
      },
      "execution_count": null,
      "outputs": []
    },
    {
      "cell_type": "markdown",
      "source": [
        "We can't assume a uniform nor normal distribution in the plot above, because of that the statistical summary can helps us more, for this we will split the data into 10 chunks and compute mean and variance of each one."
      ],
      "metadata": {
        "id": "eTaMJygXwDiF"
      }
    },
    {
      "cell_type": "code",
      "source": [
        "np.round(df.shape[0]/10,0)"
      ],
      "metadata": {
        "execution": {
          "iopub.status.busy": "2021-11-06T19:41:36.716934Z",
          "iopub.execute_input": "2021-11-06T19:41:36.717308Z",
          "iopub.status.idle": "2021-11-06T19:41:36.723211Z",
          "shell.execute_reply.started": "2021-11-06T19:41:36.717279Z",
          "shell.execute_reply": "2021-11-06T19:41:36.722268Z"
        },
        "trusted": true,
        "id": "_laPo6QMwDiF"
      },
      "execution_count": null,
      "outputs": []
    },
    {
      "cell_type": "code",
      "source": [
        "from statistics import stdev\n",
        "mean=[]\n",
        "std=[]\n",
        "    \n",
        "for i in range(0,10):\n",
        "    mean.append(df['High'].iloc[(i*182):(i*182)+182].mean())\n",
        "    std.append(stdev(df['High'].iloc[(i*182):(i*182)+182]))"
      ],
      "metadata": {
        "execution": {
          "iopub.status.busy": "2021-11-06T19:41:36.724379Z",
          "iopub.execute_input": "2021-11-06T19:41:36.724664Z",
          "iopub.status.idle": "2021-11-06T19:41:36.74802Z",
          "shell.execute_reply.started": "2021-11-06T19:41:36.724639Z",
          "shell.execute_reply": "2021-11-06T19:41:36.747289Z"
        },
        "trusted": true,
        "id": "gRKHBdYnwDiF"
      },
      "execution_count": null,
      "outputs": []
    },
    {
      "cell_type": "code",
      "source": [
        "pd.concat([pd.DataFrame(mean,columns=['mean']),pd.DataFrame(std,columns=['std'])], axis=1)"
      ],
      "metadata": {
        "execution": {
          "iopub.status.busy": "2021-11-06T19:41:36.749094Z",
          "iopub.execute_input": "2021-11-06T19:41:36.74952Z",
          "iopub.status.idle": "2021-11-06T19:41:36.762669Z",
          "shell.execute_reply.started": "2021-11-06T19:41:36.749489Z",
          "shell.execute_reply": "2021-11-06T19:41:36.761911Z"
        },
        "trusted": true,
        "id": "gD5RPMsMwDiG"
      },
      "execution_count": null,
      "outputs": []
    },
    {
      "cell_type": "markdown",
      "source": [
        "Above we see how both measures are clearly different in each chunk. However looking at the plot we could assume a constant variance as the ripple in the curve, but without a doubt trend is the most outstanding feature. Until now can assume it's a non-stationary serie, but to know more about it we will evaluate two other methods.  \n",
        "Seasonal decomposition is a function from statsmodels library which allows us to decompose the serie into trend, seasonal and residual, either additive or multiplicative:"
      ],
      "metadata": {
        "id": "oQDw9YQSwDiG"
      }
    },
    {
      "cell_type": "code",
      "source": [
        "from statsmodels.tsa.seasonal import seasonal_decompose"
      ],
      "metadata": {
        "execution": {
          "iopub.status.busy": "2021-11-06T19:41:36.763792Z",
          "iopub.execute_input": "2021-11-06T19:41:36.764182Z",
          "iopub.status.idle": "2021-11-06T19:41:37.582133Z",
          "shell.execute_reply.started": "2021-11-06T19:41:36.764154Z",
          "shell.execute_reply": "2021-11-06T19:41:37.581203Z"
        },
        "trusted": true,
        "id": "o1f0nYL-wDiG"
      },
      "execution_count": null,
      "outputs": []
    },
    {
      "cell_type": "code",
      "source": [
        "decompose_add=seasonal_decompose(df['High'], model='additive', period=12)\n",
        "plt.figure(figsize=(15,15))\n",
        "plt.subplot(411)\n",
        "plt.plot(df['High'], label='Original TS')\n",
        "plt.legend(loc='best')\n",
        "plt.subplot(412)\n",
        "plt.plot(decompose_add.trend, label='Trend')\n",
        "plt.legend(loc='best')\n",
        "plt.subplot(413)\n",
        "plt.plot(decompose_add.seasonal,label='Seasonality')\n",
        "plt.legend(loc='best')\n",
        "plt.subplot(414)\n",
        "plt.plot(decompose_add.resid, label='Residual')\n",
        "plt.legend(loc='best')"
      ],
      "metadata": {
        "execution": {
          "iopub.status.busy": "2021-11-06T19:41:37.583433Z",
          "iopub.execute_input": "2021-11-06T19:41:37.583736Z",
          "iopub.status.idle": "2021-11-06T19:41:38.346578Z",
          "shell.execute_reply.started": "2021-11-06T19:41:37.583693Z",
          "shell.execute_reply": "2021-11-06T19:41:38.345558Z"
        },
        "trusted": true,
        "id": "Ut5uiKhXwDiG"
      },
      "execution_count": null,
      "outputs": []
    },
    {
      "cell_type": "code",
      "source": [
        "decompose_mul=seasonal_decompose(df['High'], model='multiplicative', period=12)\n",
        "plt.figure(figsize=(15,15))\n",
        "plt.subplot(411)\n",
        "plt.plot(df['High'], label='Original TS')\n",
        "plt.legend(loc='best')\n",
        "plt.subplot(412)\n",
        "plt.plot(decompose_mul.trend, label='Trend')\n",
        "plt.legend(loc='best')\n",
        "plt.subplot(413)\n",
        "plt.plot(decompose_mul.seasonal,label='Seasonality')\n",
        "plt.legend(loc='best')\n",
        "plt.subplot(414)\n",
        "plt.plot(decompose_mul.resid, label='Residual')\n",
        "plt.legend(loc='best')"
      ],
      "metadata": {
        "execution": {
          "iopub.status.busy": "2021-11-06T19:41:38.348036Z",
          "iopub.execute_input": "2021-11-06T19:41:38.348326Z",
          "iopub.status.idle": "2021-11-06T19:41:39.127494Z",
          "shell.execute_reply.started": "2021-11-06T19:41:38.348295Z",
          "shell.execute_reply": "2021-11-06T19:41:39.126561Z"
        },
        "trusted": true,
        "id": "nMYsY1hSwDiG"
      },
      "execution_count": null,
      "outputs": []
    },
    {
      "cell_type": "markdown",
      "source": [
        "Looking carefully to the original curve we can say the additive decomposition makes more sense as the trend does not seem to be changing by the multiplication with seasonal component, rather every component seems to being added up to create the original curve. Independent of this there is a trend and seasonal component.  \n",
        "Below we can see the ACF and PACF plots:"
      ],
      "metadata": {
        "id": "MY7lpx2swDiG"
      }
    },
    {
      "cell_type": "code",
      "source": [
        "from statsmodels.graphics.tsaplots import plot_acf\n",
        "from statsmodels.graphics.tsaplots import plot_pacf"
      ],
      "metadata": {
        "execution": {
          "iopub.status.busy": "2021-11-06T19:41:39.128777Z",
          "iopub.execute_input": "2021-11-06T19:41:39.129071Z",
          "iopub.status.idle": "2021-11-06T19:41:39.272143Z",
          "shell.execute_reply.started": "2021-11-06T19:41:39.129041Z",
          "shell.execute_reply": "2021-11-06T19:41:39.271192Z"
        },
        "trusted": true,
        "id": "T8xNOIdxwDiG"
      },
      "execution_count": null,
      "outputs": []
    },
    {
      "cell_type": "code",
      "source": [
        "plt.rc(\"figure\", figsize=(10,5))\n",
        "plot_acf(df['High'])\n",
        "print()"
      ],
      "metadata": {
        "execution": {
          "iopub.status.busy": "2021-11-06T19:41:39.276649Z",
          "iopub.execute_input": "2021-11-06T19:41:39.276996Z",
          "iopub.status.idle": "2021-11-06T19:41:39.488499Z",
          "shell.execute_reply.started": "2021-11-06T19:41:39.276965Z",
          "shell.execute_reply": "2021-11-06T19:41:39.487676Z"
        },
        "trusted": true,
        "id": "llOfAMwLwDiG"
      },
      "execution_count": null,
      "outputs": []
    },
    {
      "cell_type": "code",
      "source": [
        "plt.rc(\"figure\", figsize=(10,5))\n",
        "plot_pacf(df['High'])\n",
        "print()"
      ],
      "metadata": {
        "execution": {
          "iopub.status.busy": "2021-11-06T19:41:39.491286Z",
          "iopub.execute_input": "2021-11-06T19:41:39.49192Z",
          "iopub.status.idle": "2021-11-06T19:41:39.752117Z",
          "shell.execute_reply.started": "2021-11-06T19:41:39.491874Z",
          "shell.execute_reply": "2021-11-06T19:41:39.751363Z"
        },
        "trusted": true,
        "id": "mZyeNbGmwDiH"
      },
      "execution_count": null,
      "outputs": []
    },
    {
      "cell_type": "markdown",
      "source": [
        "Finally, we will make the Augmented Dickey-Fuller test, using 5% as significance level and declaring the following hypothesis:\n",
        "- H0= Serie corresponds to non-stationary type.\n",
        "- H1= Serie corresponds to stationary type."
      ],
      "metadata": {
        "id": "UcwvRLlawDiH"
      }
    },
    {
      "cell_type": "code",
      "source": [
        "from statsmodels.tsa.stattools import adfuller"
      ],
      "metadata": {
        "execution": {
          "iopub.status.busy": "2021-11-06T19:41:39.753296Z",
          "iopub.execute_input": "2021-11-06T19:41:39.753857Z",
          "iopub.status.idle": "2021-11-06T19:41:39.757448Z",
          "shell.execute_reply.started": "2021-11-06T19:41:39.753823Z",
          "shell.execute_reply": "2021-11-06T19:41:39.756818Z"
        },
        "trusted": true,
        "id": "R4h2OAqwwDiH"
      },
      "execution_count": null,
      "outputs": []
    },
    {
      "cell_type": "code",
      "source": [
        "result = adfuller(df['High'])\n",
        "print('ADF Statistic: %f' % result[0])\n",
        "print('p-value: %f' % result[1])\n",
        "print('Critical Values:')\n",
        "for key, value in result[4].items():\n",
        "    print('\\t%s: %.3f' % (key, value))"
      ],
      "metadata": {
        "execution": {
          "iopub.status.busy": "2021-11-06T19:41:39.758667Z",
          "iopub.execute_input": "2021-11-06T19:41:39.759246Z",
          "iopub.status.idle": "2021-11-06T19:41:39.872338Z",
          "shell.execute_reply.started": "2021-11-06T19:41:39.759203Z",
          "shell.execute_reply": "2021-11-06T19:41:39.871055Z"
        },
        "trusted": true,
        "id": "DrSyPt6twDiM"
      },
      "execution_count": null,
      "outputs": []
    },
    {
      "cell_type": "markdown",
      "source": [
        "As p-value is greater than 0.05 we fail to reject the null hypothesis, therefore there is not enough evidence to reject that we are working with a non-stationary series. Let's apply the log transformation to the serie and test again."
      ],
      "metadata": {
        "id": "UEvM0FdywDiM"
      }
    },
    {
      "cell_type": "code",
      "source": [
        "from numpy import log\n",
        "\n",
        "result = adfuller(log(df['High']))\n",
        "print('ADF Statistic: %f' % result[0])\n",
        "print('p-value: %f' % result[1])\n",
        "print('Critical Values:')\n",
        "for key, value in result[4].items():\n",
        "    print('\\t%s: %.3f' % (key, value))"
      ],
      "metadata": {
        "execution": {
          "iopub.status.busy": "2021-11-06T19:41:39.878603Z",
          "iopub.execute_input": "2021-11-06T19:41:39.879151Z",
          "iopub.status.idle": "2021-11-06T19:41:39.972442Z",
          "shell.execute_reply.started": "2021-11-06T19:41:39.879104Z",
          "shell.execute_reply": "2021-11-06T19:41:39.971304Z"
        },
        "trusted": true,
        "id": "c5c0GgccwDiM"
      },
      "execution_count": null,
      "outputs": []
    },
    {
      "cell_type": "markdown",
      "source": [
        "Based on every method applied we can endorse the serie clearly corresponds to a non-stationary type, which means that we have to convert this to stationary by using filters and complex transformations. However, deep learning approaches can lead us to build models which takes into account all of these characteristics and predict future values modestly, but as disadvantage it would take significantly more time to train such models. "
      ],
      "metadata": {
        "id": "GWuaAzaxwDiM"
      }
    },
    {
      "cell_type": "markdown",
      "source": [
        "# Modeling:  \n",
        "In order to choose the best model 4 changes in hyperparameters and architecture will be applied and then evaluate each one by computing their corresponding error metrics. The purpose of this method is to find the appropriate characteristics of the model by looking at the effect of regularization, window length, number of epochs and type of cell. Each step will be denominated ‘comparison’ and are detailed as follows:  \n",
        "\n",
        "● 1st comparison, model with 7 different window length.  \n",
        "● 2nd comparison, model with more layers, neurons and epochs.  \n",
        "● 3rd comparison, model with regularization.  \n",
        "● 4th comparison, model using SimpleRNN vs LSTM.  \n",
        "\n",
        "Firstly, we will define a new dataset equal to the existing one, but omitting the last four records, later we will use the model to predict such values."
      ],
      "metadata": {
        "id": "-BtANtqjwDiM"
      }
    },
    {
      "cell_type": "code",
      "source": [
        "new_df=df['High'].iloc[:-4]"
      ],
      "metadata": {
        "execution": {
          "iopub.status.busy": "2021-11-06T19:41:39.977856Z",
          "iopub.execute_input": "2021-11-06T19:41:39.98064Z",
          "iopub.status.idle": "2021-11-06T19:41:39.98872Z",
          "shell.execute_reply.started": "2021-11-06T19:41:39.980579Z",
          "shell.execute_reply": "2021-11-06T19:41:39.987315Z"
        },
        "trusted": true,
        "id": "HBTd-R-HwDiM"
      },
      "execution_count": null,
      "outputs": []
    },
    {
      "cell_type": "markdown",
      "source": [
        "We define the length of the training set as 80% of the total records (specifically the first 80% of data, i.e.: from record 0 to record 1456):"
      ],
      "metadata": {
        "id": "lYw2W6t5wDiN"
      }
    },
    {
      "cell_type": "code",
      "source": [
        "train_len = math.ceil(len(new_df)*0.8)\n",
        "train_len"
      ],
      "metadata": {
        "execution": {
          "iopub.status.busy": "2021-11-06T19:41:39.994102Z",
          "iopub.execute_input": "2021-11-06T19:41:39.997098Z",
          "iopub.status.idle": "2021-11-06T19:41:40.009788Z",
          "shell.execute_reply.started": "2021-11-06T19:41:39.997028Z",
          "shell.execute_reply": "2021-11-06T19:41:40.008667Z"
        },
        "trusted": true,
        "id": "9KfV1DI1wDiN"
      },
      "execution_count": null,
      "outputs": []
    },
    {
      "cell_type": "markdown",
      "source": [
        "Let's use 10 as a random window to be used in the model to build:"
      ],
      "metadata": {
        "id": "HQaCazvHwDiN"
      }
    },
    {
      "cell_type": "code",
      "source": [
        "window=10"
      ],
      "metadata": {
        "execution": {
          "iopub.status.busy": "2021-11-06T19:41:40.015645Z",
          "iopub.execute_input": "2021-11-06T19:41:40.018416Z",
          "iopub.status.idle": "2021-11-06T19:41:40.025412Z",
          "shell.execute_reply.started": "2021-11-06T19:41:40.018358Z",
          "shell.execute_reply": "2021-11-06T19:41:40.024353Z"
        },
        "trusted": true,
        "id": "i6-iOFbvwDiN"
      },
      "execution_count": null,
      "outputs": []
    },
    {
      "cell_type": "markdown",
      "source": [
        "The following lines create the training sets, as we now the first row takes the first 10 time steps and then the second row takes time steps shifted in one and so on and so forth:"
      ],
      "metadata": {
        "id": "F-ylcOlcwDiN"
      }
    },
    {
      "cell_type": "code",
      "source": [
        "train_data = new_df[0:train_len]\n",
        "\n",
        "X_train=[]\n",
        "Y_train=[]\n",
        "\n",
        "for i in range(window, len(train_data)):\n",
        "    X_train.append(train_data[i-window:i])\n",
        "    Y_train.append(train_data[i])"
      ],
      "metadata": {
        "execution": {
          "iopub.status.busy": "2021-11-06T19:41:40.030598Z",
          "iopub.execute_input": "2021-11-06T19:41:40.032415Z",
          "iopub.status.idle": "2021-11-06T19:41:40.19811Z",
          "shell.execute_reply.started": "2021-11-06T19:41:40.032358Z",
          "shell.execute_reply": "2021-11-06T19:41:40.197114Z"
        },
        "trusted": true,
        "id": "Ggc9EAOxwDiN"
      },
      "execution_count": null,
      "outputs": []
    },
    {
      "cell_type": "code",
      "source": [
        "X_train, Y_train= np.array(X_train), np.array(Y_train)"
      ],
      "metadata": {
        "execution": {
          "iopub.status.busy": "2021-11-06T19:41:40.1996Z",
          "iopub.execute_input": "2021-11-06T19:41:40.200026Z",
          "iopub.status.idle": "2021-11-06T19:41:40.266737Z",
          "shell.execute_reply.started": "2021-11-06T19:41:40.199985Z",
          "shell.execute_reply": "2021-11-06T19:41:40.265827Z"
        },
        "trusted": true,
        "id": "QHkpJKt5wDiN"
      },
      "execution_count": null,
      "outputs": []
    },
    {
      "cell_type": "markdown",
      "source": [
        "Reshaping the training set to (number of records-window, number of time steps, 1):"
      ],
      "metadata": {
        "id": "0DFa5ScDwDiN"
      }
    },
    {
      "cell_type": "code",
      "source": [
        "X_train = np.reshape(X_train, (X_train.shape[0], X_train.shape[1], 1))\n",
        "X_train.shape"
      ],
      "metadata": {
        "execution": {
          "iopub.status.busy": "2021-11-06T19:41:40.268093Z",
          "iopub.execute_input": "2021-11-06T19:41:40.268381Z",
          "iopub.status.idle": "2021-11-06T19:41:40.274117Z",
          "shell.execute_reply.started": "2021-11-06T19:41:40.268352Z",
          "shell.execute_reply": "2021-11-06T19:41:40.273344Z"
        },
        "trusted": true,
        "id": "5pJLytDVwDiO"
      },
      "execution_count": null,
      "outputs": []
    },
    {
      "cell_type": "code",
      "source": [
        "X_train"
      ],
      "metadata": {
        "execution": {
          "iopub.status.busy": "2021-11-06T19:41:40.275443Z",
          "iopub.execute_input": "2021-11-06T19:41:40.275786Z",
          "iopub.status.idle": "2021-11-06T19:41:40.289447Z",
          "shell.execute_reply.started": "2021-11-06T19:41:40.275755Z",
          "shell.execute_reply": "2021-11-06T19:41:40.288293Z"
        },
        "trusted": true,
        "id": "dHo_cj-awDiO"
      },
      "execution_count": null,
      "outputs": []
    },
    {
      "cell_type": "markdown",
      "source": [
        "The following is the first model to be used, this is relatively simple with one LSTM layer with relu activation function and one hidden fully connected layer, the optimizer used is Adam, number of epochs=10, batch_size=10 and loss function=Mean squared error:"
      ],
      "metadata": {
        "id": "BLpg7qVZwDiO"
      }
    },
    {
      "cell_type": "code",
      "source": [
        "from keras.models import Sequential\n",
        "from keras.layers import Dense, LSTM, Dropout"
      ],
      "metadata": {
        "execution": {
          "iopub.status.busy": "2021-11-06T19:41:40.290834Z",
          "iopub.execute_input": "2021-11-06T19:41:40.291165Z",
          "iopub.status.idle": "2021-11-06T19:41:40.299072Z",
          "shell.execute_reply.started": "2021-11-06T19:41:40.291122Z",
          "shell.execute_reply": "2021-11-06T19:41:40.298176Z"
        },
        "trusted": true,
        "id": "XZD21GkEwDiO"
      },
      "execution_count": null,
      "outputs": []
    },
    {
      "cell_type": "code",
      "source": [
        "model=Sequential()\n",
        "model.add(LSTM(50, activation='relu', input_shape=(X_train.shape[1],1)))\n",
        "model.add(Dense(25))\n",
        "model.add(Dense(1))\n",
        "model.compile(loss='mean_squared_error', optimizer='adam')\n",
        "model.summary()\n",
        "model.fit(X_train, Y_train, epochs=10, batch_size=10, verbose=0)"
      ],
      "metadata": {
        "execution": {
          "iopub.status.busy": "2021-11-06T19:41:40.300148Z",
          "iopub.execute_input": "2021-11-06T19:41:40.30049Z",
          "iopub.status.idle": "2021-11-06T19:41:48.484085Z",
          "shell.execute_reply.started": "2021-11-06T19:41:40.300461Z",
          "shell.execute_reply": "2021-11-06T19:41:48.483156Z"
        },
        "trusted": true,
        "id": "UeUy3QxSwDiO"
      },
      "execution_count": null,
      "outputs": []
    },
    {
      "cell_type": "markdown",
      "source": [
        "Creating the validation set using same logic as training:"
      ],
      "metadata": {
        "id": "UOi4Arm-wDiO"
      }
    },
    {
      "cell_type": "code",
      "source": [
        "test_data = new_df[train_len-window:]\n",
        "\n",
        "X_val=[]\n",
        "Y_val=[] \n",
        "\n",
        "for i in range(window, len(test_data)):\n",
        "    X_val.append(test_data[i-window:i])\n",
        "    Y_val.append(test_data[i])"
      ],
      "metadata": {
        "execution": {
          "iopub.status.busy": "2021-11-06T19:41:48.487445Z",
          "iopub.execute_input": "2021-11-06T19:41:48.487772Z",
          "iopub.status.idle": "2021-11-06T19:41:48.532296Z",
          "shell.execute_reply.started": "2021-11-06T19:41:48.487735Z",
          "shell.execute_reply": "2021-11-06T19:41:48.53112Z"
        },
        "trusted": true,
        "id": "GDOFLM68wDiO"
      },
      "execution_count": null,
      "outputs": []
    },
    {
      "cell_type": "code",
      "source": [
        "X_val, Y_val = np.array(X_val), np.array(Y_val)\n",
        "X_val = np.reshape(X_val, (X_val.shape[0], X_val.shape[1],1))"
      ],
      "metadata": {
        "execution": {
          "iopub.status.busy": "2021-11-06T19:41:48.533609Z",
          "iopub.execute_input": "2021-11-06T19:41:48.533966Z",
          "iopub.status.idle": "2021-11-06T19:41:48.559196Z",
          "shell.execute_reply.started": "2021-11-06T19:41:48.53393Z",
          "shell.execute_reply": "2021-11-06T19:41:48.558263Z"
        },
        "trusted": true,
        "id": "DyCv6F5vwDiO"
      },
      "execution_count": null,
      "outputs": []
    },
    {
      "cell_type": "code",
      "source": [
        "X_val.shape, Y_val.shape"
      ],
      "metadata": {
        "execution": {
          "iopub.status.busy": "2021-11-06T19:41:48.560446Z",
          "iopub.execute_input": "2021-11-06T19:41:48.560779Z",
          "iopub.status.idle": "2021-11-06T19:41:48.567132Z",
          "shell.execute_reply.started": "2021-11-06T19:41:48.560748Z",
          "shell.execute_reply": "2021-11-06T19:41:48.566009Z"
        },
        "trusted": true,
        "id": "r4SksdcWwDiO"
      },
      "execution_count": null,
      "outputs": []
    },
    {
      "cell_type": "markdown",
      "source": [
        "Now that our validation set has the correct shape we can use it in the model to predict the next value."
      ],
      "metadata": {
        "id": "eqeVFrDTwDiP"
      }
    },
    {
      "cell_type": "code",
      "source": [
        "prediction = model.predict(X_val)"
      ],
      "metadata": {
        "execution": {
          "iopub.status.busy": "2021-11-06T19:41:48.56878Z",
          "iopub.execute_input": "2021-11-06T19:41:48.569192Z",
          "iopub.status.idle": "2021-11-06T19:41:48.815512Z",
          "shell.execute_reply.started": "2021-11-06T19:41:48.569141Z",
          "shell.execute_reply": "2021-11-06T19:41:48.814459Z"
        },
        "trusted": true,
        "id": "Rxg6HpgqwDiP"
      },
      "execution_count": null,
      "outputs": []
    },
    {
      "cell_type": "code",
      "source": [
        "len(prediction), len(Y_val)"
      ],
      "metadata": {
        "execution": {
          "iopub.status.busy": "2021-11-06T19:41:48.816968Z",
          "iopub.execute_input": "2021-11-06T19:41:48.817284Z",
          "iopub.status.idle": "2021-11-06T19:41:48.823956Z",
          "shell.execute_reply.started": "2021-11-06T19:41:48.817256Z",
          "shell.execute_reply": "2021-11-06T19:41:48.822964Z"
        },
        "trusted": true,
        "id": "ORPb5B8lwDiP"
      },
      "execution_count": null,
      "outputs": []
    },
    {
      "cell_type": "markdown",
      "source": [
        "As our prediction and actual values have the same shape we can use these sets to compute the error metrics, in this case we will use RMSE."
      ],
      "metadata": {
        "id": "-WqRwfjvwDiP"
      }
    },
    {
      "cell_type": "code",
      "source": [
        "from sklearn.metrics import mean_squared_error\n",
        "\n",
        "lstm_train_pred = model.predict(X_train)\n",
        "lstm_valid_pred = model.predict(X_val)\n",
        "print('Train rmse:', np.sqrt(mean_squared_error(Y_train, lstm_train_pred)))\n",
        "print('Validation rmse:', np.sqrt(mean_squared_error(Y_val, lstm_valid_pred)))"
      ],
      "metadata": {
        "execution": {
          "iopub.status.busy": "2021-11-06T19:41:48.825439Z",
          "iopub.execute_input": "2021-11-06T19:41:48.826031Z",
          "iopub.status.idle": "2021-11-06T19:41:49.403291Z",
          "shell.execute_reply.started": "2021-11-06T19:41:48.825978Z",
          "shell.execute_reply": "2021-11-06T19:41:49.402458Z"
        },
        "trusted": true,
        "id": "Zqfta7oJwDiP"
      },
      "execution_count": null,
      "outputs": []
    },
    {
      "cell_type": "markdown",
      "source": [
        "Both errors are high, if we specifically see the validation one we could say it's too much and we aim to improve this as we build a robust model in the next steps.  \n",
        "Below is a table which merged the actual and predicted values, therefore we can see for each record how differ these two and have an idea of how sidetracked we currently are."
      ],
      "metadata": {
        "id": "PWiDl_rkwDiP"
      }
    },
    {
      "cell_type": "code",
      "source": [
        "valid = pd.DataFrame(new_df[train_len:])\n",
        "valid['Predictions']=lstm_valid_pred\n",
        "valid"
      ],
      "metadata": {
        "execution": {
          "iopub.status.busy": "2021-11-06T19:41:49.40463Z",
          "iopub.execute_input": "2021-11-06T19:41:49.405232Z",
          "iopub.status.idle": "2021-11-06T19:41:49.427845Z",
          "shell.execute_reply.started": "2021-11-06T19:41:49.405189Z",
          "shell.execute_reply": "2021-11-06T19:41:49.42677Z"
        },
        "trusted": true,
        "id": "fw3Tq7EdwDiP"
      },
      "execution_count": null,
      "outputs": []
    },
    {
      "cell_type": "markdown",
      "source": [
        "Below we can see a simple plot showing both curves, in which clearly there is a difference and a sort of shift to the right or delay in the prediction curve."
      ],
      "metadata": {
        "id": "L3ny91BCwDiP"
      }
    },
    {
      "cell_type": "code",
      "source": [
        "plt.plot(valid[['High','Predictions']])\n",
        "plt.legend(['Validation','Predictions'])\n",
        "plt.show()"
      ],
      "metadata": {
        "execution": {
          "iopub.status.busy": "2021-11-06T19:41:49.4292Z",
          "iopub.execute_input": "2021-11-06T19:41:49.429492Z",
          "iopub.status.idle": "2021-11-06T19:41:49.654305Z",
          "shell.execute_reply.started": "2021-11-06T19:41:49.429463Z",
          "shell.execute_reply": "2021-11-06T19:41:49.652925Z"
        },
        "trusted": true,
        "id": "fW9JG3w_wDiP"
      },
      "execution_count": null,
      "outputs": []
    },
    {
      "cell_type": "markdown",
      "source": [
        "Finally, the plot showing training, validation and prediction curves:"
      ],
      "metadata": {
        "id": "KpEQKrevwDiP"
      }
    },
    {
      "cell_type": "code",
      "source": [
        "train = new_df[:train_len]\n",
        "valid = pd.DataFrame(new_df[train_len:])\n",
        "valid['Predictions']=lstm_valid_pred\n",
        "\n",
        "plt.figure(figsize=(16,8))\n",
        "plt.title('Model LSTM')\n",
        "plt.xlabel('Date')\n",
        "plt.ylabel('Close Price USD')\n",
        "plt.plot(train)\n",
        "plt.plot(valid[['High','Predictions']])\n",
        "plt.legend(['Train','Val','Predictions'])\n",
        "plt.show()"
      ],
      "metadata": {
        "execution": {
          "iopub.status.busy": "2021-11-06T19:41:49.655889Z",
          "iopub.execute_input": "2021-11-06T19:41:49.656282Z",
          "iopub.status.idle": "2021-11-06T19:41:49.902894Z",
          "shell.execute_reply.started": "2021-11-06T19:41:49.656248Z",
          "shell.execute_reply": "2021-11-06T19:41:49.901835Z"
        },
        "trusted": true,
        "id": "6YHDtZC9wDiQ"
      },
      "execution_count": null,
      "outputs": []
    },
    {
      "cell_type": "markdown",
      "source": [
        "## 1st comparison:  \n",
        "In order to tackle down this 'shift' and thus reduce the error we have to find the suit window number, for this we will compute the RMSE for the following number of windows: 5,8,10,15,20,30,40. Then compare results and find the lowest.  "
      ],
      "metadata": {
        "id": "BQRQns4SwDiQ"
      }
    },
    {
      "cell_type": "code",
      "source": [
        "train_error=[]\n",
        "val_error=[]\n",
        "\n",
        "window_number=[5,8,10,15,20,30,40]\n",
        "for i in window_number:\n",
        "    #_____________________________________________________________________\n",
        "    train_data = new_df[0:train_len]\n",
        "\n",
        "    X_train=[]\n",
        "    Y_train=[]\n",
        "\n",
        "    for i in range(window, len(train_data)):\n",
        "        X_train.append(train_data[i-window:i])\n",
        "        Y_train.append(train_data[i])\n",
        "\n",
        "    X_train, Y_train= np.array(X_train), np.array(Y_train)\n",
        "    X_train = np.reshape(X_train, (X_train.shape[0], X_train.shape[1], 1))\n",
        "    #______________________________________________________________________\n",
        "    test_data = new_df[train_len-window:]\n",
        "\n",
        "    X_val=[]\n",
        "    Y_val=[] \n",
        "\n",
        "    for i in range(window, len(test_data)):\n",
        "        X_val.append(test_data[i-window:i])\n",
        "        Y_val.append(test_data[i])\n",
        "\n",
        "    X_val, Y_val = np.array(X_val), np.array(Y_val)\n",
        "    X_val = np.reshape(X_val, (X_val.shape[0], X_val.shape[1],1))\n",
        "    #______________________________________________________________________\n",
        "    model=Sequential()\n",
        "    model.add(LSTM(50, activation='relu', input_shape=(X_train.shape[1],1)))\n",
        "    model.add(Dense(25))\n",
        "    model.add(Dense(1))\n",
        "    model.compile(loss='mean_squared_error', optimizer='adam')\n",
        "    model.fit(X_train, Y_train, epochs=10, batch_size=10, verbose=0)\n",
        "    #______________________________________________________________________\n",
        "    lstm_train_pred = model.predict(X_train)\n",
        "    lstm_valid_pred = model.predict(X_val)\n",
        "    train_error.append(np.sqrt(mean_squared_error(Y_train, lstm_train_pred)))\n",
        "    val_error.append(np.sqrt(mean_squared_error(Y_val, lstm_valid_pred)))"
      ],
      "metadata": {
        "execution": {
          "iopub.status.busy": "2021-11-06T19:41:49.904236Z",
          "iopub.execute_input": "2021-11-06T19:41:49.904536Z",
          "iopub.status.idle": "2021-11-06T19:42:50.208989Z",
          "shell.execute_reply.started": "2021-11-06T19:41:49.904508Z",
          "shell.execute_reply": "2021-11-06T19:42:50.207931Z"
        },
        "trusted": true,
        "id": "-Itj3kEAwDiQ"
      },
      "execution_count": null,
      "outputs": []
    },
    {
      "cell_type": "code",
      "source": [
        "train_error"
      ],
      "metadata": {
        "execution": {
          "iopub.status.busy": "2021-11-06T19:42:50.210238Z",
          "iopub.execute_input": "2021-11-06T19:42:50.210532Z",
          "iopub.status.idle": "2021-11-06T19:42:50.217468Z",
          "shell.execute_reply.started": "2021-11-06T19:42:50.210504Z",
          "shell.execute_reply": "2021-11-06T19:42:50.216409Z"
        },
        "trusted": true,
        "id": "e0voS0HCwDiQ"
      },
      "execution_count": null,
      "outputs": []
    },
    {
      "cell_type": "code",
      "source": [
        "val_error"
      ],
      "metadata": {
        "execution": {
          "iopub.status.busy": "2021-11-06T19:42:50.219138Z",
          "iopub.execute_input": "2021-11-06T19:42:50.219549Z",
          "iopub.status.idle": "2021-11-06T19:42:50.232643Z",
          "shell.execute_reply.started": "2021-11-06T19:42:50.219505Z",
          "shell.execute_reply": "2021-11-06T19:42:50.231584Z"
        },
        "trusted": true,
        "id": "G-7KFeOKwDiQ"
      },
      "execution_count": null,
      "outputs": []
    },
    {
      "cell_type": "markdown",
      "source": [
        "The following table shows the RMSE of train and validation sets for each of the 7 windows:"
      ],
      "metadata": {
        "id": "ElSOQ4NEwDiQ"
      }
    },
    {
      "cell_type": "code",
      "source": [
        "pd.concat([pd.DataFrame(train_error,columns=['train_error']),\n",
        "           pd.DataFrame(val_error,columns=['val_error']),\n",
        "           pd.DataFrame([5,8,10,15,20,30,40],columns=['window'])], axis=1).set_index('window')"
      ],
      "metadata": {
        "execution": {
          "iopub.status.busy": "2021-11-06T19:42:50.23431Z",
          "iopub.execute_input": "2021-11-06T19:42:50.234681Z",
          "iopub.status.idle": "2021-11-06T19:42:50.255917Z",
          "shell.execute_reply.started": "2021-11-06T19:42:50.234651Z",
          "shell.execute_reply": "2021-11-06T19:42:50.254919Z"
        },
        "trusted": true,
        "id": "P4NkR-K2wDiQ"
      },
      "execution_count": null,
      "outputs": []
    },
    {
      "cell_type": "markdown",
      "source": [
        "**Note: Each time that I ran the prior code of 7 windows the outcome was different**, but in general the behaviour was as in the table above, having window=10 the lowest RMSE for validation set. Thus this number was chosen as the best predictor. Even though before we have seen how for this value the shift was significant for all other windows this difference was much more, but there are still more hyperparameters to tune in order to improve the accuracy."
      ],
      "metadata": {
        "id": "GLZr87pdwDiQ"
      }
    },
    {
      "cell_type": "markdown",
      "source": [
        "## 2nd comparison:  \n",
        "One efficient way to improve the accuracy is by simply increasing the complexity of the model and this can be achieved adding more layers and more LSTM cells. Therefore in this step we will build a multilayered model and compare its performance with the prior.  \n",
        "Firstly, let's create again the training and validation sets for 10 windows to be used.\n"
      ],
      "metadata": {
        "id": "0DxC0KY3wDiQ"
      }
    },
    {
      "cell_type": "code",
      "source": [
        "window=10\n",
        "\n",
        "train_data = new_df[0:train_len]\n",
        "X_train=[]\n",
        "Y_train=[]\n",
        "for i in range(window, len(train_data)):\n",
        "    X_train.append(train_data[i-window:i])\n",
        "    Y_train.append(train_data[i])\n",
        "\n",
        "X_train, Y_train= np.array(X_train), np.array(Y_train)\n",
        "X_train = np.reshape(X_train, (X_train.shape[0], X_train.shape[1], 1))\n",
        "#____________________________________________________________________\n",
        "test_data = new_df[train_len-window:]\n",
        "X_val=[]\n",
        "Y_val=[] \n",
        "for i in range(window, len(test_data)):\n",
        "    X_val.append(test_data[i-window:i])\n",
        "    Y_val.append(test_data[i])\n",
        "    \n",
        "X_val, Y_val = np.array(X_val), np.array(Y_val)\n",
        "X_val = np.reshape(X_val, (X_val.shape[0], X_val.shape[1],1))"
      ],
      "metadata": {
        "execution": {
          "iopub.status.busy": "2021-11-06T19:42:50.257348Z",
          "iopub.execute_input": "2021-11-06T19:42:50.257805Z",
          "iopub.status.idle": "2021-11-06T19:42:50.512367Z",
          "shell.execute_reply.started": "2021-11-06T19:42:50.25776Z",
          "shell.execute_reply": "2021-11-06T19:42:50.511461Z"
        },
        "trusted": true,
        "id": "NAxkAQfowDiR"
      },
      "execution_count": null,
      "outputs": []
    },
    {
      "cell_type": "markdown",
      "source": [
        "The following is the architecture of the model to be used (2 LSTM layers and 2 hidden fully-connected layers), the optimizer is more specific and the number of epochs was increased to 100:"
      ],
      "metadata": {
        "id": "mnfqcGMgwDiR"
      }
    },
    {
      "cell_type": "code",
      "source": [
        "model=Sequential()\n",
        "model.add(LSTM(50,return_sequences=True, activation='relu', input_shape=(X_train.shape[1],1)))\n",
        "model.add(LSTM(50,return_sequences=False,activation='relu'))\n",
        "model.add(Dense(100))\n",
        "model.add(Dense(25))\n",
        "model.add(Dense(1))\n",
        "opt1=Adam(learning_rate=0.001,beta_1=0.9,beta_2=0.999)\n",
        "model.compile(loss='mean_squared_error', optimizer=opt1)\n",
        "model.summary()\n",
        "model.fit(X_train, Y_train, epochs=100, batch_size=10, verbose=0)"
      ],
      "metadata": {
        "execution": {
          "iopub.status.busy": "2021-11-06T19:42:50.513547Z",
          "iopub.execute_input": "2021-11-06T19:42:50.513834Z",
          "iopub.status.idle": "2021-11-06T19:44:54.834104Z",
          "shell.execute_reply.started": "2021-11-06T19:42:50.513806Z",
          "shell.execute_reply": "2021-11-06T19:44:54.83337Z"
        },
        "trusted": true,
        "id": "Irf0Z1qvwDiR"
      },
      "execution_count": null,
      "outputs": []
    },
    {
      "cell_type": "markdown",
      "source": [
        "In the summary above we can see that the total parameters of this new model is three times or even more than the prior which is indicative of the complexity and the time it takes to train."
      ],
      "metadata": {
        "id": "j95L3HZOwDiR"
      }
    },
    {
      "cell_type": "code",
      "source": [
        "lstm_train_pred = model.predict(X_train)\n",
        "lstm_valid_pred = model.predict(X_val)\n",
        "print('Train rmse:', np.sqrt(mean_squared_error(Y_train, lstm_train_pred)))\n",
        "print('Validation rmse:', np.sqrt(mean_squared_error(Y_val, lstm_valid_pred)))"
      ],
      "metadata": {
        "execution": {
          "iopub.status.busy": "2021-11-06T19:44:54.835114Z",
          "iopub.execute_input": "2021-11-06T19:44:54.835568Z",
          "iopub.status.idle": "2021-11-06T19:44:55.347284Z",
          "shell.execute_reply.started": "2021-11-06T19:44:54.835538Z",
          "shell.execute_reply": "2021-11-06T19:44:55.346084Z"
        },
        "trusted": true,
        "id": "zn804EhvwDiR"
      },
      "execution_count": null,
      "outputs": []
    },
    {
      "cell_type": "code",
      "source": [
        "valid = pd.DataFrame(new_df[train_len:])\n",
        "valid['Predictions']=lstm_valid_pred"
      ],
      "metadata": {
        "execution": {
          "iopub.status.busy": "2021-11-06T19:44:55.348753Z",
          "iopub.execute_input": "2021-11-06T19:44:55.349214Z",
          "iopub.status.idle": "2021-11-06T19:44:55.356339Z",
          "shell.execute_reply.started": "2021-11-06T19:44:55.349171Z",
          "shell.execute_reply": "2021-11-06T19:44:55.355173Z"
        },
        "trusted": true,
        "id": "VapTacgywDiR"
      },
      "execution_count": null,
      "outputs": []
    },
    {
      "cell_type": "code",
      "source": [
        "plt.plot(valid[['High','Predictions']])\n",
        "plt.legend(['Validation','Predictions'])\n",
        "plt.show()"
      ],
      "metadata": {
        "execution": {
          "iopub.status.busy": "2021-11-06T19:44:55.358048Z",
          "iopub.execute_input": "2021-11-06T19:44:55.358531Z",
          "iopub.status.idle": "2021-11-06T19:44:55.57825Z",
          "shell.execute_reply.started": "2021-11-06T19:44:55.3585Z",
          "shell.execute_reply": "2021-11-06T19:44:55.577311Z"
        },
        "trusted": true,
        "id": "QjBsZUL-wDiR"
      },
      "execution_count": null,
      "outputs": []
    },
    {
      "cell_type": "markdown",
      "source": [
        "Despite the fact that error metrics were lower than before in the plot above still can see a gap between the actual and predicted values. Again, I've found that each time I ran this model the results were different and the current output corresponds to the very best one, but in order to better vizualize this I will run 10 times the same model and compute the errors in each one."
      ],
      "metadata": {
        "id": "Zx2kxtoQwDiR"
      }
    },
    {
      "cell_type": "code",
      "source": [
        "r1=[]\n",
        "r2=[]\n",
        "\n",
        "for i in range(0,10):\n",
        "    model=Sequential()\n",
        "    model.add(LSTM(50,return_sequences=True, activation='relu', input_shape=(X_train.shape[1],1)))\n",
        "    model.add(LSTM(50,return_sequences=False,activation='relu'))\n",
        "    model.add(Dense(100))\n",
        "    model.add(Dense(25))\n",
        "    model.add(Dense(1))\n",
        "    opt1=Adam(learning_rate=0.001,beta_1=0.9,beta_2=0.999)\n",
        "    model.compile(loss='mean_squared_error', optimizer=opt1)\n",
        "    model.fit(X_train, Y_train, epochs=100, batch_size=10,verbose=0)\n",
        "\n",
        "    lstm_train_pred = model.predict(X_train)\n",
        "    lstm_valid_pred = model.predict(X_val)\n",
        "    r1.append(np.round(np.sqrt(mean_squared_error(Y_train, lstm_train_pred)),2))\n",
        "    r2.append(np.round(np.sqrt(mean_squared_error(Y_val, lstm_valid_pred)),2))"
      ],
      "metadata": {
        "execution": {
          "iopub.status.busy": "2021-11-06T19:44:55.579462Z",
          "iopub.execute_input": "2021-11-06T19:44:55.579773Z",
          "iopub.status.idle": "2021-11-06T20:05:39.602218Z",
          "shell.execute_reply.started": "2021-11-06T19:44:55.579738Z",
          "shell.execute_reply": "2021-11-06T20:05:39.601179Z"
        },
        "trusted": true,
        "id": "3yISqTIswDiR"
      },
      "execution_count": null,
      "outputs": []
    },
    {
      "cell_type": "markdown",
      "source": [
        "Below we can see the RMSE for each time, note that these are considerably different, being still more impactful in the validation set."
      ],
      "metadata": {
        "id": "AedQ7MSRwDiS"
      }
    },
    {
      "cell_type": "code",
      "source": [
        "r1, statistics.mean(r1), statistics.stdev(r1)"
      ],
      "metadata": {
        "execution": {
          "iopub.status.busy": "2021-11-06T20:05:39.603456Z",
          "iopub.execute_input": "2021-11-06T20:05:39.603772Z",
          "iopub.status.idle": "2021-11-06T20:05:39.61094Z",
          "shell.execute_reply.started": "2021-11-06T20:05:39.603742Z",
          "shell.execute_reply": "2021-11-06T20:05:39.609944Z"
        },
        "trusted": true,
        "id": "QWISw1oLwDiS"
      },
      "execution_count": null,
      "outputs": []
    },
    {
      "cell_type": "code",
      "source": [
        "r2, statistics.mean(r2), statistics.stdev(r2)"
      ],
      "metadata": {
        "execution": {
          "iopub.status.busy": "2021-11-06T20:05:39.61224Z",
          "iopub.execute_input": "2021-11-06T20:05:39.612565Z",
          "iopub.status.idle": "2021-11-06T20:05:39.627751Z",
          "shell.execute_reply.started": "2021-11-06T20:05:39.612537Z",
          "shell.execute_reply": "2021-11-06T20:05:39.626671Z"
        },
        "trusted": true,
        "id": "Vg3UYFkNwDiS"
      },
      "execution_count": null,
      "outputs": []
    },
    {
      "cell_type": "markdown",
      "source": [
        "We can see how validation errors are higher than training and also more spreaded because of such stardard deviation."
      ],
      "metadata": {
        "id": "5H0nnS4JwDiS"
      }
    },
    {
      "cell_type": "markdown",
      "source": [
        "## 3rd comparison:   \n",
        "As the validation errors were still considerably higher than training we think one reason could be due to overfitting and for this problem we have to add regularization to the model chosen by using Dropout after Fully Connected layers and LSTM cells. In this step we will run a regularized model again 10 times in order to see the variation in the results:"
      ],
      "metadata": {
        "id": "DTHpqmyBwDiS"
      }
    },
    {
      "cell_type": "code",
      "source": [
        "r1=[]\n",
        "r2=[]\n",
        "\n",
        "for i in range(0,10):\n",
        "    model=Sequential()\n",
        "    model.add(LSTM(50,return_sequences=True, activation='relu', input_shape=(X_train.shape[1],1),recurrent_dropout=0.2))\n",
        "    model.add(LSTM(50,return_sequences=False,activation='relu'))\n",
        "    model.add(Dense(100))\n",
        "    model.add(Dropout(0.2))\n",
        "    model.add(Dense(25))\n",
        "    model.add(Dense(1))\n",
        "    opt1=Adam(learning_rate=0.001,beta_1=0.9,beta_2=0.999)\n",
        "    model.compile(loss='mean_squared_error', optimizer=opt1)\n",
        "    model.fit(X_train, Y_train, epochs=100, batch_size=10,verbose=0)\n",
        "\n",
        "    lstm_train_pred = model.predict(X_train)\n",
        "    lstm_valid_pred = model.predict(X_val)\n",
        "    r1.append(np.round(np.sqrt(mean_squared_error(Y_train, lstm_train_pred)),2))\n",
        "    r2.append(np.round(np.sqrt(mean_squared_error(Y_val, lstm_valid_pred)),2))"
      ],
      "metadata": {
        "execution": {
          "iopub.status.busy": "2021-11-06T20:05:39.629251Z",
          "iopub.execute_input": "2021-11-06T20:05:39.629655Z",
          "iopub.status.idle": "2021-11-06T20:34:40.608591Z",
          "shell.execute_reply.started": "2021-11-06T20:05:39.629612Z",
          "shell.execute_reply": "2021-11-06T20:34:40.607758Z"
        },
        "trusted": true,
        "id": "hAkOGldGwDiS"
      },
      "execution_count": null,
      "outputs": []
    },
    {
      "cell_type": "code",
      "source": [
        "r1, statistics.mean(r1), statistics.stdev(r1)"
      ],
      "metadata": {
        "execution": {
          "iopub.status.busy": "2021-11-06T20:34:40.610215Z",
          "iopub.execute_input": "2021-11-06T20:34:40.61088Z",
          "iopub.status.idle": "2021-11-06T20:34:40.619784Z",
          "shell.execute_reply.started": "2021-11-06T20:34:40.610838Z",
          "shell.execute_reply": "2021-11-06T20:34:40.618826Z"
        },
        "trusted": true,
        "id": "t3Y1-nCVwDiS"
      },
      "execution_count": null,
      "outputs": []
    },
    {
      "cell_type": "code",
      "source": [
        "r2, statistics.mean(r2), statistics.stdev(r2)"
      ],
      "metadata": {
        "execution": {
          "iopub.status.busy": "2021-11-06T20:34:40.620986Z",
          "iopub.execute_input": "2021-11-06T20:34:40.621473Z",
          "iopub.status.idle": "2021-11-06T20:34:40.64125Z",
          "shell.execute_reply.started": "2021-11-06T20:34:40.621437Z",
          "shell.execute_reply": "2021-11-06T20:34:40.640286Z"
        },
        "trusted": true,
        "id": "H23MCdH4wDiS"
      },
      "execution_count": null,
      "outputs": []
    },
    {
      "cell_type": "markdown",
      "source": [
        "We can see above how these values either training or validation were higher than without dropout, which is definitely not good.  \n",
        "**Note:** Different levels of dropout were used above from 0.1 to 0.6 obtaining similar or higher errors. Now that we saw dropout did not reduce the errors we can not attribute the problem to overfitting and a different approach must be taken. For your consideration I have also changed the optimizer to Adadelta, Adamax, RMSProp and SGD but everyone had higher error or simply did not work, the activation function was changed to tanh and sigmoid obtaining similar errors.\n"
      ],
      "metadata": {
        "id": "74t73CYSwDiS"
      }
    },
    {
      "cell_type": "markdown",
      "source": [
        "## 4th comparison:  \n",
        "Until now every model built does not offer us a good accuracy, as we are dealing with the budget of a company this results can lead to a completely wrong decision, but as I said there is still a room of improvement and different approaches must be taken. We were forgeting the simplest type of RNN which is known for being more affected by vanishing gradient, however for our dataset it worked as follows (Again the model will be run 10 times):"
      ],
      "metadata": {
        "id": "kjVXdwebwDiT"
      }
    },
    {
      "cell_type": "code",
      "source": [
        "from keras.layers import SimpleRNN"
      ],
      "metadata": {
        "execution": {
          "iopub.status.busy": "2021-11-06T20:34:40.642762Z",
          "iopub.execute_input": "2021-11-06T20:34:40.643427Z",
          "iopub.status.idle": "2021-11-06T20:34:40.654347Z",
          "shell.execute_reply.started": "2021-11-06T20:34:40.643383Z",
          "shell.execute_reply": "2021-11-06T20:34:40.653563Z"
        },
        "trusted": true,
        "id": "UfWY58uRwDiT"
      },
      "execution_count": null,
      "outputs": []
    },
    {
      "cell_type": "code",
      "source": [
        "r1=[]\n",
        "r2=[]\n",
        "\n",
        "for i in range(0,10):\n",
        "    model=Sequential()\n",
        "    model.add(SimpleRNN(50,return_sequences=True, activation='relu', input_shape=(X_train.shape[1],1)))\n",
        "    model.add(SimpleRNN(50,return_sequences=False,activation='relu'))\n",
        "    model.add(Dense(100))\n",
        "    model.add(Dense(25))\n",
        "    model.add(Dense(1))\n",
        "    opt1=Adam(learning_rate=0.001,beta_1=0.9,beta_2=0.999)\n",
        "    model.compile(loss='mean_squared_error', optimizer=opt1)\n",
        "    model.fit(X_train, Y_train, epochs=100, batch_size=10,verbose=0)\n",
        "\n",
        "    lstm_train_pred = model.predict(X_train)\n",
        "    lstm_valid_pred = model.predict(X_val)\n",
        "    r1.append(np.round(np.sqrt(mean_squared_error(Y_train, lstm_train_pred)),2))\n",
        "    r2.append(np.round(np.sqrt(mean_squared_error(Y_val, lstm_valid_pred)),2))"
      ],
      "metadata": {
        "execution": {
          "iopub.status.busy": "2021-11-06T20:34:40.655483Z",
          "iopub.execute_input": "2021-11-06T20:34:40.655867Z",
          "iopub.status.idle": "2021-11-06T20:46:07.941394Z",
          "shell.execute_reply.started": "2021-11-06T20:34:40.655825Z",
          "shell.execute_reply": "2021-11-06T20:46:07.940215Z"
        },
        "trusted": true,
        "id": "qrzW91hXwDiT"
      },
      "execution_count": null,
      "outputs": []
    },
    {
      "cell_type": "code",
      "source": [
        "r1, statistics.mean(r1), statistics.stdev(r1)"
      ],
      "metadata": {
        "execution": {
          "iopub.status.busy": "2021-11-06T20:46:07.943044Z",
          "iopub.execute_input": "2021-11-06T20:46:07.943359Z",
          "iopub.status.idle": "2021-11-06T20:46:07.950895Z",
          "shell.execute_reply.started": "2021-11-06T20:46:07.94333Z",
          "shell.execute_reply": "2021-11-06T20:46:07.949826Z"
        },
        "trusted": true,
        "id": "6KWPOCrOwDiT"
      },
      "execution_count": null,
      "outputs": []
    },
    {
      "cell_type": "code",
      "source": [
        "r2, statistics.mean(r2), statistics.stdev(r2)"
      ],
      "metadata": {
        "execution": {
          "iopub.status.busy": "2021-11-06T20:46:07.952516Z",
          "iopub.execute_input": "2021-11-06T20:46:07.952939Z",
          "iopub.status.idle": "2021-11-06T20:46:07.968534Z",
          "shell.execute_reply.started": "2021-11-06T20:46:07.952896Z",
          "shell.execute_reply": "2021-11-06T20:46:07.967232Z"
        },
        "trusted": true,
        "id": "5huPy7VWwDiT"
      },
      "execution_count": null,
      "outputs": []
    },
    {
      "cell_type": "markdown",
      "source": [
        "**Wow!, even less than half the prior error metrics and what is more important is the fact that stardard deviation is much lower, which tells us that the model offer a more stable performance using RNNs rather than LSTMs.**  \n",
        "Translating this to a more meaningful way the average error in the validation set reaches 41 USD with a std a bit higher than 4 USD.   \n",
        "Let's plot the actual and predicted values for the validation set and see how reduced was the 'shift':"
      ],
      "metadata": {
        "id": "L9JBIZklwDiT"
      }
    },
    {
      "cell_type": "code",
      "source": [
        "valid = pd.DataFrame(new_df[train_len:])\n",
        "valid['Predictions']=lstm_valid_pred\n",
        "valid"
      ],
      "metadata": {
        "execution": {
          "iopub.status.busy": "2021-11-06T20:46:07.970263Z",
          "iopub.execute_input": "2021-11-06T20:46:07.971398Z",
          "iopub.status.idle": "2021-11-06T20:46:07.995759Z",
          "shell.execute_reply.started": "2021-11-06T20:46:07.971357Z",
          "shell.execute_reply": "2021-11-06T20:46:07.99458Z"
        },
        "trusted": true,
        "id": "3VndZ42RwDiT"
      },
      "execution_count": null,
      "outputs": []
    },
    {
      "cell_type": "code",
      "source": [
        "plt.plot(valid[['High','Predictions']])\n",
        "plt.legend(['Validation','Predictions'])\n",
        "plt.show()"
      ],
      "metadata": {
        "execution": {
          "iopub.status.busy": "2021-11-06T20:46:07.999467Z",
          "iopub.execute_input": "2021-11-06T20:46:07.999826Z",
          "iopub.status.idle": "2021-11-06T20:46:08.22123Z",
          "shell.execute_reply.started": "2021-11-06T20:46:07.999784Z",
          "shell.execute_reply": "2021-11-06T20:46:08.220036Z"
        },
        "trusted": true,
        "id": "33IQuR0fwDiT"
      },
      "execution_count": null,
      "outputs": []
    },
    {
      "cell_type": "markdown",
      "source": [
        "Clearly, the gap was reduced significantly and the predicted curve even responded quickly to the 'high frequencies' or a.k.a. ripple in the actual curve. As this model corresponds to the best one we will continue working with this.\n",
        "\n",
        "In order to get a bit better results from the previous model I will use a callback to find the learning rate wich offers the lowest MSE loss. I have already shorten the range to [1e-5 - 1e-3] and found that around 1e-4 and beta2 = 0.7 occurrs the lowest error, therefore these were chosen to rebuild the model:"
      ],
      "metadata": {
        "id": "w3KAkXF1wDiU"
      }
    },
    {
      "cell_type": "code",
      "source": [
        "import tensorflow \n",
        "\n",
        "r1=[]\n",
        "r2=[]\n",
        "\n",
        "model=Sequential()\n",
        "model.add(SimpleRNN(50,return_sequences=True, activation='relu', input_shape=(X_train.shape[1],1)))\n",
        "model.add(SimpleRNN(50,return_sequences=False,activation='relu'))\n",
        "model.add(Dense(100))\n",
        "model.add(Dense(25))\n",
        "model.add(Dense(1))\n",
        "lr_schedule = tensorflow.keras.callbacks.LearningRateScheduler(\n",
        "    lambda epoch: 1e-5 * 10**(epoch / 85))\n",
        "opt1=Adam(learning_rate=1e-5,beta_1=0.9,beta_2=0.7)\n",
        "model.compile(loss='mean_squared_error', optimizer=opt1)\n",
        "history=model.fit(X_train, Y_train, epochs=100, batch_size=10,verbose=2, callbacks=[lr_schedule])\n",
        "\n",
        "lstm_train_pred = model.predict(X_train)\n",
        "lstm_valid_pred = model.predict(X_val)\n",
        "r_train_new=np.round(np.sqrt(mean_squared_error(Y_train, lstm_train_pred)),2)\n",
        "r_val_new=np.round(np.sqrt(mean_squared_error(Y_val, lstm_valid_pred)),2)"
      ],
      "metadata": {
        "execution": {
          "iopub.status.busy": "2021-11-06T20:48:08.360235Z",
          "iopub.execute_input": "2021-11-06T20:48:08.360741Z",
          "iopub.status.idle": "2021-11-06T20:49:16.722492Z",
          "shell.execute_reply.started": "2021-11-06T20:48:08.360675Z",
          "shell.execute_reply": "2021-11-06T20:49:16.721454Z"
        },
        "trusted": true,
        "id": "Qa6n1nqKwDiU"
      },
      "execution_count": null,
      "outputs": []
    },
    {
      "cell_type": "code",
      "source": [
        "plt.semilogx(history.history[\"lr\"], history.history[\"loss\"])\n",
        "plt.axis([1e-5, 5e-4, 0, 1000])"
      ],
      "metadata": {
        "execution": {
          "iopub.status.busy": "2021-11-06T20:49:16.723762Z",
          "iopub.execute_input": "2021-11-06T20:49:16.724041Z",
          "iopub.status.idle": "2021-11-06T20:49:17.197514Z",
          "shell.execute_reply.started": "2021-11-06T20:49:16.724013Z",
          "shell.execute_reply": "2021-11-06T20:49:17.196526Z"
        },
        "trusted": true,
        "id": "Fy1apxXEwDiU"
      },
      "execution_count": null,
      "outputs": []
    },
    {
      "cell_type": "markdown",
      "source": [
        "Now that I have the best hyperparameters I will build again the model and evaluate its performance 15 times:"
      ],
      "metadata": {
        "id": "Qlwz1uO_wDiU"
      }
    },
    {
      "cell_type": "code",
      "source": [
        "r1=[]\n",
        "r2=[]\n",
        "\n",
        "for i in range(0,10):\n",
        "    model=Sequential()\n",
        "    model.add(SimpleRNN(50,return_sequences=True, activation='relu', input_shape=(X_train.shape[1],1)))\n",
        "    model.add(SimpleRNN(50,return_sequences=False,activation='relu'))\n",
        "    model.add(Dense(100))\n",
        "    model.add(Dense(25))\n",
        "    model.add(Dense(1))\n",
        "    opt1=Adam(learning_rate=1e-4,beta_1=0.9,beta_2=0.7)\n",
        "    model.compile(loss='mean_squared_error', optimizer=opt1)\n",
        "    model.fit(X_train, Y_train, epochs=100, batch_size=10,verbose=0)\n",
        "\n",
        "    lstm_train_pred = model.predict(X_train)\n",
        "    lstm_valid_pred = model.predict(X_val)\n",
        "    r1.append(np.round(np.sqrt(mean_squared_error(Y_train, lstm_train_pred)),2))\n",
        "    r2.append(np.round(np.sqrt(mean_squared_error(Y_val, lstm_valid_pred)),2))"
      ],
      "metadata": {
        "execution": {
          "iopub.status.busy": "2021-11-06T21:31:30.334104Z",
          "iopub.execute_input": "2021-11-06T21:31:30.334507Z",
          "iopub.status.idle": "2021-11-06T21:42:53.249731Z",
          "shell.execute_reply.started": "2021-11-06T21:31:30.334473Z",
          "shell.execute_reply": "2021-11-06T21:42:53.248777Z"
        },
        "trusted": true,
        "id": "whMaOcgGwDiU"
      },
      "execution_count": null,
      "outputs": []
    },
    {
      "cell_type": "code",
      "source": [
        "r1, statistics.mean(r1), statistics.stdev(r1)"
      ],
      "metadata": {
        "execution": {
          "iopub.status.busy": "2021-11-06T21:42:53.251168Z",
          "iopub.execute_input": "2021-11-06T21:42:53.251451Z",
          "iopub.status.idle": "2021-11-06T21:42:53.259011Z",
          "shell.execute_reply.started": "2021-11-06T21:42:53.251424Z",
          "shell.execute_reply": "2021-11-06T21:42:53.258021Z"
        },
        "trusted": true,
        "id": "3R_DsgchwDiU"
      },
      "execution_count": null,
      "outputs": []
    },
    {
      "cell_type": "code",
      "source": [
        "r2, statistics.mean(r2), statistics.stdev(r2)"
      ],
      "metadata": {
        "execution": {
          "iopub.status.busy": "2021-11-06T21:42:53.260935Z",
          "iopub.execute_input": "2021-11-06T21:42:53.261348Z",
          "iopub.status.idle": "2021-11-06T21:42:53.27851Z",
          "shell.execute_reply.started": "2021-11-06T21:42:53.261308Z",
          "shell.execute_reply": "2021-11-06T21:42:53.277604Z"
        },
        "trusted": true,
        "id": "1S9d_lGnwDiU"
      },
      "execution_count": null,
      "outputs": []
    },
    {
      "cell_type": "markdown",
      "source": [
        "The four metrics were reduced by chosing the right learning rate and betas, this made our model a bit more reliable as we will see next in the prediction:"
      ],
      "metadata": {
        "id": "jilPcxQowDiU"
      }
    },
    {
      "cell_type": "code",
      "source": [
        "valid = pd.DataFrame(new_df[train_len:])\n",
        "valid['Predictions']=lstm_valid_pred\n",
        "valid"
      ],
      "metadata": {
        "execution": {
          "iopub.status.busy": "2021-11-06T21:45:16.322557Z",
          "iopub.execute_input": "2021-11-06T21:45:16.322993Z",
          "iopub.status.idle": "2021-11-06T21:45:16.343673Z",
          "shell.execute_reply.started": "2021-11-06T21:45:16.322956Z",
          "shell.execute_reply": "2021-11-06T21:45:16.342504Z"
        },
        "trusted": true,
        "id": "gNAZuNPAwDiU"
      },
      "execution_count": null,
      "outputs": []
    },
    {
      "cell_type": "code",
      "source": [
        "plt.plot(valid[['High','Predictions']])\n",
        "plt.legend(['Validation','Predictions'])\n",
        "plt.show()"
      ],
      "metadata": {
        "execution": {
          "iopub.status.busy": "2021-11-06T21:45:25.859896Z",
          "iopub.execute_input": "2021-11-06T21:45:25.860304Z",
          "iopub.status.idle": "2021-11-06T21:45:26.080235Z",
          "shell.execute_reply.started": "2021-11-06T21:45:25.86027Z",
          "shell.execute_reply": "2021-11-06T21:45:26.079109Z"
        },
        "trusted": true,
        "id": "dqxZilM0wDiU"
      },
      "execution_count": null,
      "outputs": []
    },
    {
      "cell_type": "markdown",
      "source": [
        "# Predicting 'future' values: "
      ],
      "metadata": {
        "id": "_U2ll0q9wDiV"
      }
    },
    {
      "cell_type": "markdown",
      "source": [
        "As we have values until 16-11-2020 we can predict the next one using the model built and compare the outcome with the actual value saved in the original dataframe 'df':"
      ],
      "metadata": {
        "id": "UkLJCJ9hwDiV"
      }
    },
    {
      "cell_type": "code",
      "source": [
        "last_10_days=new_df[-10:].values\n",
        "X_test=[]\n",
        "X_test.append(last_10_days)\n",
        "X_test=np.array(X_test)\n",
        "X_test=np.reshape(X_test,(X_test.shape[0],X_test.shape[1],1))\n",
        "pred_price=model.predict(X_test)\n",
        "print(pred_price)"
      ],
      "metadata": {
        "execution": {
          "iopub.status.busy": "2021-11-06T21:53:00.230991Z",
          "iopub.execute_input": "2021-11-06T21:53:00.231446Z",
          "iopub.status.idle": "2021-11-06T21:53:00.288005Z",
          "shell.execute_reply.started": "2021-11-06T21:53:00.231409Z",
          "shell.execute_reply": "2021-11-06T21:53:00.28646Z"
        },
        "trusted": true,
        "id": "C-QoPKufwDiV"
      },
      "execution_count": null,
      "outputs": []
    },
    {
      "cell_type": "markdown",
      "source": [
        "Now, let's find the corresponding actual value in df:"
      ],
      "metadata": {
        "id": "uRILBsYzwDiV"
      }
    },
    {
      "cell_type": "code",
      "source": [
        "df['High'].iloc[-4]"
      ],
      "metadata": {
        "execution": {
          "iopub.status.busy": "2021-11-06T21:53:11.306035Z",
          "iopub.execute_input": "2021-11-06T21:53:11.306448Z",
          "iopub.status.idle": "2021-11-06T21:53:11.314217Z",
          "shell.execute_reply.started": "2021-11-06T21:53:11.306413Z",
          "shell.execute_reply": "2021-11-06T21:53:11.313295Z"
        },
        "trusted": true,
        "id": "Nu44G5nGwDiV"
      },
      "execution_count": null,
      "outputs": []
    },
    {
      "cell_type": "markdown",
      "source": [
        "The difference is less than $18 USD and the model seems to be working very good."
      ],
      "metadata": {
        "id": "L26nvFQHwDiV"
      }
    },
    {
      "cell_type": "code",
      "source": [
        "df['High'].iloc[-4]-pred_price"
      ],
      "metadata": {
        "execution": {
          "iopub.status.busy": "2021-11-06T21:53:25.560414Z",
          "iopub.execute_input": "2021-11-06T21:53:25.560821Z",
          "iopub.status.idle": "2021-11-06T21:53:25.568996Z",
          "shell.execute_reply.started": "2021-11-06T21:53:25.560782Z",
          "shell.execute_reply": "2021-11-06T21:53:25.568018Z"
        },
        "trusted": true,
        "id": "XKFIFyXNwDiV"
      },
      "execution_count": null,
      "outputs": []
    },
    {
      "cell_type": "markdown",
      "source": [
        "Predicting 4 future values:"
      ],
      "metadata": {
        "id": "XmVEX0xWwDiV"
      }
    },
    {
      "cell_type": "code",
      "source": [
        "df.High.tail(14)"
      ],
      "metadata": {
        "execution": {
          "iopub.status.busy": "2021-11-06T21:53:48.126391Z",
          "iopub.execute_input": "2021-11-06T21:53:48.126996Z",
          "iopub.status.idle": "2021-11-06T21:53:48.135015Z",
          "shell.execute_reply.started": "2021-11-06T21:53:48.126957Z",
          "shell.execute_reply": "2021-11-06T21:53:48.134137Z"
        },
        "trusted": true,
        "id": "u8GtndtbwDiV"
      },
      "execution_count": null,
      "outputs": []
    },
    {
      "cell_type": "markdown",
      "source": [
        "Above, the last 4 values correspond to the actual values we want to predict, and the time steps used does not comprehend these rather will be used the predicted ones as we run the model.  \n",
        "As we predicted one value (pred_price) the time steps used to predict a new one will take the last 9 of new_df and pred_price, as follows:"
      ],
      "metadata": {
        "id": "aD3qbT1vwDiW"
      }
    },
    {
      "cell_type": "code",
      "source": [
        "last_9_days=new_df[-9:].values\n",
        "X_test=[]\n",
        "X_test=np.append(last_9_days,pred_price)\n",
        "X_test=np.array(X_test)\n",
        "X_test\n",
        "X_test=np.reshape(X_test,(1,X_test.shape[0],1))\n",
        "pred_price2=model.predict(X_test)\n",
        "print(pred_price2)"
      ],
      "metadata": {
        "execution": {
          "iopub.status.busy": "2021-11-06T21:53:55.505464Z",
          "iopub.execute_input": "2021-11-06T21:53:55.505888Z",
          "iopub.status.idle": "2021-11-06T21:53:55.557399Z",
          "shell.execute_reply.started": "2021-11-06T21:53:55.505854Z",
          "shell.execute_reply": "2021-11-06T21:53:55.556295Z"
        },
        "trusted": true,
        "id": "KcKgQvf1wDiW"
      },
      "execution_count": null,
      "outputs": []
    },
    {
      "cell_type": "markdown",
      "source": [
        "Nice!, let's see what was the actual value:"
      ],
      "metadata": {
        "id": "KQM4r64owDiW"
      }
    },
    {
      "cell_type": "code",
      "source": [
        "df['High'].iloc[-3]"
      ],
      "metadata": {
        "execution": {
          "iopub.status.busy": "2021-11-06T21:53:56.867009Z",
          "iopub.execute_input": "2021-11-06T21:53:56.867515Z",
          "iopub.status.idle": "2021-11-06T21:53:56.875484Z",
          "shell.execute_reply.started": "2021-11-06T21:53:56.867479Z",
          "shell.execute_reply": "2021-11-06T21:53:56.874334Z"
        },
        "trusted": true,
        "id": "lXUJ_SS4wDiW"
      },
      "execution_count": null,
      "outputs": []
    },
    {
      "cell_type": "markdown",
      "source": [
        "This time the difference was:"
      ],
      "metadata": {
        "id": "ZGnIUhZAwDiW"
      }
    },
    {
      "cell_type": "code",
      "source": [
        "df['High'].iloc[-3]-pred_price2"
      ],
      "metadata": {
        "execution": {
          "iopub.status.busy": "2021-11-06T21:54:00.224947Z",
          "iopub.execute_input": "2021-11-06T21:54:00.22531Z",
          "iopub.status.idle": "2021-11-06T21:54:00.232363Z",
          "shell.execute_reply.started": "2021-11-06T21:54:00.22528Z",
          "shell.execute_reply": "2021-11-06T21:54:00.231096Z"
        },
        "trusted": true,
        "id": "CJMvGhOKwDiW"
      },
      "execution_count": null,
      "outputs": []
    },
    {
      "cell_type": "markdown",
      "source": [
        "To compute a new prediction let's use the same logic as before:"
      ],
      "metadata": {
        "id": "-CV2E8ggwDiW"
      }
    },
    {
      "cell_type": "code",
      "source": [
        "last_8_days=new_df[-8:].values\n",
        "X_test=[]\n",
        "X_test=np.append(last_8_days,pred_price)\n",
        "X_test=np.append(X_test,pred_price2)\n",
        "X_test=np.array(X_test)\n",
        "X_test\n",
        "X_test=np.reshape(X_test,(1,X_test.shape[0],1))\n",
        "pred_price3=model.predict(X_test)\n",
        "print(pred_price3)"
      ],
      "metadata": {
        "execution": {
          "iopub.status.busy": "2021-11-06T21:54:25.199623Z",
          "iopub.execute_input": "2021-11-06T21:54:25.199995Z",
          "iopub.status.idle": "2021-11-06T21:54:25.252722Z",
          "shell.execute_reply.started": "2021-11-06T21:54:25.199963Z",
          "shell.execute_reply": "2021-11-06T21:54:25.25161Z"
        },
        "trusted": true,
        "id": "ube6iwavwDiW"
      },
      "execution_count": null,
      "outputs": []
    },
    {
      "cell_type": "markdown",
      "source": [
        "Actual value:"
      ],
      "metadata": {
        "id": "1iCWdGyUwDiW"
      }
    },
    {
      "cell_type": "code",
      "source": [
        "df['High'].iloc[-2]"
      ],
      "metadata": {
        "execution": {
          "iopub.status.busy": "2021-11-06T21:54:26.678916Z",
          "iopub.execute_input": "2021-11-06T21:54:26.679437Z",
          "iopub.status.idle": "2021-11-06T21:54:26.691547Z",
          "shell.execute_reply.started": "2021-11-06T21:54:26.679391Z",
          "shell.execute_reply": "2021-11-06T21:54:26.690394Z"
        },
        "trusted": true,
        "id": "9GbTiHAEwDiW"
      },
      "execution_count": null,
      "outputs": []
    },
    {
      "cell_type": "markdown",
      "source": [
        "Difference: "
      ],
      "metadata": {
        "id": "yqfPO0SrwDiW"
      }
    },
    {
      "cell_type": "code",
      "source": [
        "df['High'].iloc[-2]-pred_price3"
      ],
      "metadata": {
        "execution": {
          "iopub.status.busy": "2021-11-06T21:54:27.915496Z",
          "iopub.execute_input": "2021-11-06T21:54:27.915863Z",
          "iopub.status.idle": "2021-11-06T21:54:27.923666Z",
          "shell.execute_reply.started": "2021-11-06T21:54:27.91583Z",
          "shell.execute_reply": "2021-11-06T21:54:27.922575Z"
        },
        "trusted": true,
        "id": "wDgDWPWAwDiX"
      },
      "execution_count": null,
      "outputs": []
    },
    {
      "cell_type": "code",
      "source": [
        "last_7_days=new_df[-7:].values\n",
        "X_test=[]\n",
        "X_test=np.append(last_7_days, pred_price)\n",
        "X_test=np.append(X_test, pred_price2)\n",
        "X_test=np.append(X_test, pred_price3)\n",
        "X_test=np.array(X_test)\n",
        "X_test\n",
        "X_test=np.reshape(X_test,(1,X_test.shape[0],1))\n",
        "pred_price4=model.predict(X_test)\n",
        "print(pred_price4)"
      ],
      "metadata": {
        "execution": {
          "iopub.status.busy": "2021-11-06T21:54:56.343228Z",
          "iopub.execute_input": "2021-11-06T21:54:56.343947Z",
          "iopub.status.idle": "2021-11-06T21:54:56.401004Z",
          "shell.execute_reply.started": "2021-11-06T21:54:56.343903Z",
          "shell.execute_reply": "2021-11-06T21:54:56.399771Z"
        },
        "trusted": true,
        "id": "ufT2tdTywDiX"
      },
      "execution_count": null,
      "outputs": []
    },
    {
      "cell_type": "code",
      "source": [
        "df['High'].iloc[-1]"
      ],
      "metadata": {
        "execution": {
          "iopub.status.busy": "2021-11-06T21:54:56.731357Z",
          "iopub.execute_input": "2021-11-06T21:54:56.731778Z",
          "iopub.status.idle": "2021-11-06T21:54:56.739724Z",
          "shell.execute_reply.started": "2021-11-06T21:54:56.731745Z",
          "shell.execute_reply": "2021-11-06T21:54:56.738609Z"
        },
        "trusted": true,
        "id": "V6ZzQTdHwDiX"
      },
      "execution_count": null,
      "outputs": []
    },
    {
      "cell_type": "code",
      "source": [
        "df['High'].iloc[-1]-pred_price4"
      ],
      "metadata": {
        "execution": {
          "iopub.status.busy": "2021-11-06T21:54:56.9981Z",
          "iopub.execute_input": "2021-11-06T21:54:56.998451Z",
          "iopub.status.idle": "2021-11-06T21:54:57.006059Z",
          "shell.execute_reply.started": "2021-11-06T21:54:56.998421Z",
          "shell.execute_reply": "2021-11-06T21:54:57.004779Z"
        },
        "trusted": true,
        "id": "780uhDmhwDiX"
      },
      "execution_count": null,
      "outputs": []
    },
    {
      "cell_type": "markdown",
      "source": [
        "Now, let's see the four actual and predicted future values:"
      ],
      "metadata": {
        "id": "Mgpui87awDiX"
      }
    },
    {
      "cell_type": "code",
      "source": [
        "df.High.iloc[-4], df.High.iloc[-3], df.High.iloc[-2], df.High.iloc[-1]"
      ],
      "metadata": {
        "execution": {
          "iopub.status.busy": "2021-11-06T21:55:23.907062Z",
          "iopub.execute_input": "2021-11-06T21:55:23.907627Z",
          "iopub.status.idle": "2021-11-06T21:55:23.916476Z",
          "shell.execute_reply.started": "2021-11-06T21:55:23.907576Z",
          "shell.execute_reply": "2021-11-06T21:55:23.915149Z"
        },
        "trusted": true,
        "id": "JVTWNT3XwDiX"
      },
      "execution_count": null,
      "outputs": []
    },
    {
      "cell_type": "code",
      "source": [
        "pred_price, pred_price2, pred_price3, pred_price4"
      ],
      "metadata": {
        "execution": {
          "iopub.status.busy": "2021-11-06T21:55:24.299843Z",
          "iopub.execute_input": "2021-11-06T21:55:24.300194Z",
          "iopub.status.idle": "2021-11-06T21:55:24.307538Z",
          "shell.execute_reply.started": "2021-11-06T21:55:24.300164Z",
          "shell.execute_reply": "2021-11-06T21:55:24.306358Z"
        },
        "trusted": true,
        "id": "D9cOK4E9wDiX"
      },
      "execution_count": null,
      "outputs": []
    },
    {
      "cell_type": "markdown",
      "source": [
        "The following code will help us visualize these values in a table and plot:"
      ],
      "metadata": {
        "id": "dCAVpK3BwDiX"
      }
    },
    {
      "cell_type": "code",
      "source": [
        "actual_prices=np.array([df.High.iloc[-4], df.High.iloc[-3], df.High.iloc[-2], df.High.iloc[-1]])\n",
        "pred_prices=np.array([float(pred_price),float(pred_price2),float(pred_price3),float(pred_price4)])"
      ],
      "metadata": {
        "execution": {
          "iopub.status.busy": "2021-11-06T21:55:28.565872Z",
          "iopub.execute_input": "2021-11-06T21:55:28.566262Z",
          "iopub.status.idle": "2021-11-06T21:55:28.572546Z",
          "shell.execute_reply.started": "2021-11-06T21:55:28.566229Z",
          "shell.execute_reply": "2021-11-06T21:55:28.571438Z"
        },
        "trusted": true,
        "id": "efM0Kt21wDiX"
      },
      "execution_count": null,
      "outputs": []
    },
    {
      "cell_type": "code",
      "source": [
        "actual_prices, pred_prices"
      ],
      "metadata": {
        "execution": {
          "iopub.status.busy": "2021-11-06T21:55:29.416775Z",
          "iopub.execute_input": "2021-11-06T21:55:29.41728Z",
          "iopub.status.idle": "2021-11-06T21:55:29.424931Z",
          "shell.execute_reply.started": "2021-11-06T21:55:29.417249Z",
          "shell.execute_reply": "2021-11-06T21:55:29.42385Z"
        },
        "trusted": true,
        "id": "oW3kYmKvwDiX"
      },
      "execution_count": null,
      "outputs": []
    },
    {
      "cell_type": "code",
      "source": [
        "data={'Actual values':[df.High.iloc[-4],df.High.iloc[-3],df.High.iloc[-2],df.High.iloc[-1]],\n",
        "      'Predicted values':[float(pred_price),float(pred_price2),float(pred_price3),float(pred_price4)]}\n",
        "\n",
        "pd.DataFrame(data, index=['2020-11-17','2020-11-18','2020-11-19','2020-11-20'])"
      ],
      "metadata": {
        "execution": {
          "iopub.status.busy": "2021-11-06T21:55:31.388694Z",
          "iopub.execute_input": "2021-11-06T21:55:31.389059Z",
          "iopub.status.idle": "2021-11-06T21:55:31.405616Z",
          "shell.execute_reply.started": "2021-11-06T21:55:31.389029Z",
          "shell.execute_reply": "2021-11-06T21:55:31.404546Z"
        },
        "trusted": true,
        "id": "52WeTtPKwDiY"
      },
      "execution_count": null,
      "outputs": []
    },
    {
      "cell_type": "code",
      "source": [
        "fut=pd.DataFrame(data, index=['2020-11-17','2020-11-18','2020-11-19','2020-11-20']).plot()\n",
        "fut.set(ylim=(3540,3700))"
      ],
      "metadata": {
        "execution": {
          "iopub.status.busy": "2021-11-06T21:55:58.605347Z",
          "iopub.execute_input": "2021-11-06T21:55:58.605785Z",
          "iopub.status.idle": "2021-11-06T21:55:58.830237Z",
          "shell.execute_reply.started": "2021-11-06T21:55:58.605748Z",
          "shell.execute_reply": "2021-11-06T21:55:58.829021Z"
        },
        "trusted": true,
        "id": "oflTr2vRwDiY"
      },
      "execution_count": null,
      "outputs": []
    },
    {
      "cell_type": "markdown",
      "source": [
        "The plot above shows how sidetracked our prediction is from the actual values, this will impact our conclussion about complexity of model vs reliable forecasting, now will be computed the correspoding RMSE to see this difference quantified:"
      ],
      "metadata": {
        "id": "F5H-OyBEwDiY"
      }
    },
    {
      "cell_type": "code",
      "source": [
        "np.round(np.sqrt(mean_squared_error(actual_prices, pred_prices)),2)"
      ],
      "metadata": {
        "execution": {
          "iopub.status.busy": "2021-11-06T21:58:11.11392Z",
          "iopub.execute_input": "2021-11-06T21:58:11.114324Z",
          "iopub.status.idle": "2021-11-06T21:58:11.123392Z",
          "shell.execute_reply.started": "2021-11-06T21:58:11.114293Z",
          "shell.execute_reply": "2021-11-06T21:58:11.122157Z"
        },
        "trusted": true,
        "id": "h40E8ClswDiY"
      },
      "execution_count": null,
      "outputs": []
    },
    {
      "cell_type": "markdown",
      "source": [
        "## Key findings:  \n",
        "Definitely Time-series forecasting is incredibly complex, despite the fact that using Deep Learning approaches somehow increases the accuracy it also makes more difficult the interpretability and particularly for this dataset it did not work stably, I mean every time I run this code the results were much significantly different, even more than what I am used to see. Nevertheless is the long time it took to train the models and in order to build a more complex architecture as a hypothesis to increase accuracy it must be taken into account.  \n",
        "\n",
        "One outstanding detail about the performance of the best model chosen is the low variance in the error metrics, which makes this the most stable system and gave us the key factor in this project. Also the gap seems to have been dropped to an insignificant level, but do not misinterpret this as looking at the plot both curves looks almost the same, however they have a big difference quantified as RMSE reaching 40 USD which makes a big difference in the budget.  \n",
        "\n",
        "The prediction of 'future' values is a task whose risk increases exponentially as we want to predict more time steps becoming non-reliable, this is because we are comprehending predicted values which obviously has certain error and trying to predict new ones adds even more error in this case 'additive'. Once we understand this effect in our context would not be recommended to predict more than two time steps so as to not lead to wrong decisions. \n",
        "\n",
        "In the last plot of actual and predicted future values shows that our prediction had a linear behaviour keeping a constant slope through time which indicates the model needs some regularization or dropout which could add non-linearity. This idea was implemented to the current best model, but the result were horribly bad, even worse than LSTMs using Dropout, making us again take different approaches if we wish to improve the model.  \n",
        "\n",
        "Finally, the current model is only recommended for learning purposes as particularly I would not use it to predict economical indicators of any company, having said this the model and work achieved can be extrapolated to the other 3 indicators in the original dataset. \n"
      ],
      "metadata": {
        "id": "z7LEhS5hwDiY"
      }
    },
    {
      "cell_type": "markdown",
      "source": [
        "## Suggestions:  \n",
        "Having the scope of improve the prediction I would take into account some approaches of Linear Regression as these comprehend several features ideally highly correlated to the label, so a good idea and future work would be to implement or combine Lasso/Ridge Regression with Time-Series Forecasting. I am relatively novice in ML, really don't know if this already exist, but in the following weeks I will be researching more to do exactly this."
      ],
      "metadata": {
        "id": "O4tWssdywDiY"
      }
    },
    {
      "cell_type": "code",
      "source": [],
      "metadata": {
        "id": "FDT2IGTZwDiY"
      },
      "execution_count": null,
      "outputs": []
    }
  ]
}